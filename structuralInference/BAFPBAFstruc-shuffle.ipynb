{
 "cells": [
  {
   "cell_type": "markdown",
   "metadata": {},
   "source": [
    "# Preambule"
   ]
  },
  {
   "cell_type": "markdown",
   "metadata": {},
   "source": [
    "### Import and parameters initialization"
   ]
  },
  {
   "cell_type": "code",
   "execution_count": null,
   "metadata": {},
   "outputs": [],
   "source": [
    "using CSV, DataFrames, StatsBase, Plotly, LightGraphs, GraphIO, Distributions"
   ]
  },
  {
   "cell_type": "code",
   "execution_count": null,
   "metadata": {},
   "outputs": [],
   "source": [
    "global const ALPHA = 0.01\n",
    "global const NBSHUFFLE = 1000000"
   ]
  },
  {
   "cell_type": "code",
   "execution_count": null,
   "metadata": {},
   "outputs": [],
   "source": [
    "srand(1)"
   ]
  },
  {
   "cell_type": "markdown",
   "metadata": {},
   "source": [
    "### Modified export functions"
   ]
  },
  {
   "cell_type": "code",
   "execution_count": null,
   "metadata": {},
   "outputs": [],
   "source": [
    "\"\"\"\n",
    "Modified from GraphIO.jl\n",
    "Write a graph `g` with node labels `nlabs` given in a dictionary to an IO stream `io` in the\n",
    "[GML](https://en.wikipedia.org/wiki/Graph_Modelling_Language) format. Return 1.\n",
    "\"\"\"\n",
    "function saveLabeledGml(io::IO, g::LightGraphs.AbstractGraph, nlabs::Dict{Int64,String})\n",
    "    println(io, \"graph\")\n",
    "    println(io, \"[\")\n",
    "    is_directed(g) && println(io, \"directed 1\")\n",
    "    for i = 1:nv(g)\n",
    "        println(io, \"\\tnode\")\n",
    "        println(io, \"\\t[\")\n",
    "        println(io, \"\\t\\tid $i\")\n",
    "        println(io, \"\\t\\tlabel \\\"\", nlabs[i], '\"')\n",
    "        println(io, \"\\t]\")\n",
    "    end\n",
    "    for e in LightGraphs.edges(g)\n",
    "        s, t = Tuple(e)\n",
    "        println(io, \"\\tedge\")\n",
    "        println(io, \"\\t[\")\n",
    "        println(io, \"\\t\\tsource $s\")\n",
    "        println(io, \"\\t\\ttarget $t\")\n",
    "        println(io, \"\\t]\")\n",
    "    end\n",
    "    println(io, \"]\")\n",
    "    return 1\n",
    "end\n",
    "\n",
    "\"\"\"\n",
    "Modified from GraphIO.jl\n",
    "Write a graph `g` with node labels `nlabs` and edge labels\n",
    "'elabs' given in two dictionaries to an IO stream `io` in the\n",
    "[GML](https://en.wikipedia.org/wiki/Graph_Modelling_Language) format. Return 1.\n",
    "\"\"\"\n",
    "function saveLabeledGml(io::IO, g::LightGraphs.AbstractGraph, nlabs::Dict{Int64,String},\n",
    "    elabs::Dict{Tuple,String})\n",
    "    println(io, \"graph\")\n",
    "    println(io, \"[\")\n",
    "    is_directed(g) && println(io, \"directed 1\")\n",
    "    for i = 1:nv(g)\n",
    "        println(io, \"\\tnode\")\n",
    "        println(io, \"\\t[\")\n",
    "        println(io, \"\\t\\tid $i\")\n",
    "        println(io, \"\\t\\tlabel \\\"\", nlabs[i], '\"')\n",
    "        println(io, \"\\t]\")\n",
    "    end\n",
    "    for e in LightGraphs.edges(g)\n",
    "        s, t = Tuple(e)\n",
    "        println(io, \"\\tedge\")\n",
    "        println(io, \"\\t[\")\n",
    "        println(io, \"\\t\\tsource $s\")\n",
    "        println(io, \"\\t\\ttarget $t\")\n",
    "        println(io, \"\\t\\tlabel \\\"\", elabs[(s,t)], '\"')\n",
    "        println(io, \"\\t]\")\n",
    "    end\n",
    "    println(io, \"]\")\n",
    "    return 1\n",
    "end\n",
    "\n",
    "\"\"\"\n",
    "Modified from GraphIO.jl\n",
    "Write a graph `g` with node labels `nlabs` and node class\n",
    "'nclass' given in two dictionaries to an IO stream `io` in the\n",
    "[GML](https://en.wikipedia.org/wiki/Graph_Modelling_Language) format. Return 1.\n",
    "\"\"\"\n",
    "function saveLabeledGml(io::IO, g::LightGraphs.AbstractGraph, nlabs::Dict{Int64,String},\n",
    "    elabs::Dict{Int64,Int64})\n",
    "    println(io, \"graph\")\n",
    "    println(io, \"[\")\n",
    "    is_directed(g) && println(io, \"directed 1\")\n",
    "    for i = 1:nv(g)\n",
    "        println(io, \"\\tnode\")\n",
    "        println(io, \"\\t[\")\n",
    "        println(io, \"\\t\\tid $i\")\n",
    "        println(io, \"\\t\\tlabel \\\"\", nlabs[i], '\"')\n",
    "        println(io, \"\\t\\tclass \", elabs[i])\n",
    "        println(io, \"\\t]\")\n",
    "    end\n",
    "    for e in LightGraphs.edges(g)\n",
    "        s, t = Tuple(e)\n",
    "        println(io, \"\\tedge\")\n",
    "        println(io, \"\\t[\")\n",
    "        println(io, \"\\t\\tsource $s\")\n",
    "        println(io, \"\\t\\ttarget $t\")\n",
    "        println(io, \"\\t]\")\n",
    "    end\n",
    "    println(io, \"]\")\n",
    "    return 1\n",
    "end\n",
    "\n",
    "\"\"\"\n",
    "Modified from GraphIO.jl\n",
    "Write a graph `g` with node labels `nlabs` and 2 sets of edge labels\n",
    "'elabs' given in three dictionaries to an IO stream `io` in the\n",
    "[GML](https://en.wikipedia.org/wiki/Graph_Modelling_Language) format. Return 1.\n",
    "\"\"\"\n",
    "function saveLabeledGml(io::IO, g::LightGraphs.AbstractGraph, nlabs::Dict{Int64,String},\n",
    "    elabs1::Dict{Tuple{Int64,Int64},Float64}, elabs2::Dict{Tuple{Int64,Int64},Float64})\n",
    "    println(io, \"graph\")\n",
    "    println(io, \"[\")\n",
    "    is_directed(g) && println(io, \"directed 1\")\n",
    "    for i = 1:nv(g)\n",
    "        println(io, \"\\tnode\")\n",
    "        println(io, \"\\t[\")\n",
    "        println(io, \"\\t\\tid $i\")\n",
    "        println(io, \"\\t\\tlabel \\\"\", nlabs[i], '\"')\n",
    "        println(io, \"\\t]\")\n",
    "    end\n",
    "    for (e,v) = elabs1\n",
    "        s, t = e\n",
    "        println(io, \"\\tedge\")\n",
    "        println(io, \"\\t[\")\n",
    "        println(io, \"\\t\\tsource $s\")\n",
    "        println(io, \"\\t\\ttarget $t\")\n",
    "        println(io, \"\\t\\tweight $v\")\n",
    "        println(io, \"\\t\\tclass 1\")\n",
    "        println(io, \"\\t]\")\n",
    "    end\n",
    "    for (e,v) = elabs2\n",
    "        s, t = e\n",
    "        println(io, \"\\tedge\")\n",
    "        println(io, \"\\t[\")\n",
    "        println(io, \"\\t\\tsource $s\")\n",
    "        println(io, \"\\t\\ttarget $t\")\n",
    "        println(io, \"\\t\\tweight $v\")\n",
    "        println(io, \"\\t\\tclass 2\")\n",
    "        println(io, \"\\t]\")\n",
    "    end\n",
    "    println(io, \"]\")\n",
    "    return 1\n",
    "end"
   ]
  },
  {
   "cell_type": "markdown",
   "metadata": {},
   "source": [
    "# BAF-PBAF complexes structure inference\n",
    "![Baf structure](BAF_struct.jpg)"
   ]
  },
  {
   "cell_type": "markdown",
   "metadata": {},
   "source": [
    "* 250A = ARID1A\n",
    "* 250B = (ARID1B)\n",
    "* 60A = SMARCD1\n",
    "* 60B = SMARCD2\n",
    "* 60C = SMARCD3\n",
    "* BCL7A = BCL7A\n",
    "* BCL7B = BCL7B\n",
    "* BCL7C = -BCL7C\n",
    "* 155 = SMARCC1 \n",
    "* 170 = SMARCC2\n",
    "* 57 = SMARCE1 \n",
    "* BRG1 = SMARCA4 \n",
    "* BRM = SMARCA2\n",
    "* 53A = ACTL6A\n",
    "* $\\beta$-actin = (ACTB)\n",
    "* SS18 = (SS18)\n",
    "* 47 = SMARCB1\n",
    "* 45D = DPF2\n",
    "* (45B) = DPF1\n",
    "* (45C) = DPF3\n",
    "* (SS18L1) = SS18L1\n",
    "\n",
    "* BRD9 = (BRD9)"
   ]
  },
  {
   "cell_type": "code",
   "execution_count": null,
   "metadata": {
    "scrolled": false
   },
   "outputs": [],
   "source": [
    "colnames = [\"Units\"    \n",
    " \"ACTB\"     \n",
    " \"ARID1B\"   \n",
    " \"ARID2\"    \n",
    " \"BCL11A\"   \n",
    " \"BCL11B\"   \n",
    " \"BCL7A\"    \n",
    " \"BCL7B\"    \n",
    " \"BRD7\"     \n",
    " \"BRD9\"     \n",
    " \"DPF1\"     \n",
    " \"DPF2\"     \n",
    " \"DPF3\"     \n",
    " \"PBRM1\"    \n",
    " \"PHF10\"    \n",
    " \"SMARCA2\"  \n",
    " \"SMARCA4.4\"\n",
    " \"SMARCA4.6\"\n",
    " \"SMARCC1\"  \n",
    " \"SMARCC2\"  \n",
    " \"SMARCD1\"  \n",
    " \"SMARCD2\"  \n",
    " \"SMARCD3\"]\n",
    "aridData = CSV.read(\"ARID1A-data.csv\"; delim='\\t', header=colnames, datarow=2)"
   ]
  },
  {
   "cell_type": "code",
   "execution_count": null,
   "metadata": {
    "collapsed": true
   },
   "outputs": [],
   "source": [
    "foreach(x -> aridData[x] = log2.(aridData[x]), names(aridData[:,2:end]))"
   ]
  },
  {
   "cell_type": "code",
   "execution_count": null,
   "metadata": {},
   "outputs": [],
   "source": [
    "aridPval = CSV.read(\"ARID1A-pval.csv\"; delim='\\t', header=colnames, datarow=2)\n",
    "aridPval[1] = aridData[1]"
   ]
  },
  {
   "cell_type": "code",
   "execution_count": null,
   "metadata": {
    "collapsed": true
   },
   "outputs": [],
   "source": [
    "colnames = [\"Units\"    \n",
    " \"ACTB\"     \n",
    " \"ARID1A.10\"\n",
    " \"ARID1A.3\" \n",
    " \"ARID1B\"   \n",
    " \"ARID2\"    \n",
    " \"BCL11A\"   \n",
    " \"BCL11B\"   \n",
    " \"BCL7A\"    \n",
    " \"BCL7B\"    \n",
    " \"BRD7\"     \n",
    " \"BRD9\"     \n",
    " \"DPF1\"     \n",
    " \"DPF2\"     \n",
    " \"DPF3\"     \n",
    " \"PBRM1\"    \n",
    " \"PHF10\"    \n",
    " \"SMARCA2\"  \n",
    " \"SMARCC1\"  \n",
    " \"SMARCC2\"  \n",
    " \"SMARCD1\"  \n",
    " \"SMARCD2\"  \n",
    " \"SMARCD3\"]\n",
    "brgData = CSV.read(\"BRG1-data.csv\"; delim='\\t', header=colnames, datarow=2)\n",
    "foreach(x -> brgData[x] = log2.(brgData[x]), names(brgData[:,2:end]))"
   ]
  },
  {
   "cell_type": "code",
   "execution_count": null,
   "metadata": {},
   "outputs": [],
   "source": [
    "brgPval = CSV.read(\"BRG1-pval.csv\"; delim='\\t', header=colnames, datarow=2)\n",
    "brgPval[1] = brgData[1]"
   ]
  },
  {
   "cell_type": "markdown",
   "metadata": {},
   "source": [
    "We now remove variations where the fold change is not significantly greater than zero."
   ]
  },
  {
   "cell_type": "code",
   "execution_count": null,
   "metadata": {
    "collapsed": true
   },
   "outputs": [],
   "source": [
    "for i in 2:length(brgData)\n",
    "    for j in 1:length(brgData[i])\n",
    "        if brgPval[j,i] > ALPHA\n",
    "            brgData[j,i] = 0\n",
    "        end\n",
    "    end\n",
    "end"
   ]
  },
  {
   "cell_type": "code",
   "execution_count": null,
   "metadata": {
    "collapsed": true
   },
   "outputs": [],
   "source": [
    "for i in 2:length(aridData)\n",
    "    for j in 1:length(aridData[i])\n",
    "        # Some values were stored as factors instead of floats, and could not be compared to ALPHA\n",
    "        try\n",
    "            if aridPval[j,i] > ALPHA\n",
    "                aridData[j,i] = 0\n",
    "            end\n",
    "        catch e\n",
    "            if isa(e, MethodError) # In case of type error when comparing the variable to ALPHA \n",
    "                if float(string(aridPval[j,i])) > ALPHA # Try converting the faulty variable\n",
    "                    aridData[j,i] = 0\n",
    "                end\n",
    "            end\n",
    "        end\n",
    "    end\n",
    "end"
   ]
  },
  {
   "cell_type": "markdown",
   "metadata": {},
   "source": [
    "## BAF complex structure\n",
    "Pulling down ARID1A only captures the BAF complex"
   ]
  },
  {
   "cell_type": "code",
   "execution_count": null,
   "metadata": {},
   "outputs": [],
   "source": [
    "# Join SMARCA4.4 and SMARCA4.6\n",
    "delete!(aridData, Symbol(\"SMARCA4.6\"))\n",
    "rename!(aridData, Symbol(\"SMARCA4.4\") => :SMARCA4)"
   ]
  },
  {
   "cell_type": "code",
   "execution_count": null,
   "metadata": {},
   "outputs": [],
   "source": [
    "nbARIDpd = length(studyARIDpd)\n",
    "nbARIDko = length(studyARIDko)\n",
    "println(countnz(Matrix(aridData[:,2:end])))\n",
    "for i = 1:NBSHUFFLE\n",
    "    # Select two random cells\n",
    "    x1 = rand(1:nbARIDpd)\n",
    "    y1 = rand(1:nbARIDko)\n",
    "    x2 = rand(1:nbARIDpd)\n",
    "    y2 = rand(1:nbARIDko)\n",
    "    # Do not change diagonal\n",
    "    if studyARIDpd[x1] != studyARIDko[y1] && studyARIDpd[x2] != studyARIDko[y2]\n",
    "        tmp = aridData[x1,y1+1]\n",
    "        aridData[x1,y1+1] = aridData[x2,y2+1]\n",
    "        aridData[x2,y2+1] = tmp\n",
    "    end\n",
    "end\n",
    "println(countnz(Matrix(aridData[:,2:end])))"
   ]
  },
  {
   "cell_type": "code",
   "execution_count": null,
   "metadata": {
    "scrolled": true
   },
   "outputs": [],
   "source": [
    "init_notebook(true)\n",
    "\n",
    "traceArid = heatmap(\n",
    "    x=aridData[1],\n",
    "    y=names(aridData[2:end]),\n",
    "    z=convert(Array, aridData[:,2:end])\n",
    ")\n",
    "\n",
    "#===== Color mapping\n",
    "We want a linear scale from blue to white (minimal value to zero)\n",
    "then from white to red (zero to maximal value).\n",
    "Plotly expect linear scales with endpoints in zero (minimal value)\n",
    "to 1 (maximal value), therefore we transform the coordinate c in\n",
    "our scale to plotly's scale p by the following transformation:\n",
    "p = (c - minVal)/(maxVal - minVal)\n",
    "=====#\n",
    "coordZero = -minimum(convert(Array, aridData[:,2:end])) /\n",
    "    (maximum(convert(Array, aridData[:,2:end])) - minimum(convert(Array, aridData[:,2:end])))\n",
    "styleArid = Style(global_trace=attr(colorscale=[[0, \"rgb(0,0,255)\"], [coordZero, \"rgb(255,255,255)\"], [1, \"rgb(255,0,0)\"]]))\n",
    "layoutArid = Layout(;margin_l = 100, margin_t = 20, yaxis_title=\"<b>Knocked-out gene</b>\", xaxis_title = \"<b>BAF subunit</b>\")\n",
    "\n",
    "plot(traceArid, layoutArid, style=styleArid)"
   ]
  },
  {
   "cell_type": "markdown",
   "metadata": {},
   "source": [
    "## BAF-PBAF complex structure\n",
    "Pulling down SMARCA4 captures both the BAF and PBAF complexes"
   ]
  },
  {
   "cell_type": "code",
   "execution_count": null,
   "metadata": {},
   "outputs": [],
   "source": [
    "# Join ARID1A.10 and ARID1A.3\n",
    "delete!(brgData, Symbol(\"ARID1A.3\"))\n",
    "rename!(brgData, Symbol(\"ARID1A.10\") => :ARID1A)"
   ]
  },
  {
   "cell_type": "code",
   "execution_count": null,
   "metadata": {},
   "outputs": [],
   "source": [
    "nbBRGpd = length(studyBRGpd)\n",
    "nbBRGko = length(studyBRGko)\n",
    "println(countnz(Matrix(brgData[:,2:end])))\n",
    "for i = 1:NBSHUFFLE\n",
    "    # Select two random cells\n",
    "    x1 = rand(1:nbBRGpd)\n",
    "    y1 = rand(1:nbBRGko)\n",
    "    x2 = rand(1:nbBRGpd)\n",
    "    y2 = rand(1:nbBRGko)\n",
    "    # Do not change diagonal\n",
    "    if studyBRGpd[x1] != studyBRGko[y1] && studyBRGpd[x2] != studyBRGko[y2]\n",
    "        tmp = brgData[x1,y1+1]\n",
    "        brgData[x1,y1+1] = brgData[x2,y2+1]\n",
    "        brgData[x2,y2+1] = tmp\n",
    "    end\n",
    "end\n",
    "println(countnz(Matrix(brgData[:,2:end])))"
   ]
  },
  {
   "cell_type": "code",
   "execution_count": null,
   "metadata": {
    "scrolled": false
   },
   "outputs": [],
   "source": [
    "traceBrg = heatmap(\n",
    "    x=brgData[1],\n",
    "    y=names(brgData[2:end]),\n",
    "    z=convert(Array, brgData[:,2:end])\n",
    ")\n",
    "\n",
    "#===== Color mapping\n",
    "We want a linear scale from blue to white (minimal value to zero)\n",
    "then from white to red (zero to maximal value).\n",
    "Plotly expect linear scales with endpoints in zero (minimal value)\n",
    "to 1 (maximal value), therefore we transform the coordinate c in\n",
    "our scale to plotly's scale p by the following transformation:\n",
    "p = (c - minVal)/(maxVal - minVal)\n",
    "=====#\n",
    "coordZero = -minimum(convert(Array, brgData[:,2:end])) /\n",
    "    (maximum(convert(Array, brgData[:,2:end])) - minimum(convert(Array, brgData[:,2:end])))\n",
    "styleBrg = Style(global_trace=attr(colorscale=[[0, \"rgb(0,0,255)\"], [coordZero, \"rgb(255,255,255)\"], [1, \"rgb(255,0,0)\"]]))\n",
    "layoutBrg = Layout(;margin_l = 100, margin_t = 20, yaxis_title=\"<b>Knocked-out gene</b>\", xaxis_title = \"<b>(P)BAF subunit</b>\")\n",
    "\n",
    "plot(traceBrg, layoutBrg, style=styleBrg)"
   ]
  },
  {
   "cell_type": "markdown",
   "metadata": {},
   "source": [
    "## Define constants used by the algorithm"
   ]
  },
  {
   "cell_type": "code",
   "execution_count": null,
   "metadata": {},
   "outputs": [],
   "source": [
    "studyARIDko = convert(Array{String,1}, names(aridData[2:end]))\n",
    "studyARIDpd = convert(Array{String,1}, aridData[1])\n",
    "studyBRGko = convert(Array{String,1}, names(brgData[2:end]))\n",
    "studyBRGpd = convert(Array{String,1}, brgData[1])\n",
    "unitDictString = Dict(enumerate(sort(union(studyARIDko, studyARIDpd, studyBRGko, studyBRGpd))))\n",
    "unitDict = map(reverse, unitDictString)\n",
    "unitList = [string(u) for u in keys(unitDict)]\n",
    "# How many subunits are we considering?\n",
    "const M = length(unitDict)"
   ]
  },
  {
   "cell_type": "code",
   "execution_count": null,
   "metadata": {},
   "outputs": [],
   "source": [
    "edgeTypesARID = Dict{Float64, Dict{Tuple, String}}()\n",
    "\n",
    "colnames = [\"Units\"    \n",
    " \"ACTB\"     \n",
    " \"ARID1B\"   \n",
    " \"ARID2\"    \n",
    " \"BCL11A\"   \n",
    " \"BCL11B\"   \n",
    " \"BCL7A\"    \n",
    " \"BCL7B\"    \n",
    " \"BRD7\"     \n",
    " \"BRD9\"     \n",
    " \"DPF1\"     \n",
    " \"DPF2\"     \n",
    " \"DPF3\"     \n",
    " \"PBRM1\"    \n",
    " \"PHF10\"    \n",
    " \"SMARCA2\"  \n",
    " \"SMARCA4.4\"\n",
    " \"SMARCA4.6\"\n",
    " \"SMARCC1\"  \n",
    " \"SMARCC2\"  \n",
    " \"SMARCD1\"  \n",
    " \"SMARCD2\"  \n",
    " \"SMARCD3\"]\n",
    "\n",
    "for alpha = [0.1, 0.05, 0.01, 0.005]    \n",
    "    aridData = CSV.read(\"ARID1A-data.csv\"; delim='\\t', header=colnames, datarow=2)\n",
    "    \n",
    "    foreach(x -> aridData[x] = log2.(aridData[x]), names(aridData[:,2:end]))\n",
    "\n",
    "    for i in 2:length(aridData)\n",
    "        for j in 1:length(aridData[i])\n",
    "            # Some values were stored as factors instead of floats, and could not be compared to ALPHA\n",
    "            try\n",
    "                if aridPval[j,i] > alpha\n",
    "                    aridData[j,i] = 0\n",
    "                end\n",
    "            catch e\n",
    "                if isa(e, MethodError) # In case of type error when comparing the variable to ALPHA \n",
    "                    if float(string(aridPval[j,i])) > alpha # Try converting the faulty variable\n",
    "                        aridData[j,i] = 0\n",
    "                    end\n",
    "                end\n",
    "            end\n",
    "        end\n",
    "    end\n",
    "    \n",
    "     # Join SMARCA4.4 and SMARCA4.6\n",
    "    delete!(aridData, Symbol(\"SMARCA4.6\"))\n",
    "    rename!(aridData, Symbol(\"SMARCA4.4\") => :SMARCA4)\n",
    "    \n",
    "    for i = 1:NBSHUFFLE\n",
    "        # Select two random cells\n",
    "        x1 = rand(1:nbARIDpd)\n",
    "        y1 = rand(1:nbARIDko)\n",
    "        x2 = rand(1:nbARIDpd)\n",
    "        y2 = rand(1:nbARIDko)\n",
    "        # Do not change diagonal\n",
    "        if studyARIDpd[x1] != studyARIDko[y1] && studyARIDpd[x2] != studyARIDko[y2]\n",
    "            tmp = aridData[x1,y1+1]\n",
    "            aridData[x1,y1+1] = aridData[x2,y2+1]\n",
    "            aridData[x2,y2+1] = tmp\n",
    "        end\n",
    "    end\n",
    "    \n",
    "    # Store the sign of the log2-fold-change associated with each link\n",
    "    edgeTypesARID[alpha] = Dict{Tuple, String}()\n",
    "\n",
    "    # Parse each column\n",
    "    for x = names(aridData[:,2:end])\n",
    "        for y = 1:length(aridData[x])\n",
    "            if aridData[y,x] < 0\n",
    "                edgeTypesARID[alpha][(unitDict[String(x)], unitDict[String(aridData[y,:Units])])] = \"inhibits\"\n",
    "            elseif aridData[y,x] > 0\n",
    "                edgeTypesARID[alpha][(unitDict[String(x)], unitDict[String(aridData[y,:Units])])] = \"enhances\"\n",
    "            end\n",
    "        end\n",
    "    end \n",
    "end"
   ]
  },
  {
   "cell_type": "code",
   "execution_count": null,
   "metadata": {},
   "outputs": [],
   "source": [
    "edgeTypesBRG = Dict{Float64, Dict{Tuple, String}}()\n",
    "\n",
    "colnames = [\"Units\"    \n",
    " \"ACTB\"     \n",
    " \"ARID1A.10\"\n",
    " \"ARID1A.3\" \n",
    " \"ARID1B\"   \n",
    " \"ARID2\"    \n",
    " \"BCL11A\"   \n",
    " \"BCL11B\"   \n",
    " \"BCL7A\"    \n",
    " \"BCL7B\"    \n",
    " \"BRD7\"     \n",
    " \"BRD9\"     \n",
    " \"DPF1\"     \n",
    " \"DPF2\"     \n",
    " \"DPF3\"     \n",
    " \"PBRM1\"    \n",
    " \"PHF10\"    \n",
    " \"SMARCA2\"  \n",
    " \"SMARCC1\"  \n",
    " \"SMARCC2\"  \n",
    " \"SMARCD1\"  \n",
    " \"SMARCD2\"  \n",
    " \"SMARCD3\"]\n",
    "\n",
    "for alpha = [0.1, 0.05, 0.01, 0.005]    \n",
    "    brgData = CSV.read(\"BRG1-data.csv\"; delim='\\t', header=colnames, datarow=2)\n",
    "    \n",
    "    foreach(x -> brgData[x] = log2.(brgData[x]), names(brgData[:,2:end]))\n",
    "\n",
    "    for i in 2:length(brgData)\n",
    "        for j in 1:length(brgData[i])\n",
    "            # Some values were stored as factors instead of floats, and could not be compared to ALPHA\n",
    "            try\n",
    "                if brgPval[j,i] > alpha\n",
    "                    brgData[j,i] = 0\n",
    "                end\n",
    "            catch e\n",
    "                if isa(e, MethodError) # In case of type error when comparing the variable to ALPHA \n",
    "                    if float(string(brgPval[j,i])) > alpha # Try converting the faulty variable\n",
    "                        brgData[j,i] = 0\n",
    "                    end\n",
    "                end\n",
    "            end\n",
    "        end\n",
    "    end\n",
    "       \n",
    "    # Join ARID1A.10 and ARID1A.3\n",
    "    delete!(brgData, Symbol(\"ARID1A.3\"))\n",
    "    rename!(brgData, Symbol(\"ARID1A.10\") => :ARID1A)\n",
    "    \n",
    "        for i = 1:NBSHUFFLE\n",
    "        # Select two random cells\n",
    "        x1 = rand(1:nbBRGpd)\n",
    "        y1 = rand(1:nbBRGko)\n",
    "        x2 = rand(1:nbBRGpd)\n",
    "        y2 = rand(1:nbBRGko)\n",
    "        # Do not change diagonal\n",
    "        if studyBRGpd[x1] != studyBRGko[y1] && studyBRGpd[x2] != studyBRGko[y2]\n",
    "            tmp = brgData[x1,y1+1]\n",
    "            brgData[x1,y1+1] = brgData[x2,y2+1]\n",
    "            brgData[x2,y2+1] = tmp\n",
    "        end\n",
    "    end\n",
    "    \n",
    "    # Store the sign of the log2-fold-change associated with each link\n",
    "    edgeTypesBRG[alpha] = Dict{Tuple, String}()\n",
    "\n",
    "    # Parse each column\n",
    "    for x = names(brgData[:,2:end])\n",
    "        for y = 1:length(brgData[x])\n",
    "            if brgData[y,x] < 0\n",
    "                edgeTypesBRG[alpha][(unitDict[String(x)], unitDict[String(brgData[y,:Units])])] = \"inhibits\"\n",
    "            elseif brgData[y,x] > 0\n",
    "                edgeTypesBRG[alpha][(unitDict[String(x)], unitDict[String(brgData[y,:Units])])] = \"enhances\"\n",
    "            end\n",
    "        end\n",
    "    end\n",
    "end"
   ]
  },
  {
   "cell_type": "code",
   "execution_count": null,
   "metadata": {
    "collapsed": true
   },
   "outputs": [],
   "source": [
    "const inhibitEdge = \"inhibits\"\n",
    "const enhanceEdge = \"enhances\"\n",
    "# ARID1A and SMARCA4 should not be deleted in their respective immunoprecipitations\n",
    "@assert !(\"ARID1A\" in studyARIDko)\n",
    "@assert !(\"SMARCA4\" in studyBRGko)\n",
    "    #=====\n",
    "    When we delete a node from a lightgraph, the node to\n",
    "    remove is swapped with the last node in the node list.\n",
    "    To ensure that the index of ARID1A is stable, we make\n",
    "    sur that it is never knocked out nor the last node.\n",
    "    =====#\n",
    "# Remember ARID1A and SMARCA4 indices\n",
    "const brgIndex = [i for (i,u) in enumerate(unitList) if u == \"SMARCA4\"][1]\n",
    "const aridIndex = [i for (i,u) in enumerate(unitList) if u == \"ARID1A\"][1]\n",
    "# ARID1A and SMARCA4 should not be the last subunits in the lists\n",
    "@assert aridIndex != M\n",
    "@assert brgIndex != M"
   ]
  },
  {
   "cell_type": "code",
   "execution_count": null,
   "metadata": {},
   "outputs": [],
   "source": [
    "# Avoid to compute these sets in each iteration of the structureToPulldowns function\n",
    "studyARIDpdIndices = [ipd for (ipd, pd) in unitDictString if pd in studyARIDpd]\n",
    "studyARIDkoIndices = [iko for (iko, ko) in unitDictString if ko in studyARIDko]\n",
    "studyBRGpdIndices = [ipd for (ipd, pd) in unitDictString if pd in studyBRGpd]\n",
    "studyBRGkoIndices = [iko for (iko, ko) in unitDictString if ko in studyBRGko]\n",
    "studyALLkoIndices = intersect(studyARIDkoIndices, studyBRGkoIndices)\n",
    "studyALLpdIndices = intersect(studyARIDpdIndices, studyBRGpdIndices)\n",
    "studyOnlyBRGpdIndices = setdiff(studyBRGpdIndices, studyARIDpdIndices)\n",
    "studyOnlyARIDpdIndices = setdiff(studyARIDpdIndices, studyBRGpdIndices)\n",
    "studyOnlyBRGkoIndices = setdiff(studyBRGkoIndices, studyARIDkoIndices)\n",
    "studyOnlyARIDkoIndices = setdiff(studyARIDkoIndices, studyBRGkoIndices)"
   ]
  },
  {
   "cell_type": "markdown",
   "metadata": {},
   "source": [
    "## Define graph Julia struct\n",
    "Pulldown graphs contain the directed graph of activation/inhibition, the node and edges annotations.  \n",
    "Structure graphs contain the structural graph, the node annotations and the competition classes of each node."
   ]
  },
  {
   "cell_type": "code",
   "execution_count": null,
   "metadata": {
    "collapsed": true
   },
   "outputs": [],
   "source": [
    "mutable struct pulldownGraph\n",
    "    graph::SimpleDiGraph\n",
    "    nodes::Dict{Int64,String}\n",
    "    edges::Dict{Tuple, String}\n",
    "end"
   ]
  },
  {
   "cell_type": "code",
   "execution_count": null,
   "metadata": {
    "collapsed": true
   },
   "outputs": [],
   "source": [
    "mutable struct structureGraph\n",
    "    graph::SimpleGraph\n",
    "    nodes::Dict{Int64,String}\n",
    "    competition::Dict{Int64,Int64}\n",
    "end"
   ]
  },
  {
   "cell_type": "markdown",
   "metadata": {},
   "source": [
    "## Define graph functions"
   ]
  },
  {
   "cell_type": "code",
   "execution_count": null,
   "metadata": {},
   "outputs": [],
   "source": [
    "\"\"\"\n",
    "Compute pulldown graph corresponding to a\n",
    "structure graph given as argument\n",
    "\"\"\"\n",
    "function structureToPulldowns(sGraph::structureGraph)\n",
    "    # Initialise two pulldownGraphs\n",
    "    # with the studied nodes and no edges\n",
    "    pGraphARID = pulldownGraph(\n",
    "        SimpleDiGraph(M),\n",
    "        sGraph.nodes,\n",
    "        Dict{Tuple, String}()\n",
    "    )\n",
    "    \n",
    "    pGraphBRG = pulldownGraph(\n",
    "        SimpleDiGraph(M),\n",
    "        sGraph.nodes,\n",
    "        Dict{Tuple, String}()\n",
    "    )\n",
    "    \n",
    "    # Create dict from competitions between units                \n",
    "    competitionDict = getCompetitionDict(sGraph.competition)\n",
    "    \n",
    "    # For units knocked-out in both precipitations\n",
    "    for iko = studyALLkoIndices\n",
    "        # Compute what units are still connected to ARID1A and SMARCA4\n",
    "        pulledARIDComponent = getARIDPulledComponent(sGraph.graph, iko) \n",
    "        pulledBRGComponent = getBRGPulledComponent(sGraph.graph, iko) \n",
    "        \n",
    "        # Check what would be observed for each pulled down subunit\n",
    "        # Starting with the subunits pulled down in both precipitations\n",
    "        for ipd = studyALLpdIndices\n",
    "            if ipd == iko\n",
    "                # The KOed subunit is inhibited\n",
    "                add_pulldown_edge!(inhibitEdge, pGraphARID, ipd)\n",
    "                add_pulldown_edge!(inhibitEdge, pGraphBRG, ipd)\n",
    "            else\n",
    "                # If the subunit is the last in the node list,\n",
    "                # its index has been swapped with the deleted node\n",
    "                if ipd == M\n",
    "                    if !(iko in pulledARIDComponent)\n",
    "                        add_pulldown_edge!(inhibitEdge, pGraphARID, iko, ipd)\n",
    "                    else\n",
    "                        # The PD subunit is connected\n",
    "                        enhanceIfDisconnectedCompetition!(pGraphARID, pulledARIDComponent,\n",
    "                        competitionDict, ipd, iko)\n",
    "                    end\n",
    "                    if !(iko in pulledBRGComponent)\n",
    "                        add_pulldown_edge!(inhibitEdge, pGraphBRG, iko, ipd)\n",
    "                    else\n",
    "                        # The PD subunit is connected\n",
    "                        enhanceIfDisconnectedCompetition!(pGraphBRG, pulledBRGComponent,\n",
    "                        competitionDict, ipd, iko)\n",
    "                    end                    \n",
    "                    continue # Look at next pulldowned subunit\n",
    "                else\n",
    "                    if !(ipd in pulledARIDComponent)\n",
    "                        # If a subunit is not in the component connected\n",
    "                        # to ARID1A, the KO will decrease the quantity of\n",
    "                        # this subunit that will be pulled-down\n",
    "                        add_pulldown_edge!(inhibitEdge, pGraphARID, iko, ipd)\n",
    "                    else\n",
    "                        # The PD subunit is connected\n",
    "                        enhanceIfDisconnectedCompetition!(pGraphARID, pulledARIDComponent,\n",
    "                            competitionDict, ipd, iko)\n",
    "                    end\n",
    "                    if !(ipd in pulledBRGComponent)\n",
    "                        # If a subunit is not in the component connected\n",
    "                        # to ARID1A, the KO will decrease the quantity of\n",
    "                        # this subunit that will be pulled-down\n",
    "                        add_pulldown_edge!(inhibitEdge, pGraphBRG, iko, ipd)\n",
    "                    else\n",
    "                        # The PD subunit is connected\n",
    "                        enhanceIfDisconnectedCompetition!(pGraphBRG, pulledBRGComponent,\n",
    "                            competitionDict, ipd, iko)\n",
    "                    end\n",
    "                end\n",
    "            end\n",
    "        end \n",
    "        \n",
    "        # Then for ARID1A precipitation\n",
    "        for ipd = studyOnlyARIDpdIndices\n",
    "            if ipd == iko\n",
    "                # The KOed subunit is inhibited\n",
    "                add_pulldown_edge!(inhibitEdge, pGraphARID, ipd)\n",
    "            else\n",
    "                # If the subunit is the last in the node list,\n",
    "                # its index has been swapped with the deleted node\n",
    "                if ipd == M\n",
    "                    if !(iko in pulledARIDComponent)\n",
    "                        add_pulldown_edge!(inhibitEdge, pGraphARID, iko, ipd)\n",
    "                    else\n",
    "                        # The PD subunit is connected\n",
    "                        enhanceIfDisconnectedCompetition!(pGraphARID, pulledARIDComponent,\n",
    "                        competitionDict, ipd, iko)\n",
    "                    end               \n",
    "                    continue # Look at next pulldowned subunit\n",
    "                elseif !(ipd in pulledARIDComponent)\n",
    "                    # If a subunit is not in the component connected\n",
    "                    # to ARID1A, the KO will decrease the quantity of\n",
    "                    # this subunit that will be pulled-down\n",
    "                    add_pulldown_edge!(inhibitEdge, pGraphARID, iko, ipd)\n",
    "                else\n",
    "                    # The PD subunit is connected\n",
    "                    enhanceIfDisconnectedCompetition!(pGraphARID, pulledARIDComponent,\n",
    "                        competitionDict, ipd, iko)\n",
    "                end\n",
    "            end\n",
    "        end\n",
    "        \n",
    "        # Finally for SMARCA4 precipitation\n",
    "        for ipd = studyOnlyBRGpdIndices\n",
    "            if ipd == iko\n",
    "                # The KOed subunit is inhibited\n",
    "                add_pulldown_edge!(inhibitEdge, pGraphBRG, ipd)\n",
    "            else\n",
    "                # If the subunit is the last in the node list,\n",
    "                # its index has been swapped with the deleted node\n",
    "                if ipd == M\n",
    "                    if !(iko in pulledBRGComponent)\n",
    "                        add_pulldown_edge!(inhibitEdge, pGraphBRG, iko, ipd)\n",
    "                    else\n",
    "                        # The PD subunit is connected\n",
    "                        enhanceIfDisconnectedCompetition!(pGraphBRG, pulledBRGComponent,\n",
    "                        competitionDict, ipd, iko)\n",
    "                    end               \n",
    "                    continue # Look at next pulldowned subunit\n",
    "                elseif !(ipd in pulledBRGComponent)\n",
    "                    # If a subunit is not in the component connected\n",
    "                    # to ARID1A, the KO will decrease the quantity of\n",
    "                    # this subunit that will be pulled-down\n",
    "                    add_pulldown_edge!(inhibitEdge, pGraphBRG, iko, ipd)\n",
    "                else\n",
    "                    # The PD subunit is connected\n",
    "                    enhanceIfDisconnectedCompetition!(pGraphBRG, pulledBRGComponent,\n",
    "                        competitionDict, ipd, iko)\n",
    "                end\n",
    "            end\n",
    "        end\n",
    "    end\n",
    "    \n",
    "    # Same for units knocked-out only in ARID1A precipitation\n",
    "    for iko = studyOnlyARIDkoIndices\n",
    "        # Compute what units are still connected to SMARCA4\n",
    "        pulledARIDComponent = getARIDPulledComponent(sGraph.graph, iko) \n",
    "        \n",
    "        # Check what would be observed for each pulled down subunit\n",
    "        for ipd = studyARIDpdIndices\n",
    "            if ipd == iko\n",
    "                # The KOed subunit is inhibited\n",
    "                add_pulldown_edge!(inhibitEdge, pGraphARID, ipd)\n",
    "            else\n",
    "                # If the subunit is the last in the node list,\n",
    "                # its index has been swapped with the deleted node\n",
    "                if ipd == M\n",
    "                    if !(iko in pulledARIDComponent)\n",
    "                        add_pulldown_edge!(inhibitEdge, pGraphARID, iko, ipd)\n",
    "                    else\n",
    "                        # The PD subunit is connected\n",
    "                        enhanceIfDisconnectedCompetition!(pGraphARID, pulledARIDComponent,\n",
    "                        competitionDict, ipd, iko)\n",
    "                    end                  \n",
    "                    continue # Look at next pulldowned subunit\n",
    "                else\n",
    "                    if !(ipd in pulledARIDComponent)\n",
    "                        # If a subunit is not in the component connected\n",
    "                        # to ARID1A, the KO will decrease the quantity of\n",
    "                        # this subunit that will be pulled-down\n",
    "                        add_pulldown_edge!(inhibitEdge, pGraphARID, iko, ipd)\n",
    "                    else\n",
    "                        # The PD subunit is connected\n",
    "                        enhanceIfDisconnectedCompetition!(pGraphARID, pulledARIDComponent,\n",
    "                            competitionDict, ipd, iko)\n",
    "                    end\n",
    "                end\n",
    "            end\n",
    "        end \n",
    "    end\n",
    "    \n",
    "    # Same for units knocked-out only in ARID1A precipitation\n",
    "    for iko = studyOnlyBRGkoIndices\n",
    "        # Compute what units are still connected to SMARCA4\n",
    "        pulledBRGComponent = getBRGPulledComponent(sGraph.graph, iko) \n",
    "        \n",
    "        # Check what would be observed for each pulled down subunit\n",
    "        for ipd = studyBRGpdIndices\n",
    "            if ipd == iko\n",
    "                # The KOed subunit is inhibited\n",
    "                add_pulldown_edge!(inhibitEdge, pGraphBRG, ipd)\n",
    "            else\n",
    "                # If the subunit is the last in the node list,\n",
    "                # its index has been swapped with the deleted node\n",
    "                if ipd == M\n",
    "                    if !(iko in pulledBRGComponent)\n",
    "                        add_pulldown_edge!(inhibitEdge, pGraphBRG, iko, ipd)\n",
    "                    else\n",
    "                        # The PD subunit is connected\n",
    "                        enhanceIfDisconnectedCompetition!(pGraphBRG, pulledBRGComponent,\n",
    "                        competitionDict, ipd, iko)\n",
    "                    end                  \n",
    "                    continue # Look at next pulldowned subunit\n",
    "                else\n",
    "                    if !(ipd in pulledBRGComponent)\n",
    "                        # If a subunit is not in the component connected\n",
    "                        # to ARID1A, the KO will decrease the quantity of\n",
    "                        # this subunit that will be pulled-down\n",
    "                        add_pulldown_edge!(inhibitEdge, pGraphBRG, iko, ipd)\n",
    "                    else\n",
    "                        # The PD subunit is connected\n",
    "                        enhanceIfDisconnectedCompetition!(pGraphBRG, pulledBRGComponent,\n",
    "                            competitionDict, ipd, iko)\n",
    "                    end\n",
    "                end\n",
    "            end\n",
    "        end \n",
    "    end\n",
    "    \n",
    "    return(pGraphARID, pGraphBRG)\n",
    "end\n",
    "\n",
    "\"\"\"\n",
    "Return a list of all subunits still connected\n",
    "to ARID1A after a given KO is performed\n",
    "\"\"\"        \n",
    "function getARIDPulledComponent(graph::LightGraphs.SimpleGraphs.SimpleGraph{Int64}, iko::Int64)\n",
    "    perturbGraph = copy(graph)\n",
    "    rem_vertex!(perturbGraph, iko)\n",
    "    pulledComponent = Array{Int64,1}\n",
    "    for component in connected_components(perturbGraph) if aridIndex in component\n",
    "        return(component)\n",
    "    end end\n",
    "end\n",
    "\n",
    "\"\"\"\n",
    "Return a list of all subunits still connected\n",
    "to SMARCA4 after a given KO is performed\n",
    "\"\"\"        \n",
    "function getBRGPulledComponent(graph::LightGraphs.SimpleGraphs.SimpleGraph{Int64}, iko::Int64)\n",
    "    perturbGraph = copy(graph)\n",
    "    rem_vertex!(perturbGraph, iko)\n",
    "    pulledComponent = Array{Int64,1}\n",
    "    for component in connected_components(perturbGraph) if brgIndex in component\n",
    "        return(component)\n",
    "    end end\n",
    "end"
   ]
  },
  {
   "cell_type": "code",
   "execution_count": null,
   "metadata": {},
   "outputs": [],
   "source": [
    "\"\"\"\n",
    "Add a link to a pulldownGraph\n",
    "\"\"\"\n",
    "function add_pulldown_edge!(edgeType::String, pGraph::pulldownGraph, from::Int64, to = from)\n",
    "    add_edge!(pGraph.graph, from, to)\n",
    "    pGraph.edges[(from, to)] = edgeType\n",
    "end\n",
    "                        \n",
    "\"\"\"\n",
    "Create a dictionary associating a subunit with its competitors\n",
    "\"\"\"\n",
    "function getCompetitionDict(competition::Dict{Int64,Int64})\n",
    "    competitionDF = DataFrame(Int64, M, 2)\n",
    "    for i in 1:M\n",
    "        competitionDF[i,1] = i\n",
    "        competitionDF[i,2] = competition[i]\n",
    "    end\n",
    "    names!(competitionDF, [:Key, :Value])\n",
    "    \n",
    "    competitionDict = Dict{Int64, Array}()\n",
    "    for df in groupby(competitionDF, :Value)\n",
    "        for value in df[:Key]\n",
    "            competitionDict[value] = [i for i in df[:Key] if i != value]\n",
    "        end\n",
    "    end\n",
    "    \n",
    "    return(competitionDict)\n",
    "end\n",
    "\n",
    "\"\"\"\n",
    "Predict enrichment if a KO disconnect a competitor\n",
    "of a subunit\n",
    "\"\"\"\n",
    "function enhanceIfDisconnectedCompetition!(pGraph::pulldownGraph, \n",
    "        pulledComponent::Array{Int64,1}, competitionDict::Dict{Int64, Array},\n",
    "        ipd::Int64, iko::Int64)\n",
    "    # For the KOed subunit\n",
    "    if ipd in competitionDict[iko]\n",
    "        add_pulldown_edge!(enhanceEdge, pGraph, iko, ipd)\n",
    "        return(true) # An edge has been added\n",
    "    end    \n",
    "    # For all non-KOed subunit\n",
    "    for inc = (j for j in 1:(M-1) if !(j in pulledComponent))\n",
    "        if inc == iko\n",
    "            # If the subunit has the index 'iko' it is\n",
    "            # actually the last subunit, that has been\n",
    "            # swapped with the KOed subunit\n",
    "            inc = M\n",
    "        end\n",
    "        if ipd in competitionDict[inc]\n",
    "            add_pulldown_edge!(enhanceEdge, pGraph, iko, ipd)\n",
    "            return(true) # An edge has been added\n",
    "        end\n",
    "    end\n",
    "    return(false) # No edge has been added\n",
    "end\n",
    "                        \n",
    "\"\"\"\n",
    "Enforce the connectivity of a structureGraph\n",
    "\"\"\"\n",
    "function connectGraph!(sGraph::structureGraph)\n",
    "    while !is_connected(sGraph.graph)\n",
    "        mutateAddEdge!(sGraph)\n",
    "end end\n",
    "                        \n",
    "\"\"\"\n",
    "Attribute random competition classes for subunits not\n",
    "yet present in competition dictionary of a structureGraph\n",
    "\"\"\"\n",
    "function randomCompetitionGraph!(sGraph::structureGraph)\n",
    "    graph = sGraph.graph\n",
    "    competition = sGraph.competition\n",
    "    \n",
    "    for i = 1:M\n",
    "        # For all subunits not in the competition dict\n",
    "        if !(i in keys(competition))\n",
    "            # Continue until a competition class has been attributed\n",
    "            while true\n",
    "                # Assign random competition class\n",
    "                newComp = rand(1:M)\n",
    "                if all([competition[n] != newComp for n in intersect(neighbors(graph, i), keys(competition))])\n",
    "                    competition[i] = rand(1:M)\n",
    "                    break\n",
    "                end\n",
    "                # This competition would link interactors, try again\n",
    "            end\n",
    "        end\n",
    "    end\n",
    "end"
   ]
  },
  {
   "cell_type": "markdown",
   "metadata": {},
   "source": [
    "## Define mutation functions"
   ]
  },
  {
   "cell_type": "code",
   "execution_count": null,
   "metadata": {},
   "outputs": [],
   "source": [
    "\"\"\"\n",
    "Mutate a single structure graph\n",
    "The keywords contain the mutation parameters:\n",
    "    p_add: add edge probability\n",
    "    p_del: del edge probability\n",
    "    p_swp: swap edge probability\n",
    "    p_cmp: competition class probability\n",
    "\"\"\"\n",
    "function mutateStructureGraph!(sGraph::structureGraph; \n",
    "        p_add = 0.1, p_del = p_add, p_swp = p_add, p_cmp = p_add)\n",
    "    # Store exit codes of individual mutation functions\n",
    "    status = 0\n",
    "    \n",
    "    # Determine which mutations to perform\n",
    "    doMutate = rand(4) .< [p_add, p_del, p_swp, p_cmp]\n",
    "    \n",
    "    if doMutate[1]\n",
    "        status += mutateAddEdge!(sGraph)\n",
    "    end\n",
    "\n",
    "    if doMutate[2]\n",
    "        status += mutateDelEdge!(sGraph.graph)\n",
    "    end\n",
    "\n",
    "    if doMutate[3]\n",
    "        status += mutateSwapEdges!(sGraph)\n",
    "    end\n",
    "\n",
    "    if doMutate[4]\n",
    "        status += mutateCompetitors!(sGraph)\n",
    "    end\n",
    "\n",
    "    return(status)\n",
    "end\n",
    "  \n",
    "\"\"\"\n",
    "Add an edge to a structure graph\n",
    "\"\"\"\n",
    "function mutateAddEdge!(sGraph::structureGraph)\n",
    "    graph = sGraph.graph\n",
    "    competition = sGraph.competition\n",
    "    N = nv(graph)\n",
    "    \n",
    "    if ne(graph) >= N*(N-1)/2\n",
    "        # The graph is already complete\n",
    "        return(1)\n",
    "    else\n",
    "        while true\n",
    "            (a,b) = ceil.(N*rand(2))\n",
    "            if (a != b) && (add_edge!(graph, a, b))\n",
    "                # Do not allow self loop\n",
    "                # Do not allow links between competitors\n",
    "                if (competition[a] == competition[b])\n",
    "                    rem_edge!(graph, Int64(a), Int64(b))\n",
    "                    return(1)\n",
    "                end\n",
    "                # Exit if edge sucessfully added\n",
    "                return(0)\n",
    "            end\n",
    "        end\n",
    "    end\n",
    "end\n",
    "\n",
    "\"\"\"\n",
    "Remove an edge to a structure graph\n",
    "\"\"\"\n",
    "function mutateDelEdge!(graph::LightGraphs.SimpleGraphs.SimpleGraph)\n",
    "    edgesList = [e for e in edges(graph)]\n",
    "    edgesIndicesOrder = randperm(length(edgesList))\n",
    "    for edgeIndex in edgesIndicesOrder\n",
    "        edgeToRemove = edgesList[edgeIndex]\n",
    "        rem_edge!(graph, edgeToRemove)\n",
    "        if is_connected(graph)\n",
    "            return(0)\n",
    "        else\n",
    "            # So structure graph should be kept connected\n",
    "            # Therefore we put back in the removed edge\n",
    "            add_edge!(graph, edgeToRemove)\n",
    "        end\n",
    "    end\n",
    "    \n",
    "    # No edge can be removed without diconnecting the graph\n",
    "    return(1)\n",
    "end\n",
    "\n",
    "\"\"\"\n",
    "Swap edges in a structure graph\n",
    "\"\"\"\n",
    "function mutateSwapEdges!(sGraph::structureGraph)\n",
    "    graph = sGraph.graph\n",
    "    competition = sGraph.competition\n",
    "    \n",
    "    edgesList = [e for e in edges(graph)]\n",
    "    edgesIndicesOrder = randperm(length(edgesList))\n",
    "    \n",
    "    for (indexIndex, edgeIndex) = enumerate(edgesIndicesOrder)\n",
    "        edge1 = edgesList[edgeIndex]\n",
    "        edge2 = edgesList[edgesIndicesOrder[1+(indexIndex % length(edgesList))]]\n",
    "        # Ensure that no self link will be created\n",
    "        if Tuple(edge1)[1] != Tuple(edge2)[2] && Tuple(edge2)[1] != Tuple(edge1)[2]\n",
    "            # Start by deleting the old edges\n",
    "            rem_edge!(graph, edge1)\n",
    "            rem_edge!(graph, edge2)\n",
    "            # Then add the new ones if not linking competitors\n",
    "            if competition[Tuple(edge1)[1]] != competition[Tuple(edge2)[2]]\n",
    "                add_edge!(graph, Tuple(edge1)[1], Tuple(edge2)[2])\n",
    "            end\n",
    "            if competition[Tuple(edge2)[2]] != competition[Tuple(edge1)[2]]\n",
    "                add_edge!(graph, Tuple(edge2)[1], Tuple(edge1)[2])\n",
    "            end\n",
    "            if is_connected(graph)\n",
    "                return(0)\n",
    "            else\n",
    "                # So structure graph should be kept connected\n",
    "                # Therefore we put back in the removed edges\n",
    "                add_edge!(graph, edge1)\n",
    "                add_edge!(graph, edge2)\n",
    "                # NB: extra edges will stay if any\n",
    "            end\n",
    "        end\n",
    "    end\n",
    "    \n",
    "    # No edges can be swapped without diconnecting the graph\n",
    "    return(1)\n",
    "end\n",
    "\n",
    "\"\"\"\n",
    "Mutate competing nodes\n",
    "\"\"\"\n",
    "function mutateCompetitors!(sGraph::structureGraph)\n",
    "    graph = sGraph.graph\n",
    "    competition = sGraph.competition\n",
    "    \n",
    "    # Select node to change competition class\n",
    "    nodeComp = rand(1:nv(graph))\n",
    "    # Select new competition class\n",
    "    newComp = rand(1:nv(graph))\n",
    "    for n = neighbors(graph, nodeComp)\n",
    "        if competition[n] == newComp\n",
    "            # Changing the competition class would lead to linked competitors\n",
    "            return(1)\n",
    "        end\n",
    "    end\n",
    "    competition[nodeComp] = newComp\n",
    "    \n",
    "    return(0)\n",
    "end\n",
    "\n",
    "\"\"\"\n",
    "Cross-over between two structure graphs\n",
    "\"\"\"\n",
    "function crossOverGraphs!(sGraph1::structureGraph, sGraph2::structureGraph)\n",
    "    return(1)\n",
    "end"
   ]
  },
  {
   "cell_type": "markdown",
   "metadata": {},
   "source": [
    "## Genetic algorithm module"
   ]
  },
  {
   "cell_type": "code",
   "execution_count": null,
   "metadata": {},
   "outputs": [],
   "source": [
    "\"\"\"\n",
    "Compute loss for a given structure\n",
    "compared to observation\n",
    "\"\"\"\n",
    "function observedLoss(sGraph::structureGraph,\n",
    "    details::Bool = false, alpha::Float64 = ALPHA)\n",
    "    pGraphARID, pGraphBRG = structureToPulldowns(sGraph)\n",
    "    \n",
    "    observedEdgesARID = edgeTypesARID[alpha]\n",
    "    observedEdgesBRG = edgeTypesBRG[alpha]\n",
    "    \n",
    "    intersectEdgesARID = intersect(pGraphARID.edges, observedEdgesARID)\n",
    "    intersectEdgesBRG = intersect(pGraphBRG.edges, observedEdgesBRG)\n",
    "    unionEdgesARID = union(pGraphARID.edges, observedEdgesARID)\n",
    "    unionEdgesBRG = union(pGraphBRG.edges, observedEdgesBRG)\n",
    "    \n",
    "    if details\n",
    "        # Return array with Jaccard index\n",
    "        # length of union and length of  \n",
    "        return([(length(intersectEdgesARID)+length(intersectEdgesBRG)) / (length(unionEdgesARID)+length(unionEdgesBRG)),\n",
    "                length(intersectEdgesARID), length(pGraphARID.edges), length(intersectEdgesBRG), length(pGraphBRG.edges)])\n",
    "    else\n",
    "        # Return Jaccard index\n",
    "        return([(length(intersectEdgesARID)+length(intersectEdgesBRG)) / (length(unionEdgesARID)+length(unionEdgesBRG))])\n",
    "    end\n",
    "end\n",
    "\n",
    "\"\"\"\n",
    "Generate in place the new generation of \n",
    "structure graphs based on their fitness.\n",
    "Return the fitness array.\n",
    "\"\"\"\n",
    "function reproduceGeneration!(pop::Array{structureGraph,1},\n",
    "    details::Bool = false)\n",
    "    jaccard = map(x -> observedLoss(x,details), pop)\n",
    "    fitness = map(x -> x[1], jaccard)\n",
    "    fitness ./= sum(fitness)\n",
    "    \n",
    "    sumFitness = sum(fitness) \n",
    "    if sumFitness != 1\n",
    "        fitness[end] += 1 - sumFitness\n",
    "    end\n",
    "    # Ensure the cumulative fitnesses is a probability distribution\n",
    "    \n",
    "    offspringPerGraph = rand(Multinomial(length(pop), fitness), 1)\n",
    "    offspring = Array{structureGraph,1}(length(pop))\n",
    "    \n",
    "    offspringToFill = 1 # Which is the next index to be filled?\n",
    "    for (ipop, noff) = enumerate(offspringPerGraph)\n",
    "        for ioff = 1:noff\n",
    "            offspring[offspringToFill] = deepcopy(pop[ipop])\n",
    "            offspringToFill += 1\n",
    "        end\n",
    "    end\n",
    "    \n",
    "    # Ensure the best structure graph is kept\n",
    "    bestGraphIndex = findmax(fitness)[2]\n",
    "    if offspringPerGraph[bestGraphIndex] == 0\n",
    "        # No offspring for the best graph\n",
    "        # So we force one\n",
    "        offspring[1] = deepcopy(pop[bestGraphIndex])\n",
    "    end\n",
    "    \n",
    "    pop .= offspring\n",
    "        \n",
    "    return(jaccard)\n",
    "end\n",
    "\n",
    "\"\"\"\n",
    "Generate the new generation of structure networks\n",
    "\"\"\"\n",
    "function newGeneration!(pop::Array{structureGraph,1},\n",
    "        details::Bool = false;\n",
    "        p_add = 0.1, p_del = p_add, p_swp = p_add, p_cmp = p_add, p_crs = p_add/10)\n",
    "    # Fitness-based reproduction\n",
    "    fitness = reproduceGeneration!(pop, details)\n",
    "    \n",
    "    # Mutate potentially each structure network\n",
    "    map(x -> mutateStructureGraph!(x;\n",
    "            p_add = p_add, p_del = p_del, p_swp = p_swp, p_cmp = p_cmp), pop)\n",
    "    \n",
    "    # Cross-over\n",
    "#     if rand() < p_crs\n",
    "#         sGraph1 = rand(pop)\n",
    "#         sGraph2 = rand(pop)\n",
    "#         if sGraph1 != sGraph2\n",
    "#             crossOverGraphs!(sGraph1, sGraph2)\n",
    "#         end\n",
    "#     end\n",
    "    \n",
    "    return(fitness)\n",
    "end"
   ]
  },
  {
   "cell_type": "markdown",
   "metadata": {},
   "source": [
    "## Run genetic algorithm"
   ]
  },
  {
   "cell_type": "code",
   "execution_count": null,
   "metadata": {},
   "outputs": [],
   "source": [
    "# Run parameters\n",
    "const N = 100 # Number of graphs [500, 1000]\n",
    "const L = 10000 # Number 0f iterations [minimum 2000/1000 needed, 5000, 10000,25000]\n",
    "const P = 0.026 # Probability of mutation [0.01275, 0.026]\n",
    "# Expect 10% of graphs mutated per generation"
   ]
  },
  {
   "cell_type": "code",
   "execution_count": null,
   "metadata": {},
   "outputs": [],
   "source": [
    "# Max number of edges in a graph\n",
    "maxEdges = Int64(M*(M-1)/2)\n",
    "\n",
    "# Initialize population\n",
    "pop = map(x -> structureGraph(\n",
    "        Graph(M, rand(1:maxEdges)),\n",
    "        copy(unitDictString),\n",
    "        Dict(e => e for e in 1:M)),\n",
    "    1:N)\n",
    "\n",
    "# Ensure connectivity\n",
    "map(connectGraph!, pop)"
   ]
  },
  {
   "cell_type": "code",
   "execution_count": null,
   "metadata": {},
   "outputs": [],
   "source": [
    "#H ow often should we keep track of the system's state?\n",
    "monitorStep = 40\n",
    "    \n",
    "@time begin\n",
    "quantileFitness = Array{Float16}(Int(ceil(L/monitorStep)), 5)\n",
    "quantileIntersectARID = Array{Float16}(Int(ceil(L/monitorStep)), 5)\n",
    "quantileSimulatedEdgesARID = Array{Float16}(Int(ceil(L/monitorStep)), 5)\n",
    "quantileIntersectBRG = Array{Float16}(Int(ceil(L/monitorStep)), 5)\n",
    "quantileSimulatedEdgesBRG = Array{Float16}(Int(ceil(L/monitorStep)), 5)\n",
    "for i in 1:L\n",
    "    if i % monitorStep == 1\n",
    "        f = newGeneration!(pop, true, p_add = P)\n",
    "        currentStep = Int(ceil(i/monitorStep))\n",
    "        quantileFitness[currentStep,:] = quantile(map(x -> x[1], f))\n",
    "        quantileIntersectARID[currentStep,:] = quantile(map(x -> x[2], f))\n",
    "        quantileSimulatedEdgesARID[currentStep,:] = quantile(map(x -> x[3], f))\n",
    "        quantileIntersectBRG[currentStep,:] = quantile(map(x -> x[4], f))\n",
    "        quantileSimulatedEdgesBRG[currentStep,:] = quantile(map(x -> x[5], f))\n",
    "    else\n",
    "        f = newGeneration!(pop, false, p_add = P)\n",
    "    end\n",
    "end\n",
    "end"
   ]
  },
  {
   "cell_type": "code",
   "execution_count": null,
   "metadata": {},
   "outputs": [],
   "source": [
    "using JLD, HDF5\n",
    "\n",
    "save(\"/Users/lvulliard/tests/BAF_Julia/test.jld\",\"pop\", pop,\n",
    "    \"fitness\", quantileFitness, \"intersectARID\", quantileIntersectARID, \"quantileSimulatedEdgesARID\", quantileSimulatedEdgesARID,\n",
    "    \"intersectBRG\", quantileIntersectBRG, \"quantileSimulatedEdgesBRG\", quantileSimulatedEdgesBRG)"
   ]
  },
  {
   "cell_type": "markdown",
   "metadata": {},
   "source": [
    "## Monitor results"
   ]
  },
  {
   "cell_type": "code",
   "execution_count": null,
   "metadata": {},
   "outputs": [],
   "source": [
    "indexBestGraph"
   ]
  },
  {
   "cell_type": "code",
   "execution_count": null,
   "metadata": {
    "scrolled": false
   },
   "outputs": [],
   "source": [
    "indexBestGraph = findmax(map(x -> observedLoss(x, true)[1], pop))[2]\n",
    "bestStructure = pop[indexBestGraph]\n",
    "bestPulldownARID, bestPulldownBRG = structureToPulldowns(bestStructure)"
   ]
  },
  {
   "cell_type": "code",
   "execution_count": null,
   "metadata": {},
   "outputs": [],
   "source": [
    "traceFitness = Array{PlotlyBase.GenericTrace{Dict{Symbol,Any}}}(5)\n",
    "\n",
    "for i = 1:5\n",
    "    traceFitness[i] = scatter(\n",
    "        x= 1+monitorStep*((1:Int(ceil(L/monitorStep)))-1), name= string(\"Top \", 25*(i-1), \"%\"),\n",
    "        y= quantileFitness[:,i], mode=\"lines+markers\")\n",
    "end\n",
    "\n",
    "layoutFitness = Layout(yaxis_title=\"<b>Jaccard coefficient distribution</b>\", xaxis_title = \"<b>Generation</b>\")\n",
    "\n",
    "plot(traceFitness, layoutFitness)"
   ]
  },
  {
   "cell_type": "code",
   "execution_count": null,
   "metadata": {},
   "outputs": [],
   "source": [
    "traceIntersectARID = Array{PlotlyBase.GenericTrace{Dict{Symbol,Any}}}(6)\n",
    "\n",
    "for i = 1:5\n",
    "    traceIntersectARID[i] = scatter(\n",
    "        x= 1+monitorStep*((1:Int(ceil(L/monitorStep)))-1), name = string(\"Top \", 25*(i-1), \"%\"),\n",
    "        y= quantileIntersectARID[:,i], mode=\"lines+markers\")\n",
    "end\n",
    "\n",
    "traceIntersectARID[6] = scatter(\n",
    "    x= 1+monitorStep*((1:Int(ceil(L/monitorStep)))-1), name = \"Edges in observed pull-down graph\",\n",
    "    y= map(x -> length(edgeTypesARID[0.05]), 1+monitorStep*((1:Int(ceil(L/monitorStep)))-1)), mode=\"lines\")\n",
    "\n",
    "layoutIntersectARID = Layout(yaxis_title=\"<b>Pull-down edges intersection size</b>\", xaxis_title = \"<b>Generation</b>\")\n",
    "\n",
    "plot(traceIntersectARID, layoutIntersectARID)"
   ]
  },
  {
   "cell_type": "code",
   "execution_count": null,
   "metadata": {},
   "outputs": [],
   "source": [
    "traceSimulatedEdgesARID = Array{PlotlyBase.GenericTrace{Dict{Symbol,Any}}}(5)\n",
    "\n",
    "for i = 1:5\n",
    "    traceSimulatedEdgesARID[i] = scatter(\n",
    "        x= 1+monitorStep*((1:Int(ceil(L/monitorStep)))-1), name= string(\"Top \", 25*(i-1), \"%\"),\n",
    "        y= quantileSimulatedEdgesARID[:,i], mode=\"lines+markers\")\n",
    "end\n",
    "\n",
    "layoutSimulatedEdgesARID = Layout(yaxis_title=\"<b>Number of simulated pull-down edges</b>\", xaxis_title = \"<b>Generation</b>\")\n",
    "\n",
    "plot(traceSimulatedEdgesARID, layoutSimulatedEdgesARID)"
   ]
  },
  {
   "cell_type": "code",
   "execution_count": null,
   "metadata": {},
   "outputs": [],
   "source": [
    "traceIntersectBRG = Array{PlotlyBase.GenericTrace{Dict{Symbol,Any}}}(6)\n",
    "\n",
    "for i = 1:5\n",
    "    traceIntersectBRG[i] = scatter(\n",
    "        x= 1+monitorStep*((1:Int(ceil(L/monitorStep)))-1), name = string(\"Top \", 25*(i-1), \"%\"),\n",
    "        y= quantileIntersectBRG[:,i], mode=\"lines+markers\")\n",
    "end\n",
    "\n",
    "traceIntersectBRG[6] = scatter(\n",
    "    x= 1+monitorStep*((1:Int(ceil(L/monitorStep)))-1), name = \"Edges in observed pull-down graph\",\n",
    "    y= map(x -> length(edgeTypesBRG[0.05]), 1+monitorStep*((1:Int(ceil(L/monitorStep)))-1)), mode=\"lines\")\n",
    "\n",
    "layoutIntersectBRG = Layout(yaxis_title=\"<b>Pull-down edges intersection size</b>\", xaxis_title = \"<b>Generation</b>\")\n",
    "\n",
    "plot(traceIntersectBRG, layoutIntersectBRG)"
   ]
  },
  {
   "cell_type": "code",
   "execution_count": null,
   "metadata": {
    "scrolled": false
   },
   "outputs": [],
   "source": [
    "traceSimulatedEdgesBRG = Array{PlotlyBase.GenericTrace{Dict{Symbol,Any}}}(5)\n",
    "\n",
    "for i = 1:5\n",
    "    traceSimulatedEdgesBRG[i] = scatter(\n",
    "        x= 1+monitorStep*((1:Int(ceil(L/monitorStep)))-1), name= string(\"Top \", 25*(i-1), \"%\"),\n",
    "        y= quantileSimulatedEdgesBRG[:,i], mode=\"lines+markers\")\n",
    "end\n",
    "\n",
    "layoutSimulatedEdgesBRG = Layout(yaxis_title=\"<b>Number of simulated pull-down edges</b>\", xaxis_title = \"<b>Generation</b>\")\n",
    "\n",
    "plot(traceSimulatedEdgesBRG, layoutSimulatedEdgesBRG)"
   ]
  },
  {
   "cell_type": "markdown",
   "metadata": {},
   "source": [
    "### Display infered heatmap"
   ]
  },
  {
   "cell_type": "code",
   "execution_count": null,
   "metadata": {
    "collapsed": true
   },
   "outputs": [],
   "source": [
    "pdSimData = zeros(length(studyARIDpd), length(studyARIDko))\n",
    "\n",
    "for (edges, edgeType) = bestPulldownARID.edges\n",
    "    # Which cell should we fill?\n",
    "    indexKO = findfirst(studyARIDko, unitDictString[edges[1]])\n",
    "    indexPD = findfirst(studyARIDpd, unitDictString[edges[2]])\n",
    "    \n",
    "    # What type / value for the edge?\n",
    "    t = edgeType == \"inhibits\" ? -1 : 1\n",
    "    \n",
    "    pdSimData[indexPD, indexKO] = t\n",
    "end"
   ]
  },
  {
   "cell_type": "code",
   "execution_count": null,
   "metadata": {
    "scrolled": false
   },
   "outputs": [],
   "source": [
    "tracePdHeatmap = heatmap(\n",
    "    x=studyARIDpd,\n",
    "    y=studyARIDko, # NB: filter genes outside of BAF complex\n",
    "    z=pdSimData\n",
    ")\n",
    "\n",
    "stylePdHeatmap = Style(global_trace=attr(colorscale=[[0, \"rgb(0,0,255)\"], [0.5, \"rgb(255,255,255)\"], [1, \"rgb(255,0,0)\"]]))\n",
    "layoutPdHeatmap = Layout(;margin_l = 100, margin_t = 20, yaxis_title=\"<b>Knocked-out gene</b>\", xaxis_title = \"<b>BAF subunit</b>\")\n",
    "plot(tracePdHeatmap, layoutPdHeatmap, style=stylePdHeatmap)"
   ]
  },
  {
   "cell_type": "code",
   "execution_count": null,
   "metadata": {
    "scrolled": false
   },
   "outputs": [],
   "source": [
    "plot(traceArid, layoutArid, style=styleArid)"
   ]
  },
  {
   "cell_type": "code",
   "execution_count": null,
   "metadata": {
    "collapsed": true
   },
   "outputs": [],
   "source": [
    "pdSimData = zeros(length(studyBRGpd), length(studyBRGko))\n",
    "\n",
    "for (edges, edgeType) = bestPulldownBRG.edges\n",
    "    # Which cell should we fill?\n",
    "    indexKO = findfirst(studyBRGko, unitDictString[edges[1]])\n",
    "    indexPD = findfirst(studyBRGpd, unitDictString[edges[2]])\n",
    "    \n",
    "    # What type / value for the edge?\n",
    "    t = edgeType == \"inhibits\" ? -1 : 1\n",
    "    \n",
    "    pdSimData[indexPD, indexKO] = t\n",
    "end"
   ]
  },
  {
   "cell_type": "code",
   "execution_count": null,
   "metadata": {
    "scrolled": false
   },
   "outputs": [],
   "source": [
    "tracePdHeatmap = heatmap(\n",
    "    x=studyBRGpd,\n",
    "    y=studyBRGko, # NB: filter genes outside of BAF complex\n",
    "    z=pdSimData\n",
    ")\n",
    "\n",
    "stylePdHeatmap = Style(global_trace=attr(colorscale=[[0, \"rgb(0,0,255)\"], [0.5, \"rgb(255,255,255)\"], [1, \"rgb(255,0,0)\"]]))\n",
    "layoutPdHeatmap = Layout(;margin_l = 100, margin_t = 20, yaxis_title=\"<b>Knocked-out gene</b>\", xaxis_title = \"<b>BAF subunit</b>\")\n",
    "plot(tracePdHeatmap, layoutPdHeatmap, style=stylePdHeatmap)"
   ]
  },
  {
   "cell_type": "code",
   "execution_count": null,
   "metadata": {
    "scrolled": true
   },
   "outputs": [],
   "source": [
    "plot(traceBrg, layoutBrg, style=styleBrg)"
   ]
  },
  {
   "cell_type": "markdown",
   "metadata": {},
   "source": [
    "## Average on whole population"
   ]
  },
  {
   "cell_type": "code",
   "execution_count": null,
   "metadata": {
    "collapsed": true
   },
   "outputs": [],
   "source": [
    "# Weight by fitness\n",
    "popWeight = map(x -> observedLoss(x, true)[1], pop)"
   ]
  },
  {
   "cell_type": "code",
   "execution_count": null,
   "metadata": {
    "collapsed": true
   },
   "outputs": [],
   "source": [
    "averageComp = Dict{Tuple,Float64}((i,j) => 0 for i in 1:nv(pop[1].graph) for j in 1:nv(pop[1].graph) if i > j)\n",
    "for i in 1:length(pop)\n",
    "    graph = pop[i].graph\n",
    "    competition = pop[i].competition\n",
    "    for nodeA in 2:nv(graph)\n",
    "        for nodeB in 1:nv(graph)\n",
    "            if nodeA > nodeB && competition[nodeA] == competition[nodeB]\n",
    "                averageComp[(nodeA,nodeB)] += popWeight[i]\n",
    "            end\n",
    "        end\n",
    "    end\n",
    "end\n",
    "                \n",
    "# Remove null values\n",
    "averageComp = Dict(c => v/sum(popWeight) for (c,v) in averageComp if v > 0)"
   ]
  },
  {
   "cell_type": "code",
   "execution_count": null,
   "metadata": {
    "collapsed": true,
    "scrolled": true
   },
   "outputs": [],
   "source": [
    "# Cumulated weights of the graph having each edge\n",
    "averageEdges = Dict{Tuple,Float64}((i,j) => 0 for i in 1:nv(pop[1].graph) for j in 1:nv(pop[1].graph) if i != j)\n",
    "for i in 1:length(pop)\n",
    "    for c = edges(pop[i].graph)\n",
    "        averageEdges[Tuple(c)] += popWeight[i]\n",
    "    end\n",
    "end\n",
    "                \n",
    "# Remove null values\n",
    "averageEdges = Dict(c => v/sum(popWeight) for (c,v) in averageEdges if v != 0)"
   ]
  },
  {
   "cell_type": "markdown",
   "metadata": {},
   "source": [
    "### Export graph with two weighted edge types"
   ]
  },
  {
   "cell_type": "code",
   "execution_count": null,
   "metadata": {
    "collapsed": true
   },
   "outputs": [],
   "source": [
    "fileGML = open(\"ARID_average_structure.gml\", \"w\")\n",
    "saveLabeledGml(fileGML, bestPulldown.graph, bestPulldown.nodes, averageEdges, averageComp)\n",
    "close(fileGML)"
   ]
  },
  {
   "cell_type": "markdown",
   "metadata": {},
   "source": [
    "## Alternative initial conditions"
   ]
  },
  {
   "cell_type": "markdown",
   "metadata": {},
   "source": [
    "### Competition classes from sequence similarity"
   ]
  },
  {
   "cell_type": "code",
   "execution_count": null,
   "metadata": {
    "collapsed": true
   },
   "outputs": [],
   "source": [
    "# Max number of edges in a graph\n",
    "maxEdges = Int64(M*(M-1)/2)\n",
    "\n",
    "# Litterature competitions\n",
    "compDictLitt = Dict(unitDict[\"SMARCA4\"] => 1,\n",
    "    unitDict[\"SMARCA2\"] => 1,\n",
    "    unitDict[\"ARID1A\"] => 2,\n",
    "    unitDict[\"ARID1B\"] => 2,\n",
    "    unitDict[\"SMARCD1\"] => 3,\n",
    "    unitDict[\"SMARCD2\"] => 3,\n",
    "    unitDict[\"SMARCD3\"] => 3,\n",
    "    unitDict[\"DPF1\"] => 4,\n",
    "    unitDict[\"DPF2\"] => 4,\n",
    "    unitDict[\"DPF3\"] => 4,\n",
    "    unitDict[\"SMARCC1\"] => 5,\n",
    "    unitDict[\"SMARCC2\"] => 5,\n",
    "    unitDict[\"SS18\"] => 7,\n",
    "    unitDict[\"SS18L1\"] => 7,\n",
    "    unitDict[\"BCL11A\"] => 8,\n",
    "    unitDict[\"BCL11B\"] => 8,\n",
    "    unitDict[\"ACTL6A\"] => 9,\n",
    "    unitDict[\"ACTL6B\"] => 9\n",
    ")\n",
    "\n",
    "# Initialize population\n",
    "pop2 = map(x -> structureGraph(\n",
    "        Graph(M, rand(1:maxEdges)),\n",
    "        copy(unitDictString),\n",
    "        copy(compDictLitt)),\n",
    "    pop2)\n",
    "\n",
    "# Ensure connectivity\n",
    "map(randomCompetitionGraph!, pop2)\n",
    "map(connectGraph!, pop2)"
   ]
  },
  {
   "cell_type": "markdown",
   "metadata": {},
   "source": [
    "### Litterature-based initial interactions"
   ]
  },
  {
   "cell_type": "code",
   "execution_count": null,
   "metadata": {
    "collapsed": true
   },
   "outputs": [],
   "source": [
    "# Max number of edges in a graph\n",
    "maxEdges = Int64(M*(M-1)/2)\n",
    "\n",
    "# Litterature competitions\n",
    "compDictLitt = Dict(unitDict[\"SMARCA4\"] => 1,\n",
    "    unitDict[\"SMARCA2\"] => 1,\n",
    "    unitDict[\"ARID1A\"] => 2,\n",
    "    unitDict[\"ARID1B\"] => 2,    \n",
    "    unitDict[\"ARID2\"] => 2,\n",
    "    unitDict[\"SMARCD1\"] => 3,\n",
    "    unitDict[\"SMARCD2\"] => 3,\n",
    "    unitDict[\"SMARCD3\"] => 3,\n",
    "    unitDict[\"PHF10\"] => 4,\n",
    "    unitDict[\"DPF1\"] => 4,\n",
    "    unitDict[\"DPF2\"] => 4,\n",
    "    unitDict[\"DPF3\"] => 4,\n",
    "    unitDict[\"SMARCC1\"] => 5,\n",
    "    unitDict[\"SMARCC2\"] => 5,\n",
    "    unitDict[\"BCL7A\"] => 6,\n",
    "    unitDict[\"BCL7B\"] => 6,\n",
    "    unitDict[\"BCL7C\"] => 6,\n",
    "    unitDict[\"SS18\"] => 7,\n",
    "    unitDict[\"SS18L1\"] => 7,\n",
    "    unitDict[\"BCL11A\"] => 8,\n",
    "    unitDict[\"BCL11B\"] => 8,\n",
    "    unitDict[\"ACTL6A\"] => 9,\n",
    "    unitDict[\"ACTL6B\"] => 9\n",
    ")\n",
    "\n",
    "graphLitt = Graph(M)\n",
    "add_edge!(graphLitt, unitDict[\"SMARCC1\"], unitDict[\"SMARCB1\"])\n",
    "add_edge!(graphLitt, unitDict[\"SMARCE1\"], unitDict[\"SMARCC1\"])\n",
    "add_edge!(graphLitt, unitDict[\"SMARCE1\"], unitDict[\"SMARCC2\"])\n",
    "add_edge!(graphLitt, unitDict[\"SMARCA4\"], unitDict[\"ACTB\"])\n",
    "add_edge!(graphLitt, unitDict[\"SMARCA4\"], unitDict[\"ACTL6A\"])\n",
    "add_edge!(graphLitt, unitDict[\"SMARCA4\"], unitDict[\"ACTL6B\"])\n",
    "add_edge!(graphLitt, unitDict[\"SMARCA2\"], unitDict[\"ACTB\"])\n",
    "add_edge!(graphLitt, unitDict[\"SMARCA2\"], unitDict[\"ACTL6A\"])\n",
    "add_edge!(graphLitt, unitDict[\"SMARCA2\"], unitDict[\"ACTL6B\"])\n",
    "\n",
    "# Initialize population\\\n",
    "pop2 = map(x -> structureGraph(\n",
    "        deepcopy(graphLitt),\n",
    "        copy(unitDictString),\n",
    "        copy(compDictLitt)),\n",
    "    pop2)\n",
    "\n",
    "# Ensure connectivity\n",
    "map(randomCompetitionGraph!, pop2)\n",
    "map(connectGraph!, pop2)\n",
    "\n",
    "pop2"
   ]
  },
  {
   "cell_type": "markdown",
   "metadata": {},
   "source": [
    "### Similarity matrix"
   ]
  },
  {
   "cell_type": "code",
   "execution_count": null,
   "metadata": {
    "collapsed": true
   },
   "outputs": [],
   "source": [
    "\"\"\"\n",
    "Results from cluster: (remove line carriages)\n",
    "simiMatrix = [1.0 0.207006 0.245482 0.128962 0.211506 0.167286 0.160516 0.633574 0.207006 0.251582 0.233227 0.68797 0.123537\n",
    "    0.235974 0.222581 0.241908 0.232468 0.231383 0.188136 0.140107 0.206501 0.191045 0.238095 0.192079 0.19788 0.24957 0.155979\n",
    "    0.170489 0.244698; 0.208599 1.0 0.209192 0.125541 0.600462 0.133497 0.134977 0.199422 0.18465 0.204545 0.195423 0.200297\n",
    "    0.125272 0.203267 0.207581 0.2 0.192612 0.184507 0.179688 0.141088 0.184946 0.197674 0.212544 0.166667 0.19604 0.188645\n",
    "    0.141774 0.161832 0.184919; 0.238872 0.209192 1.0 0.126785 0.209756 0.157509 0.154249 0.239832 0.214592 0.238547 0.239234\n",
    "    0.243205 0.125271 0.247947 0.278523 0.224456 0.239596 0.219346 0.199321 0.143697 0.201479 0.205231 0.224843 0.194175 0.193825\n",
    "    0.241042 0.156682 0.178899 0.273032; 0.128962 0.125541 0.126352 1.0 0.118004 0.215679 0.214984 0.139404 0.17138 0.108658\n",
    "    0.112847 0.135439 0.510444 0.111979 0.111785 0.105355 0.133047 0.137484 0.186358 0.226488 0.0732984 0.18314 0.107281 0.0675087\n",
    "    0.0873533 0.105401 0.213578 0.18419 0.104737; 0.211506 0.599078 0.209756 0.118004 1.0 0.129032 0.125734 0.21519 0.193296 0.233512\n",
    "    0.206522 0.210031 0.116855 0.205405 0.226843 0.211429 0.19837 0.205382 0.174978 0.137669 0.216401 0.177335 0.228417 0.197727 \n",
    "    0.191983 0.20566 0.136817 0.153485 0.188406; 0.167286 0.133578 0.157605 0.21573 0.129273 1.0 0.726394 0.186847 0.194958 0.145679 \n",
    "    0.146221 0.169765 0.222878 0.155376 0.141971 0.132262 0.177177 0.17491 0.214169 0.21491 0.0969356 0.204307 0.139765 0.09 0.108628 \n",
    "    0.138547 0.226012 0.208075 0.14532; 0.160516 0.134977 0.154249 0.214415 0.125734 0.726238 1.0 0.181555 0.195931 0.13783 0.142019 \n",
    "    0.165015 0.234224 0.151622 0.132042 0.127422 0.181612 0.169714 0.215104 0.216478 0.094362 0.197906 0.140598 0.0877817 0.110913 \n",
    "    0.130715 0.22488 0.208394 0.144191; 0.633574 0.199422 0.238095 0.139404 0.21643 0.186847 0.181555 1.0 0.225572 0.24805 0.233129 \n",
    "    0.653571 0.141746 0.22884 0.2118 0.242928 0.230769 0.219451 0.198826 0.150026 0.189807 0.216056 0.246554 0.181004 0.194847 \n",
    "    0.223089 0.156751 0.179026 0.232666; 0.206383 0.184855 0.214592 0.171236 0.193296 0.194507 0.195513 0.225572 1.0 0.206593 \n",
    "    0.19214 0.201903 0.171429 0.201105 0.198661 0.174302 0.221574 0.228426 0.223388 0.195455 0.153121 0.608879 0.213816 0.146714 \n",
    "    0.167637 0.184902 0.204833 0.226415 0.210699; 0.251981 0.208042 0.238547 0.108658 0.236655 0.145679 0.13783 0.24805 0.205689 \n",
    "    1.0 0.227671 0.233487 0.111642 0.231834 0.235081 0.37744 0.228883 0.21458 0.175454 0.139069 0.224576 0.195344 0.842593 0.198276 \n",
    "    0.221557 0.239209 0.144944 0.164877 0.24237; 0.227564 0.195423 0.240711 0.112847 0.206522 0.145511 0.142019 0.233129 0.19214 \n",
    "    0.227671 1.0 0.215267 0.112413 0.246914 0.411647 0.242481 0.206851 0.208333 0.177193 0.12224 0.192225 0.197505 0.24237 0.183036 \n",
    "    0.216667 0.226345 0.13785 0.164988 0.482688; 0.68797 0.200297 0.242165 0.135439 0.208791 0.170476 0.164822 0.653571 0.203158 \n",
    "    0.233487 0.215267 1.0 0.129381 0.235679 0.224359 0.242833 0.229529 0.223702 0.186085 0.144149 0.194495 0.20297 0.237097 0.186567 \n",
    "    0.19637 0.232595 0.15634 0.174347 0.22807; 0.123537 0.125272 0.125271 0.510824 0.117391 0.223373 0.234311 0.141746 0.171429 \n",
    "    0.11087 0.112413 0.129381 1.0 0.111836 0.106817 0.104257 0.141026 0.139776 0.174868 0.22823 0.0747704 0.193737 0.10913 0.0720524 \n",
    "    0.0820602 0.106087 0.201242 0.191216 0.108988; 0.235489 0.203267 0.247947 0.111979 0.205405 0.156328 0.151622 0.231496 0.201105 \n",
    "    0.231834 0.246914 0.234811 0.111836 1.0 0.217626 0.229478 0.23594 0.222543 0.180299 0.121846 0.210177 0.180513 0.230241 0.207965 \n",
    "    0.202062 0.235622 0.146113 0.168232 0.20654; 0.223301 0.207581 0.278523 0.111304 0.226843 0.141708 0.132042 0.2118 0.197998 \n",
    "    0.233273 0.411647 0.224359 0.105995 0.217626 1.0 0.243494 0.211022 0.209169 0.16509 0.124798 0.213004 0.195173 0.234432 0.210884 \n",
    "    0.223849 0.229358 0.141279 0.160187 0.545455; 0.241908 0.200737 0.223154 0.105263 0.209924 0.132262 0.127422 0.242928 0.175223 \n",
    "    0.383117 0.242481 0.246667 0.104212 0.229478 0.243494 1.0 0.197479 0.21988 0.159649 0.1195 0.211401 0.182773 0.380435 0.194712 \n",
    "    0.232104 0.241843 0.128938 0.155294 0.238447; 0.233463 0.192612 0.239899 0.133047 0.19837 0.176188 0.181612 0.230769 0.222006 \n",
    "    0.227086 0.206851 0.229529 0.140899 0.23594 0.213026 0.197479 1.0 0.3687 0.222494 0.173706 0.174298 0.218808 0.233379 0.168405 \n",
    "    0.189189 0.204545 0.188851 0.212166 0.208995; 0.231383 0.184922 0.219346 0.137424 0.204255 0.175407 0.169714 0.219451 0.228195 \n",
    "    0.21458 0.208333 0.221929 0.139776 0.222543 0.210678 0.21988 0.368212 1.0 0.217464 0.165869 0.203252 0.224784 0.221127 0.171799 \n",
    "    0.218553 0.211731 0.17531 0.202256 0.212079; 0.189143 0.179688 0.199321 0.186434 0.176471 0.214169 0.214062 0.198826 0.223221 \n",
    "    0.178664 0.177193 0.187081 0.174694 0.180299 0.16595 0.159649 0.222675 0.217464 1.0 0.21334 0.136568 0.227338 0.184324 0.127469 \n",
    "    0.147294 0.175439 0.238547 0.581749 0.163404; 0.140107 0.141088 0.143697 0.223938 0.137127 0.213899 0.216741 0.150026 0.196465 \n",
    "    0.137372 0.12224 0.144149 0.22815 0.121912 0.124865 0.1195 0.173798 0.165157 0.213621 1.0 0.0924918 0.203008 0.140541 0.0898204 \n",
    "    0.106775 0.12581 0.21841 0.217719 0.118123; 0.206501 0.184946 0.201479 0.0732984 0.216401 0.0969356 0.094362 0.189807 0.153121 \n",
    "    0.224359 0.193966 0.194495 0.0747051 0.210177 0.212054 0.211401 0.175258 0.203252 0.136445 0.0924918 1.0 0.150985 0.228448 0.324528 \n",
    "    0.319527 0.213152 0.100413 0.122709 0.185897; 0.191426 0.196842 0.206269 0.182947 0.178082 0.205638 0.197906 0.214286 0.608879 \n",
    "    0.195939 0.198339 0.199802 0.192997 0.179567 0.195173 0.182105 0.218808 0.225 0.226062 0.202899 0.150985 1.0 0.196099 0.13956 \n",
    "    0.170467 0.184293 0.211777 0.228224 0.194617; 0.236542 0.213542 0.224843 0.107281 0.228417 0.139765 0.140598 0.246177 0.213582\n",
    "    0.842593 0.240072 0.23435 0.109952 0.228916 0.236264 0.382932 0.236092 0.221127 0.184324 0.140541 0.228448 0.196099 1.0 0.194748 \n",
    "    0.216599 0.245009 0.143521 0.16834 0.235612; 0.192913 0.166667 0.194175 0.0675087 0.197727 0.0898876 0.0877817 0.181004 0.146714 \n",
    "    0.197849 0.183036 0.186567 0.0720524 0.206667 0.209459 0.194712 0.168405 0.171799 0.127469 0.0898204 0.32342 0.139407 0.194748 \n",
    "    1.0 0.292169 0.21729 0.0920354 0.114035 0.184211; 0.19788 0.201195 0.190476 0.0873533 0.191983 0.108628 0.110913 0.194847 0.167442 \n",
    "    0.221557 0.216667 0.19637 0.0820244 0.202062 0.224066 0.227766 0.18892 0.21821 0.147919 0.106775 0.319527 0.170467 0.215886 0.292169 \n",
    "    1.0 0.220807 0.11385 0.138013 0.230924; 0.249141 0.188645 0.241042 0.10579 0.204934 0.139692 0.130486 0.222741 0.184498 0.239209 \n",
    "    0.226345 0.232227 0.106337 0.235622 0.229358 0.241379 0.203481 0.211429 0.175439 0.12581 0.213152 0.184953 0.245009 0.218824 \n",
    "    0.220807 1.0 0.138533 0.168478 0.235612; 0.155491 0.141774 0.156196 0.2135 0.136817 0.224943 0.225989 0.15729 0.205721 0.145114 \n",
    "    0.137347 0.155852 0.201681 0.146199 0.141279 0.128938 0.188958 0.176172 0.239244 0.218593 0.0993495 0.211892 0.143521 0.0921986 \n",
    "    0.11385 0.137529 1.0 0.238956 0.139019; 0.170489 0.161956 0.178271 0.184047 0.153605 0.20788 0.208496 0.179082 0.22549 0.164877 \n",
    "    0.165244 0.173047 0.191216 0.168363 0.160187 0.157109 0.213066 0.202112 0.581749 0.217514 0.121212 0.228591 0.16834 0.114035 \n",
    "    0.137549 0.167963 0.239578 1.0 0.160714; 0.24513 0.184919 0.272575 0.104783 0.184116 0.14532 0.14319 0.233846 0.210699 0.244123\n",
    "    0.482688 0.22807 0.108941 0.213058 0.545455 0.233151 0.208995 0.211781 0.163404 0.117996 0.185897 0.194617 0.243292 0.184211 \n",
    "    0.232323 0.234234 0.139019 0.159566 1.0]\n",
    "unitList = String[\"SMARCD3\", \"SS18\", \"PHF10\", \"ARID1B\", \"SS18L1\", \"SMARCA2\", \"SMARCA4\", \"SMARCD2\", \"BCL11A\", \"ACTL6A\", \"DPF3\", \n",
    "\"SMARCD1\", \"ARID1A\", \"SMARCE1\", \"DPF2\", \"ACTB\", \"BRD7\", \"BRD9\", \"SMARCC1\", \"ARID2\", \"BCL7A\", \"BCL11B\", \"ACTL6B\", \"BCL7B\", \n",
    "\"BCL7C\", \"SMARCB1\", \"PBRM1\", \"SMARCC2\", \"DPF1\"]\n",
    "\"\"\""
   ]
  },
  {
   "cell_type": "code",
   "execution_count": null,
   "metadata": {
    "collapsed": true
   },
   "outputs": [],
   "source": [
    "distMatrix = 1 - simiMatrix\n",
    "for x = 1:size(distMatrix)[1]\n",
    "    for y = 1:size(distMatrix)[2]\n",
    "        if x > y\n",
    "            if distMatrix[x,y] - distMatrix[y,x] > 0.007\n",
    "                println(x, '-', y) # Not happening, differences are small\n",
    "            end\n",
    "            distMatrix[x,y] = distMatrix[y,x]\n",
    "        end\n",
    "    end\n",
    "end"
   ]
  },
  {
   "cell_type": "code",
   "execution_count": null,
   "metadata": {
    "collapsed": true
   },
   "outputs": [],
   "source": [
    "distMatrix = 1 - simiMatrix\n",
    "for x = 1:size(distMatrix)[1]\n",
    "    for y = 1:size(distMatrix)[2]\n",
    "        if x > y\n",
    "            if distMatrix[x,y] - distMatrix[y,x] > 0.007\n",
    "                println(x, '-', y) # Not happening, differences are small\n",
    "            end\n",
    "            distMatrix[x,y] = distMatrix[y,x]\n",
    "        end\n",
    "    end\n",
    "end"
   ]
  },
  {
   "cell_type": "code",
   "execution_count": null,
   "metadata": {
    "collapsed": true
   },
   "outputs": [],
   "source": [
    "fileSimilarity = open(\"similarityMatrix.csv\", \"w\")\n",
    "CSV.write(fileSimilarity, DataFrame(simiMatrix, Symbol.(unitList)))\n",
    "close(fileSimilarity)"
   ]
  },
  {
   "cell_type": "code",
   "execution_count": null,
   "metadata": {
    "collapsed": true
   },
   "outputs": [],
   "source": [
    "traceSimilarity = heatmap(\n",
    "    x=unitList[orderDistMatrix],\n",
    "    y=unitList[orderDistMatrix],\n",
    "    z=simiMatrix[orderDistMatrix,orderDistMatrix]\n",
    ")\n",
    "\n",
    "styleSimilarity = Style(global_trace=attr(colorscale=[[0, \"rgb(255,255,255)\"], [1, \"rgb(0,85,100)\"]]))\n",
    "layoutSimilarity = Layout(;font_family=\"arial\", font_size=10, margin_l = 100, margin_t = 20, margin_b = 60, xaxis_tickangle = -40, \n",
    "    xaxis_title = \"<b>BAF/PBAF subunit</b>\")\n",
    "p = plot(traceSimilarity, layoutSimilarity, style=styleSimilarity)"
   ]
  },
  {
   "cell_type": "code",
   "execution_count": null,
   "metadata": {
    "collapsed": true,
    "scrolled": true
   },
   "outputs": [],
   "source": [
    "savefig(p, \"similarityMatrix.svg\")"
   ]
  },
  {
   "cell_type": "markdown",
   "metadata": {},
   "source": [
    "## Average across all runs"
   ]
  },
  {
   "cell_type": "code",
   "execution_count": null,
   "metadata": {
    "collapsed": true
   },
   "outputs": [],
   "source": [
    "using JLD, HDF5\n",
    "\n",
    "# Load all simulations\n",
    "pop_runs = Dict{String, Dict{Float64, Array{Dict}}}()\n",
    "folder = \"/Users/lvulliard/tests/BAF_Julia/Archive/OutBAFPBAF/\"\n",
    "all_files = [i for i in readdir(folder) if contains(i, \".jld\")]\n",
    "for ini = [\"_simi_\", \"_rand_\", \"_litt_\"]\n",
    "    files_ini = [i for i in all_files if contains(i, ini)]\n",
    "    pop_runs[ini] = Dict{Float64, Array{Dict}}()\n",
    "    for alpha = [0.1, 0.05, 0.01, 0.005]\n",
    "        alpha_motif = \"_\"*replace(string(alpha), \".\", \"\")*\"_\"\n",
    "        files_alpha = [i for i in files_ini if contains(i, alpha_motif)]\n",
    "        pop_runs[ini][alpha] = Array{Dict}(25)\n",
    "        for (index, file) = enumerate(files_alpha)\n",
    "            pop_runs[ini][alpha][index] = load(folder*file)\n",
    "        end\n",
    "    end\n",
    "end"
   ]
  },
  {
   "cell_type": "code",
   "execution_count": null,
   "metadata": {
    "collapsed": true
   },
   "outputs": [],
   "source": [
    "# Look at distribution of final fitnesses for each condition\n",
    "[(ini, alpha, quantile([popl[\"fitness\"][end] for popl in arrayAlpha])) for (ini, dictIni) in pop_runs for (alpha, arrayAlpha) in dictIni]"
   ]
  },
  {
   "cell_type": "markdown",
   "metadata": {},
   "source": [
    "### Observe best simulation"
   ]
  },
  {
   "cell_type": "code",
   "execution_count": null,
   "metadata": {
    "collapsed": true
   },
   "outputs": [],
   "source": [
    "bestFitness = .0\n",
    "pop = 0\n",
    "indexBestGraph = 0\n",
    "indexBestPop = 0\n",
    "\n",
    "for i = 1:25\n",
    "    fitness, bestIndex = findmax(map(x -> observedLoss(x, false, 0.005)[1], pop_runs[\"_rand_\"][0.005][i][\"pop\"]))\n",
    "    if fitness > bestFitness\n",
    "        bestFitness = fitness\n",
    "        pop = pop_runs[\"_rand_\"][0.005][i][\"pop\"]\n",
    "        indexBestGraph = bestIndex\n",
    "        indexBestPop = i\n",
    "    end\n",
    "end"
   ]
  },
  {
   "cell_type": "code",
   "execution_count": null,
   "metadata": {
    "collapsed": true,
    "scrolled": false
   },
   "outputs": [],
   "source": [
    "bestStructure = pop[indexBestGraph]\n",
    "bestPulldownARID, bestPulldownBRG = structureToPulldowns(bestStructure)"
   ]
  },
  {
   "cell_type": "code",
   "execution_count": null,
   "metadata": {
    "collapsed": true
   },
   "outputs": [],
   "source": [
    "quantileFitness = pop_runs[\"_rand_\"][0.005][indexBestPop][\"fitness\"]\n",
    "quantileIntersectBRG = pop_runs[\"_rand_\"][0.005][indexBestPop][\"intersectBRG\"]\n",
    "quantileIntersectARID = pop_runs[\"_rand_\"][0.005][indexBestPop][\"intersectARID\"]\n",
    "quantileSimulatedEdgesARID = pop_runs[\"_rand_\"][0.005][indexBestPop][\"quantileSimulatedEdgesARID\"]\n",
    "quantileSimulatedEdgesBRG = pop_runs[\"_rand_\"][0.005][indexBestPop][\"quantileSimulatedEdgesBRG\"]\n",
    "L = 10000\n",
    "monitorStep = 50"
   ]
  },
  {
   "cell_type": "code",
   "execution_count": null,
   "metadata": {
    "collapsed": true
   },
   "outputs": [],
   "source": [
    "traceFitness = Array{PlotlyBase.GenericTrace{Dict{Symbol,Any}}}(5)\n",
    "\n",
    "for i = 1:5\n",
    "    traceFitness[i] = scatter(\n",
    "        x= 1+monitorStep*((1:Int(ceil(L/monitorStep)))-1), name= string(\"Top \", 25*(i-1), \"%\"),\n",
    "        y= quantileFitness[:,i], mode=\"lines+markers\")\n",
    "end\n",
    "\n",
    "layoutFitness = Layout(yaxis_title=\"<b>Jaccard coefficient distribution</b>\", xaxis_title = \"<b>Generation</b>\")\n",
    "\n",
    "plot(traceFitness, layoutFitness)"
   ]
  },
  {
   "cell_type": "code",
   "execution_count": null,
   "metadata": {
    "collapsed": true
   },
   "outputs": [],
   "source": [
    "traceIntersectARID = Array{PlotlyBase.GenericTrace{Dict{Symbol,Any}}}(6)\n",
    "\n",
    "for i = 1:5\n",
    "    traceIntersectARID[i] = scatter(\n",
    "        x= 1+monitorStep*((1:Int(ceil(L/monitorStep)))-1), name = string(\"Top \", 25*(i-1), \"%\"),\n",
    "        y= quantileIntersectARID[:,i], mode=\"lines+markers\")\n",
    "end\n",
    "\n",
    "traceIntersectARID[6] = scatter(\n",
    "    x= 1+monitorStep*((1:Int(ceil(L/monitorStep)))-1), name = \"Edges in observed pull-down graph\",\n",
    "    y= map(x -> length(edgeTypesARID[0.05]), 1+monitorStep*((1:Int(ceil(L/monitorStep)))-1)), mode=\"lines\")\n",
    "\n",
    "layoutIntersectARID = Layout(yaxis_title=\"<b>Pull-down edges intersection size</b>\", xaxis_title = \"<b>Generation</b>\")\n",
    "\n",
    "plot(traceIntersectARID, layoutIntersectARID)"
   ]
  },
  {
   "cell_type": "code",
   "execution_count": null,
   "metadata": {
    "collapsed": true
   },
   "outputs": [],
   "source": [
    "traceSimulatedEdgesARID = Array{PlotlyBase.GenericTrace{Dict{Symbol,Any}}}(5)\n",
    "\n",
    "for i = 1:5\n",
    "    traceSimulatedEdgesARID[i] = scatter(\n",
    "        x= 1+monitorStep*((1:Int(ceil(L/monitorStep)))-1), name= string(\"Top \", 25*(i-1), \"%\"),\n",
    "        y= quantileSimulatedEdgesARID[:,i], mode=\"lines+markers\")\n",
    "end\n",
    "\n",
    "layoutSimulatedEdgesARID = Layout(yaxis_title=\"<b>Number of simulated pull-down edges</b>\", xaxis_title = \"<b>Generation</b>\")\n",
    "\n",
    "plot(traceSimulatedEdgesARID, layoutSimulatedEdgesARID)"
   ]
  },
  {
   "cell_type": "code",
   "execution_count": null,
   "metadata": {
    "collapsed": true
   },
   "outputs": [],
   "source": [
    "traceIntersectBRG = Array{PlotlyBase.GenericTrace{Dict{Symbol,Any}}}(6)\n",
    "\n",
    "for i = 1:5\n",
    "    traceIntersectBRG[i] = scatter(\n",
    "        x= 1+monitorStep*((1:Int(ceil(L/monitorStep)))-1), name = string(\"Top \", 25*(i-1), \"%\"),\n",
    "        y= quantileIntersectBRG[:,i], mode=\"lines+markers\")\n",
    "end\n",
    "\n",
    "traceIntersectBRG[6] = scatter(\n",
    "    x= 1+monitorStep*((1:Int(ceil(L/monitorStep)))-1), name = \"Edges in observed pull-down graph\",\n",
    "    y= map(x -> length(edgeTypesBRG[0.05]), 1+monitorStep*((1:Int(ceil(L/monitorStep)))-1)), mode=\"lines\")\n",
    "\n",
    "layoutIntersectBRG = Layout(yaxis_title=\"<b>Pull-down edges intersection size</b>\", xaxis_title = \"<b>Generation</b>\")\n",
    "\n",
    "plot(traceIntersectBRG, layoutIntersectBRG)"
   ]
  },
  {
   "cell_type": "code",
   "execution_count": null,
   "metadata": {
    "collapsed": true,
    "scrolled": true
   },
   "outputs": [],
   "source": [
    "traceSimulatedEdgesBRG = Array{PlotlyBase.GenericTrace{Dict{Symbol,Any}}}(5)\n",
    "\n",
    "for i = 1:5\n",
    "    traceSimulatedEdgesBRG[i] = scatter(\n",
    "        x= 1+monitorStep*((1:Int(ceil(L/monitorStep)))-1), name= string(\"Top \", 25*(i-1), \"%\"),\n",
    "        y= quantileSimulatedEdgesBRG[:,i], mode=\"lines+markers\")\n",
    "end\n",
    "\n",
    "layoutSimulatedEdgesBRG = Layout(yaxis_title=\"<b>Number of simulated pull-down edges</b>\", xaxis_title = \"<b>Generation</b>\")\n",
    "\n",
    "plot(traceSimulatedEdgesBRG, layoutSimulatedEdgesBRG)"
   ]
  },
  {
   "cell_type": "markdown",
   "metadata": {},
   "source": [
    "### Compute and export average"
   ]
  },
  {
   "cell_type": "code",
   "execution_count": null,
   "metadata": {
    "collapsed": true
   },
   "outputs": [],
   "source": [
    "# Weight by fitness\n",
    "# Store weights for all initial conditions\n",
    "popWeights = Dict{String, Dict{Float64,Array{Array{Float64}}}}()\n",
    "sumWeights = .0\n",
    "\n",
    "for (ini, iniDict) = pop_runs\n",
    "    # Store weights for all alpha thresholds\n",
    "    popWeights[ini] = Dict{Float64,Array{Array{Float64}}}()\n",
    "    println(ini)\n",
    "    for (alpha, alphaArray) = iniDict\n",
    "        # Store weights for each simulation\n",
    "        popWeights[ini][alpha] = Array{Array{Float64}}(25)\n",
    "        println(alpha)\n",
    "        for (indexSim, sim) = enumerate(alphaArray)\n",
    "            popWeights[ini][alpha][indexSim] = map(x -> observedLoss(x, false, alpha)[1], sim[\"pop\"])\n",
    "            sumWeights += popWeights[ini][alpha][indexSim]\n",
    "        end\n",
    "    end\n",
    "end\n",
    "\n",
    "sumWeights = sum(sumWeights)"
   ]
  },
  {
   "cell_type": "code",
   "execution_count": null,
   "metadata": {
    "collapsed": true
   },
   "outputs": [],
   "source": [
    "averageComp = Dict{Tuple,Float64}((i,j) => 0 for i in 1:M for j in 1:M if i > j)\n",
    "                \n",
    "for (ini, iniDict) = pop_runs\n",
    "    println(ini)\n",
    "    for (alpha, alphaArray) = iniDict\n",
    "        println(alpha)\n",
    "        for (indexSim, sim) = enumerate(alphaArray)\n",
    "            for (indexPop, pop) in enumerate(sim[\"pop\"])\n",
    "                graph = pop.graph\n",
    "                competition = pop.competition\n",
    "                for nodeA in 2:M\n",
    "                    for nodeB in 1:M\n",
    "                        if nodeA > nodeB && competition[nodeA] == competition[nodeB]\n",
    "                            averageComp[(nodeA,nodeB)] += popWeights[ini][alpha][indexSim][indexPop]\n",
    "                        end\n",
    "                    end\n",
    "                end\n",
    "            end\n",
    "        end\n",
    "    end\n",
    "end\n",
    "                \n",
    "# Remove null values\n",
    "averageComp = Dict(c => v/sumWeights for (c,v) in averageComp if v > 0)"
   ]
  },
  {
   "cell_type": "code",
   "execution_count": null,
   "metadata": {
    "collapsed": true,
    "scrolled": true
   },
   "outputs": [],
   "source": [
    "# Cumulated weights of the graph having each edge\n",
    "averageEdges = Dict{Tuple,Float64}((i,j) => 0 for i in 1:M for j in 1:M if i != j)\n",
    "\n",
    "for (ini, iniDict) = pop_runs\n",
    "    println(ini)\n",
    "    for (alpha, alphaArray) = iniDict\n",
    "        println(alpha)\n",
    "        for (indexSim, sim) = enumerate(alphaArray)\n",
    "            for (indexPop, pop) in enumerate(sim[\"pop\"])\n",
    "                for c = edges(pop.graph)\n",
    "                    # Edge's nodes are always sorted\n",
    "                    averageEdges[Tuple(c)] += popWeights[ini][alpha][indexSim][indexPop]\n",
    "                end\n",
    "            end\n",
    "        end\n",
    "    end\n",
    "end\n",
    "                \n",
    "# Remove null values\n",
    "averageEdges = Dict(c => v/sumWeights for (c,v) in averageEdges if v != 0)"
   ]
  },
  {
   "cell_type": "code",
   "execution_count": null,
   "metadata": {
    "collapsed": true
   },
   "outputs": [],
   "source": [
    "fileGML = open(\"BAFPBAF_average_structure.gml\", \"w\")\n",
    "saveLabeledGml(fileGML, bestStructure.graph, bestStructure.nodes, averageEdges, averageComp)\n",
    "close(fileGML)"
   ]
  },
  {
   "cell_type": "code",
   "execution_count": null,
   "metadata": {
    "collapsed": true
   },
   "outputs": [],
   "source": [
    "averageMat = Array{Float64}(M,M)\n",
    "averageMat .= 0\n",
    "\n",
    "# Alphabetical order of units\n",
    "alphaOrderUnits = Dict(v => i for (i,v) in enumerate(sort(unitList)))\n",
    "aoUnit = function(x::Int64)\n",
    "    return(alphaOrderUnits[bestStructure.nodes[x]])\n",
    "end\n",
    "\n",
    "# Fill competition under the diagonal of the matrix\n",
    "# i.e. x < y\n",
    "for (t,v) = averageComp\n",
    "    x,y = sort(aoUnit.(collect(t)))\n",
    "    averageMat[x,y] = v\n",
    "end\n",
    "\n",
    "# Fill connections above the diagonal of the matrix\n",
    "# i.e. x > y\n",
    "for (t,v) = averageEdges\n",
    "    y,x = sort(aoUnit.(collect(t)))\n",
    "    averageMat[x,y] = -v\n",
    "end\n",
    "\n",
    "traceAverage = heatmap(\n",
    "    x=sort(unitList),\n",
    "    y=sort(unitList),\n",
    "    z=averageMat)\n",
    "\n",
    "styleAverage = Style(global_trace=attr(colorscale=[[0, \"rgb(0,140,160)\"],\n",
    "            [minimum(averageMat)/(minimum(averageMat)-maximum(averageMat)), \"rgb(255,255,255)\"], [1, \"rgb(210,50,60)\"]]))\n",
    "layoutAverage = Layout(;margin_l = 90, margin_t = 5, margin_b = 80, yaxis_title=\"\", xaxis_tickangle = -45,\n",
    "    xaxis_title = \"<b>Interaction</b>\", yaxis_title = \"<b>Competition</b>\", font_family=\"arial\", font_size=10)\n",
    "\n",
    "p = plot(traceAverage, layoutAverage, style=styleAverage)"
   ]
  },
  {
   "cell_type": "code",
   "execution_count": null,
   "metadata": {
    "collapsed": true,
    "scrolled": true
   },
   "outputs": [],
   "source": [
    "savefig(p, \"subD.svg\")"
   ]
  },
  {
   "cell_type": "code",
   "execution_count": null,
   "metadata": {
    "collapsed": true
   },
   "outputs": [],
   "source": [
    "# Get minimal and maximal fitnesses\n",
    "minWeight, maxWeight = (1,0)\n",
    "\n",
    "for (ini, iniDict) = pop_runs\n",
    "    # Store weights for all alpha thresholds\n",
    "    println(ini)\n",
    "    for (alpha, alphaArray) = iniDict\n",
    "        # Store weights for each simulation\n",
    "        println(alpha)\n",
    "        for (indexSim, sim) = enumerate(alphaArray)\n",
    "            mini = minimum(popWeights[ini][alpha][indexSim])\n",
    "            Maxi = maximum(popWeights[ini][alpha][indexSim])\n",
    "            minWeight = (mini < minWeight) ? mini : minWeight\n",
    "            maxWeight = (Maxi > maxWeight) ? Maxi : maxWeight\n",
    "        end\n",
    "    end\n",
    "end"
   ]
  },
  {
   "cell_type": "code",
   "execution_count": null,
   "metadata": {
    "collapsed": true
   },
   "outputs": [],
   "source": [
    "versioninfo()"
   ]
  },
  {
   "cell_type": "code",
   "execution_count": null,
   "metadata": {
    "collapsed": true
   },
   "outputs": [],
   "source": [
    "Pkg.status()"
   ]
  },
  {
   "cell_type": "code",
   "execution_count": null,
   "metadata": {
    "collapsed": true
   },
   "outputs": [],
   "source": [
    "NBSHUFFLE = 1000000"
   ]
  },
  {
   "cell_type": "markdown",
   "metadata": {},
   "source": [
    "## Analyze runs"
   ]
  },
  {
   "cell_type": "code",
   "execution_count": null,
   "metadata": {
    "collapsed": true
   },
   "outputs": [],
   "source": [
    "using JLD\n",
    "simDir = \"/Volumes/lvulliard/Documents/BAF-structure/\"\n",
    "allSimFiles = [i for i in readdir(simDir) if contains(i, \"run_shuffle\")]\n",
    "simSummaries = Array{Dict}(length(allSimFiles))\n",
    "for (i, file) in enumerate(allSimFiles)\n",
    "    simSummaries[i] = load(simDir*file)\n",
    "end"
   ]
  },
  {
   "cell_type": "code",
   "execution_count": null,
   "metadata": {
    "scrolled": true
   },
   "outputs": [],
   "source": [
    "nbRuns = length(simSummaries)\n",
    "N = 500\n",
    "weightSim = 1/(nbRuns*N)"
   ]
  },
  {
   "cell_type": "code",
   "execution_count": null,
   "metadata": {},
   "outputs": [],
   "source": [
    "averageComp = Dict{Tuple,Float64}((i,j) => 0 for i in 1:M for j in 1:M if i > j)\n",
    "\n",
    "for runs in simSummaries\n",
    "    for sim in runs[\"pop\"]\n",
    "        graph = sim.graph\n",
    "        competition = sim.competition\n",
    "        for nodeA in 2:M\n",
    "            for nodeB in 1:M\n",
    "                if nodeA > nodeB && competition[nodeA] == competition[nodeB]\n",
    "                    averageComp[(nodeA,nodeB)] += weightSim\n",
    "                end\n",
    "            end\n",
    "        end\n",
    "    end\n",
    "end\n",
    "                \n",
    "# Remove null values\n",
    "averageComp = Dict(c => v for (c,v) in averageComp if v > 0)"
   ]
  },
  {
   "cell_type": "code",
   "execution_count": null,
   "metadata": {},
   "outputs": [],
   "source": [
    "sortedEdgeComp = sort([(v,k) for (k,v) in averageComp])"
   ]
  },
  {
   "cell_type": "code",
   "execution_count": null,
   "metadata": {},
   "outputs": [],
   "source": [
    "for (k,v) in reverse(sortedEdgeComp)\n",
    "    println([unitDictString[u] for u in v])\n",
    "end"
   ]
  },
  {
   "cell_type": "code",
   "execution_count": null,
   "metadata": {},
   "outputs": [],
   "source": [
    "averageEdges = Dict{Tuple,Float64}((i,j) => 0 for i in 1:M for j in 1:M if i < j)\n",
    "\n",
    "for runs in simSummaries\n",
    "    for sim in runs[\"pop\"]\n",
    "        for c = edges(sim.graph)\n",
    "            # Edge's nodes are always sorted\n",
    "            averageEdges[Tuple(c)] += weightSim\n",
    "        end\n",
    "    end\n",
    "end\n",
    "                \n",
    "# Remove null values\n",
    "averageEdges = Dict(c => v for (c,v) in averageEdges if v > 0)"
   ]
  },
  {
   "cell_type": "code",
   "execution_count": null,
   "metadata": {},
   "outputs": [],
   "source": [
    "sortedEdges = sort([(v,k) for (k,v) in averageEdges])"
   ]
  },
  {
   "cell_type": "code",
   "execution_count": null,
   "metadata": {},
   "outputs": [],
   "source": [
    "for (k,v) in reverse(sortedEdges)\n",
    "    println([unitDictString[u] for u in v])\n",
    "end"
   ]
  },
  {
   "cell_type": "code",
   "execution_count": null,
   "metadata": {},
   "outputs": [],
   "source": [
    "traceHistEdges = histogram(x=map(x -> x[1], sortedEdges), opacity=0.75, name=\"Shuf. interaction rate\",\n",
    "    histnorm=\"probability\", marker_color = \"rgb(0,140,160)\", nbinsx = 20)\n",
    "traceHistComp = histogram(x=map(x -> x[1], sortedEdgeComp), opacity=0.75, name=\"Shuf. competition rate\",\n",
    "    histnorm=\"probability\", marker_color = \"rgb(210,50,60)\", nbinsx = 20)\n",
    "data = [traceHistEdges, traceHistComp]\n",
    "layout = Layout(barmode=\"overlay\")\n",
    "plot(data, layout)"
   ]
  },
  {
   "cell_type": "markdown",
   "metadata": {},
   "source": [
    "### Compare to experimental data"
   ]
  },
  {
   "cell_type": "code",
   "execution_count": null,
   "metadata": {
    "collapsed": true
   },
   "outputs": [],
   "source": [
    "using JLD, HDF5\n",
    "\n",
    "# Load all simulations\n",
    "pop_runs = Dict{String, Dict{Float64, Array{Dict}}}()\n",
    "folder = \"/Users/lvulliard/OneShotProject/BAF_Julia/Archive/OutBAFPBAF/\"\n",
    "all_files = [i for i in readdir(folder) if contains(i, \".jld\")]\n",
    "for ini = [\"_simi_\", \"_rand_\", \"_litt_\"]\n",
    "    files_ini = [i for i in all_files if contains(i, ini)]\n",
    "    pop_runs[ini] = Dict{Float64, Array{Dict}}()\n",
    "    for alpha = [0.1, 0.05, 0.01, 0.005]\n",
    "        alpha_motif = \"_\"*replace(string(alpha), \".\", \"\")*\"_\"\n",
    "        files_alpha = [i for i in files_ini if contains(i, alpha_motif)]\n",
    "        pop_runs[ini][alpha] = Array{Dict}(25)\n",
    "        for (index, file) = enumerate(files_alpha)\n",
    "            pop_runs[ini][alpha][index] = load(folder*file)\n",
    "        end\n",
    "    end\n",
    "end"
   ]
  },
  {
   "cell_type": "code",
   "execution_count": null,
   "metadata": {},
   "outputs": [],
   "source": [
    "averageComp = Dict{Tuple,Float64}((i,j) => 0 for i in 1:M for j in 1:M if i > j)\n",
    "                \n",
    "for (ini, iniDict) = pop_runs\n",
    "    println(ini)\n",
    "    for (alpha, alphaArray) = iniDict\n",
    "        println(alpha)\n",
    "        for (indexSim, sim) = enumerate(alphaArray)\n",
    "            for (indexPop, pop) in enumerate(sim[\"pop\"])\n",
    "                graph = pop.graph\n",
    "                competition = pop.competition\n",
    "                for nodeA in 2:M\n",
    "                    for nodeB in 1:M\n",
    "                        if nodeA > nodeB && competition[nodeA] == competition[nodeB]\n",
    "                            averageComp[(nodeA,nodeB)] += 1\n",
    "                        end\n",
    "                    end\n",
    "                end\n",
    "            end\n",
    "        end\n",
    "    end\n",
    "end\n",
    "                \n",
    "sumWeights = (N*3*4*25)\n",
    "                \n",
    "# Remove null values\n",
    "averageComp = Dict(c => v/sumWeights for (c,v) in averageComp if v > 0)"
   ]
  },
  {
   "cell_type": "code",
   "execution_count": null,
   "metadata": {},
   "outputs": [],
   "source": [
    "# Cumulated weights of the graph having each edge\n",
    "averageEdges = Dict{Tuple,Float64}((i,j) => 0 for i in 1:M for j in 1:M if i != j)\n",
    "\n",
    "for (ini, iniDict) = pop_runs\n",
    "    println(ini)\n",
    "    for (alpha, alphaArray) = iniDict\n",
    "        println(alpha)\n",
    "        for (indexSim, sim) = enumerate(alphaArray)\n",
    "            for (indexPop, pop) in enumerate(sim[\"pop\"])\n",
    "                for c = edges(pop.graph)\n",
    "                    # Edge's nodes are always sorted\n",
    "                    averageEdges[Tuple(c)] += 1\n",
    "                end\n",
    "            end\n",
    "        end\n",
    "    end\n",
    "end\n",
    "                \n",
    "# Remove null values\n",
    "averageEdges = Dict(c => v/sumWeights for (c,v) in averageEdges if v != 0)"
   ]
  },
  {
   "cell_type": "code",
   "execution_count": null,
   "metadata": {
    "scrolled": false
   },
   "outputs": [],
   "source": [
    "traceHistEdgesExp = histogram(x=sort([v for (k,v) in averageEdges]), opacity=0.75, name=\"Exp. interaction rate\", \n",
    "    histnorm=\"probability\", marker_color = \"rgb(70,190,230)\", nbinsx = 20)\n",
    "traceHistCompExp = histogram(x=sort([v for (k,v) in averageComp]), opacity=0.75, name=\"Exp. competition rate\", \n",
    "    histnorm=\"probability\", marker_color = \"rgb(255,120,130)\", nbinsx = 20)\n",
    "data = [traceHistEdges, traceHistComp, traceHistEdgesExp, traceHistCompExp]\n",
    "# layout = Layout(barmode=\"stack\", xaxis_title = \"Rate\", yaxis_title = \"Frequency \", font_family=\"arial\", \n",
    "#     xaxis_range = [0.11,1], yaxis_range = [0,0.01])\n",
    "layout = Layout(barmode=\"stack\", xaxis_title = \"Rate\", yaxis_type = \"log\", \n",
    "    yaxis_title = \"Frequency \", font_family=\"arial\")#, bargroupgap=0.5)\n",
    "histoShuffle = plot(data, layout)"
   ]
  },
  {
   "cell_type": "code",
   "execution_count": null,
   "metadata": {},
   "outputs": [],
   "source": [
    "using Rsvg\n",
    "savefig(histoShuffle, \"histoDistribFreq.svg\")"
   ]
  },
  {
   "cell_type": "code",
   "execution_count": null,
   "metadata": {},
   "outputs": [],
   "source": [
    "Pkg.add(\"Rsvg\")"
   ]
  },
  {
   "cell_type": "code",
   "execution_count": null,
   "metadata": {},
   "outputs": [],
   "source": [
    "maximum(sortedEdgeComp)"
   ]
  },
  {
   "cell_type": "code",
   "execution_count": null,
   "metadata": {},
   "outputs": [],
   "source": [
    "maximum(sortedEdges)"
   ]
  },
  {
   "cell_type": "code",
   "execution_count": null,
   "metadata": {},
   "outputs": [],
   "source": [
    "begFit = 0\n",
    "endFit = 0      \n",
    "                \n",
    "for (ini, iniDict) = pop_runs\n",
    "    for (alpha, alphaArray) = iniDict\n",
    "        for (indexSim, sim) = enumerate(alphaArray)\n",
    "            fitness = sim[\"fitness\"]\n",
    "            begFit += fitness[1,3]\n",
    "            endFit += fitness[end,3]            \n",
    "        end\n",
    "    end\n",
    "end\n",
    "                \n",
    "nbSim = (3*4*25)\n",
    "          \n",
    "begFit /= nbSim\n",
    "endFit /= nbSim"
   ]
  },
  {
   "cell_type": "code",
   "execution_count": null,
   "metadata": {},
   "outputs": [],
   "source": [
    "begFitShuffle = 0\n",
    "endFitShuffle = 0   \n",
    "\n",
    "for runs in simSummaries\n",
    "    fitness = runs[\"fitness\"]\n",
    "    begFitShuffle += fitness[1,3]\n",
    "    endFitShuffle += fitness[end,3] \n",
    "end\n",
    "\n",
    "nbSim = (3*4*15)\n",
    "\n",
    "begFitShuffle /= nbSim\n",
    "endFitShuffle /= nbSim"
   ]
  },
  {
   "cell_type": "code",
   "execution_count": null,
   "metadata": {},
   "outputs": [],
   "source": [
    "println(begFitShuffle)\n",
    "println(endFitShuffle)\n",
    "println(begFit)\n",
    "println(endFit)"
   ]
  },
  {
   "cell_type": "markdown",
   "metadata": {},
   "source": [
    "## Compare synthetic lethalities to inferred subunits connectivity"
   ]
  },
  {
   "cell_type": "code",
   "execution_count": null,
   "metadata": {},
   "outputs": [],
   "source": [
    "global const ALPHA_SYNTH = 0.001"
   ]
  },
  {
   "cell_type": "code",
   "execution_count": null,
   "metadata": {},
   "outputs": [],
   "source": [
    "syntheticDF = CSV.read(\"20171120_inclOutliers_inclHits_3.txt\"; delim='\\t')\n",
    "names(syntheticDF)"
   ]
  },
  {
   "cell_type": "code",
   "execution_count": null,
   "metadata": {},
   "outputs": [],
   "source": [
    "# Keep only rows with viability values\n",
    "syntheticDF = syntheticDF[.!ismissing.(syntheticDF[:deltaPOC_noOutliers]),:]\n",
    "# Filter on p-values and keep only columns needed\n",
    "syntheticDFfiltered = syntheticDF[syntheticDF[:pValue_noOutliers] .<\n",
    "    ALPHA_SYNTH,:]\n",
    "#    ALPHA_SYNTH,[:CellLine, :GeneSymbol, :POC_noOutliers, :deltaPOC_noOutliers]]\n",
    "# Remove A549 cell lines\n",
    "syntheticDFfiltered = syntheticDFfiltered[.!contains.(syntheticDFfiltered[:CellLine], \"A549\"),:]\n",
    "categorical!(syntheticDFfiltered, :CellLine)\n",
    "# Recode the cell lines to the KOed gene\n",
    "recode!(syntheticDFfiltered[:CellLine], \"WT parental\"=>\"WT\", \"SMARCA4 4\"=>\"SMARCA4\", \"SMARCA4 6\"=>\"SMARCA4\",\n",
    "    \"ARID1A 3\"=>\"ARID1A\",  \"ARID1A 10\"=>\"ARID1A\", \"ACTIN\"=>\"ACTB\")\n",
    "# Only keep levels in use\n",
    "droplevels!(syntheticDFfiltered[:CellLine])"
   ]
  },
  {
   "cell_type": "code",
   "execution_count": null,
   "metadata": {},
   "outputs": [],
   "source": [
    "# KD genes are already formatted as needed\n",
    "allKO = split.(syntheticDFfiltered[:,:GeneSymbol], '_')\n",
    "levels(CategoricalArray(vcat(allKO...)))"
   ]
  },
  {
   "cell_type": "code",
   "execution_count": null,
   "metadata": {},
   "outputs": [],
   "source": [
    "# Combine KOed and KDed genes in one field\n",
    "syntheticDFfiltered[:Genes] = map(x -> unique(Array{String}([x[:CellLine], split(x[:GeneSymbol], '_')...])), eachrow(syntheticDFfiltered))"
   ]
  },
  {
   "cell_type": "code",
   "execution_count": null,
   "metadata": {
    "collapsed": true
   },
   "outputs": [],
   "source": [
    "# Initialize all weights to 0\n",
    "syntheticDFfiltered[:Weight] = 0\n",
    "syntheticDFfiltered[:Weight] = Float64.(syntheticDFfiltered[:Weight])\n",
    "\n",
    "# For each sample, compute the sum of the disrupted interactions\n",
    "for (sampleIndex, sample) in enumerate(syntheticDFfiltered[:Genes])\n",
    "    sampleIndices = [unitDict[gene] for gene in sample]\n",
    "    for gene in sample\n",
    "        geneIndex = unitDict[gene]\n",
    "        for u in 1:M\n",
    "            # Keys in averageEdges are ordered\n",
    "            tupleKey = u < geneIndex ? (u,geneIndex) : (geneIndex,u)\n",
    "            if tupleKey in keys(averageEdges) && !(u in sampleIndices)\n",
    "                syntheticDFfiltered[sampleIndex,:Weight] += averageEdges[tupleKey]\n",
    "            end\n",
    "        end\n",
    "    end\n",
    "end"
   ]
  },
  {
   "cell_type": "code",
   "execution_count": null,
   "metadata": {},
   "outputs": [],
   "source": [
    "traceSynthetic = Array{PlotlyBase.GenericTrace{Dict{Symbol,Any}}}(1)\n",
    "\n",
    "traceSynthetic[1] = scatter(\n",
    "    x=syntheticDFfiltered[:Weight],\n",
    "    y=syntheticDFfiltered[:deltaPOC_noOutliers],\n",
    "    marker_color = length.(syntheticDFfiltered[:Genes]),\n",
    "    mode=\"markers\"\n",
    ")\n",
    "layoutSynthetic = Layout(xaxis_title=\"<b>Sum of disrupted weights</b>\", yaxis_title = \"<b>Delta(POC)</b>\")\n",
    "\n",
    "plot(traceSynthetic, layoutSynthetic)"
   ]
  },
  {
   "cell_type": "code",
   "execution_count": null,
   "metadata": {
    "scrolled": true
   },
   "outputs": [],
   "source": [
    "traceSynthetic = Array{PlotlyBase.GenericTrace{Dict{Symbol,Any}}}(1)\n",
    "\n",
    "traceSynthetic[1] = scatter(\n",
    "    x=syntheticDFfiltered[:Weight],\n",
    "    y=syntheticDFfiltered[:POC_noOutliers],\n",
    "    marker_color = length.(syntheticDFfiltered[:Genes]),\n",
    "    mode=\"markers\"\n",
    ")\n",
    "layoutSynthetic = Layout(xaxis_title=\"<b>Sum of disrupted weights</b>\", yaxis_title = \"<b>POC</b>\")\n",
    "\n",
    "plot(traceSynthetic, layoutSynthetic)"
   ]
  },
  {
   "cell_type": "code",
   "execution_count": null,
   "metadata": {},
   "outputs": [],
   "source": [
    "println(cor(syntheticDFfiltered[:Weight],syntheticDFfiltered[:deltaPOC_noOutliers]))\n",
    "println(cor(syntheticDFfiltered[:Weight],syntheticDFfiltered[:POC_noOutliers]))\n",
    "println(cor(syntheticDFfiltered[:deltaPOC_noOutliers],syntheticDFfiltered[:POC_noOutliers]))"
   ]
  },
  {
   "cell_type": "code",
   "execution_count": null,
   "metadata": {
    "collapsed": true
   },
   "outputs": [],
   "source": [
    "# Initialize all weights to 0\n",
    "syntheticDFfiltered[:RemWeight] = 0\n",
    "syntheticDFfiltered[:RemWeight] = Float64.(syntheticDFfiltered[:RemWeight])\n",
    "\n",
    "# For each sample, compute the sum of the disrupted interactions\n",
    "for (sampleIndex, sample) in enumerate(syntheticDFfiltered[:Genes])\n",
    "    sampleIndices = [unitDict[gene] for gene in sample]\n",
    "    for u in 1:M if !(u in sampleIndices)\n",
    "        for v in (u+1):M if !(v in sampleIndices)\n",
    "            tupleKey = (u,v)\n",
    "            if tupleKey in keys(averageEdges)\n",
    "                syntheticDFfiltered[sampleIndex,:RemWeight] += averageEdges[tupleKey]\n",
    "            end\n",
    "        end end\n",
    "    end end\n",
    "end"
   ]
  },
  {
   "cell_type": "code",
   "execution_count": null,
   "metadata": {
    "scrolled": true
   },
   "outputs": [],
   "source": [
    "traceSynthetic = Array{PlotlyBase.GenericTrace{Dict{Symbol,Any}}}(1)\n",
    "\n",
    "traceSynthetic[1] = scatter(\n",
    "    x=syntheticDFfiltered[:RemWeight],\n",
    "    y=syntheticDFfiltered[:deltaPOC_noOutliers],\n",
    "    marker_color = length.(syntheticDFfiltered[:Genes]),\n",
    "    mode=\"markers\"\n",
    ")\n",
    "layoutSynthetic = Layout(xaxis_title=\"<b>Sum of disrupted weights</b>\", yaxis_title = \"<b>Delta(POC)</b>\")\n",
    "\n",
    "plot(traceSynthetic, layoutSynthetic)"
   ]
  },
  {
   "cell_type": "code",
   "execution_count": null,
   "metadata": {
    "scrolled": true
   },
   "outputs": [],
   "source": [
    "traceSynthetic = Array{PlotlyBase.GenericTrace{Dict{Symbol,Any}}}(1)\n",
    "\n",
    "traceSynthetic[1] = scatter(\n",
    "    x=syntheticDFfiltered[:RemWeight],\n",
    "    y=syntheticDFfiltered[:POC_noOutliers],\n",
    "    marker_color = length.(syntheticDFfiltered[:Genes]),\n",
    "    mode=\"markers\"\n",
    ")\n",
    "layoutSynthetic = Layout(xaxis_title=\"<b>Remaining weights</b>\", yaxis_title = \"<b>POC</b>\")\n",
    "\n",
    "plot(traceSynthetic, layoutSynthetic)"
   ]
  },
  {
   "cell_type": "code",
   "execution_count": null,
   "metadata": {},
   "outputs": [],
   "source": [
    "println(cor(syntheticDFfiltered[:RemWeight],syntheticDFfiltered[:deltaPOC_noOutliers]))\n",
    "println(cor(syntheticDFfiltered[:RemWeight],syntheticDFfiltered[:POC_noOutliers]))\n",
    "println(cor(syntheticDFfiltered[:RemWeight],syntheticDFfiltered[:Weight]))"
   ]
  },
  {
   "cell_type": "code",
   "execution_count": null,
   "metadata": {
    "scrolled": true
   },
   "outputs": [],
   "source": [
    "syntheticDFfiltered"
   ]
  },
  {
   "cell_type": "code",
   "execution_count": null,
   "metadata": {
    "scrolled": true
   },
   "outputs": [],
   "source": [
    "# Combine KOed and KDed genes in one field\n",
    "syntheticDFfiltered[:GenesKD] = map(x -> unique(Array{String}([split(x[:GeneSymbol], '_')...])), eachrow(syntheticDFfiltered))"
   ]
  },
  {
   "cell_type": "code",
   "execution_count": null,
   "metadata": {
    "collapsed": true
   },
   "outputs": [],
   "source": [
    "# Initialize all weights to 0\n",
    "syntheticDFfiltered[:KdWeight] = 0\n",
    "syntheticDFfiltered[:KdWeight] = Float64.(syntheticDFfiltered[:KdWeight])\n",
    "\n",
    "# For each sample, compute the sum of the disrupted interactions\n",
    "for (sampleIndex, sample) in enumerate(syntheticDFfiltered[:GenesKD])\n",
    "    sampleIndices = [unitDict[gene] for gene in sample]\n",
    "    for gene in sample\n",
    "        geneIndex = unitDict[gene]\n",
    "        for u in 1:M\n",
    "            # Keys in averageEdges are ordered\n",
    "            tupleKey = u < geneIndex ? (u,geneIndex) : (geneIndex,u)\n",
    "            if tupleKey in keys(averageEdges) && !(u in sampleIndices)\n",
    "                syntheticDFfiltered[sampleIndex,:KdWeight] += averageEdges[tupleKey]\n",
    "            end\n",
    "        end\n",
    "    end\n",
    "end"
   ]
  },
  {
   "cell_type": "code",
   "execution_count": null,
   "metadata": {},
   "outputs": [],
   "source": [
    "traceSynthetic = Array{PlotlyBase.GenericTrace{Dict{Symbol,Any}}}(1)\n",
    "\n",
    "traceSynthetic[1] = scatter(\n",
    "    x=syntheticDFfiltered[:KdWeight],\n",
    "    y=syntheticDFfiltered[:POC_noOutliers],\n",
    "    marker_color = length.(syntheticDFfiltered[:GenesKD]),\n",
    "    mode=\"markers\"\n",
    ")\n",
    "layoutSynthetic = Layout(xaxis_title=\"<b>Sum of disrupted weights</b>\", yaxis_title = \"<b>POC</b>\")\n",
    "\n",
    "plot(traceSynthetic, layoutSynthetic)"
   ]
  },
  {
   "cell_type": "code",
   "execution_count": null,
   "metadata": {
    "collapsed": true
   },
   "outputs": [],
   "source": [
    "# Initialize all weights to 0\n",
    "syntheticDFfiltered[:RemWeightKD] = 0\n",
    "syntheticDFfiltered[:RemWeightKD] = Float64.(syntheticDFfiltered[:RemWeightKD])\n",
    "\n",
    "# For each sample, compute the sum of the disrupted interactions\n",
    "for (sampleIndex, sample) in enumerate(syntheticDFfiltered[:GenesKD])\n",
    "    sampleIndices = [unitDict[gene] for gene in sample]\n",
    "    for u in 1:M if !(u in sampleIndices)\n",
    "        for v in (u+1):M if !(v in sampleIndices)\n",
    "            tupleKey = (u,v)\n",
    "            if tupleKey in keys(averageEdges)\n",
    "                syntheticDFfiltered[sampleIndex,:RemWeightKD] += averageEdges[tupleKey]\n",
    "            end\n",
    "        end end\n",
    "    end end\n",
    "end"
   ]
  },
  {
   "cell_type": "code",
   "execution_count": null,
   "metadata": {},
   "outputs": [],
   "source": [
    "traceSynthetic = Array{PlotlyBase.GenericTrace{Dict{Symbol,Any}}}(1)\n",
    "\n",
    "traceSynthetic[1] = scatter(\n",
    "    x=syntheticDFfiltered[:RemWeightKD],\n",
    "    y=syntheticDFfiltered[:POC_noOutliers],\n",
    "    marker_color = length.(syntheticDFfiltered[:GenesKD]),\n",
    "    mode=\"markers\"\n",
    ")\n",
    "layoutSynthetic = Layout(xaxis_title=\"<b>Remaining weights</b>\", yaxis_title = \"<b>POC</b>\")\n",
    "\n",
    "plot(traceSynthetic, layoutSynthetic)"
   ]
  },
  {
   "cell_type": "code",
   "execution_count": null,
   "metadata": {},
   "outputs": [],
   "source": [
    "println(cor(syntheticDFfiltered[:RemWeightKD],syntheticDFfiltered[:deltaPOC_noOutliers]))\n",
    "println(cor(syntheticDFfiltered[:RemWeightKD],syntheticDFfiltered[:POC_noOutliers]))\n",
    "println(cor(syntheticDFfiltered[:RemWeightKD],syntheticDFfiltered[:KdWeight]))"
   ]
  },
  {
   "cell_type": "code",
   "execution_count": null,
   "metadata": {},
   "outputs": [],
   "source": [
    "CSV.write(\"syntheticDataWithWeights.tsv\", syntheticDFfiltered; delim = '\\t')"
   ]
  },
  {
   "cell_type": "code",
   "execution_count": null,
   "metadata": {},
   "outputs": [],
   "source": [
    "traceSynthetic = Array{PlotlyBase.GenericTrace{Dict{Symbol,Any}}}(1)\n",
    "\n",
    "traceSynthetic[1] = scatter(\n",
    "    x=syntheticDF[.!ismissing.(syntheticDF[:TotalVolumeTransferred]),:TotalVolumeTransferred],\n",
    "    y=syntheticDF[.!ismissing.(syntheticDF[:TotalVolumeTransferred]),:deltaPOC_noOutliers],\n",
    "    mode=\"markers\"\n",
    ")\n",
    "layoutSynthetic = Layout(xaxis_title=\"<b>Volume transferred</b>\", yaxis_title = \"<b>deltaPOC</b>\")\n",
    "\n",
    "plot(traceSynthetic, layoutSynthetic)"
   ]
  },
  {
   "cell_type": "code",
   "execution_count": null,
   "metadata": {},
   "outputs": [],
   "source": [
    "find(ismissing.(syntheticDF[:TotalVolumeTransferred]))"
   ]
  },
  {
   "cell_type": "code",
   "execution_count": null,
   "metadata": {},
   "outputs": [],
   "source": [
    "readdir()"
   ]
  }
 ],
 "metadata": {
  "kernelspec": {
   "display_name": "Julia 0.6.2",
   "language": "julia",
   "name": "julia-0.6"
  },
  "language_info": {
   "file_extension": ".jl",
   "mimetype": "application/julia",
   "name": "julia",
   "version": "0.6.2"
  }
 },
 "nbformat": 4,
 "nbformat_minor": 2
}
