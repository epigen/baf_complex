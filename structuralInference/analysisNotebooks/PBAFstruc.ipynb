{
 "cells": [
  {
   "cell_type": "markdown",
   "metadata": {},
   "source": [
    "# Preambule"
   ]
  },
  {
   "cell_type": "markdown",
   "metadata": {},
   "source": [
    "### Import and parameters initialization"
   ]
  },
  {
   "cell_type": "code",
   "execution_count": null,
   "metadata": {},
   "outputs": [],
   "source": [
    "using CSV, DataFrames, StatsBase, Plotly, LightGraphs, GraphIO, Distributions"
   ]
  },
  {
   "cell_type": "code",
   "execution_count": null,
   "metadata": {},
   "outputs": [],
   "source": [
    "global const ALPHA = 0.05"
   ]
  },
  {
   "cell_type": "code",
   "execution_count": null,
   "metadata": {},
   "outputs": [],
   "source": [
    "srand(1)"
   ]
  },
  {
   "cell_type": "markdown",
   "metadata": {},
   "source": [
    "### Modified export functions"
   ]
  },
  {
   "cell_type": "code",
   "execution_count": null,
   "metadata": {},
   "outputs": [],
   "source": [
    "\"\"\"\n",
    "Modified from GraphIO.jl\n",
    "Write a graph `g` with node labels `nlabs` given in a dictionary to an IO stream `io` in the\n",
    "[GML](https://en.wikipedia.org/wiki/Graph_Modelling_Language) format. Return 1.\n",
    "\"\"\"\n",
    "function saveLabeledGml(io::IO, g::LightGraphs.AbstractGraph, nlabs::Dict{Int64,String})\n",
    "    println(io, \"graph\")\n",
    "    println(io, \"[\")\n",
    "    is_directed(g) && println(io, \"directed 1\")\n",
    "    for i = 1:nv(g)\n",
    "        println(io, \"\\tnode\")\n",
    "        println(io, \"\\t[\")\n",
    "        println(io, \"\\t\\tid $i\")\n",
    "        println(io, \"\\t\\tlabel \\\"\", nlabs[i], '\"')\n",
    "        println(io, \"\\t]\")\n",
    "    end\n",
    "    for e in LightGraphs.edges(g)\n",
    "        s, t = Tuple(e)\n",
    "        println(io, \"\\tedge\")\n",
    "        println(io, \"\\t[\")\n",
    "        println(io, \"\\t\\tsource $s\")\n",
    "        println(io, \"\\t\\ttarget $t\")\n",
    "        println(io, \"\\t]\")\n",
    "    end\n",
    "    println(io, \"]\")\n",
    "    return 1\n",
    "end\n",
    "\n",
    "\"\"\"\n",
    "Modified from GraphIO.jl\n",
    "Write a graph `g` with node labels `nlabs` and edge labels\n",
    "'elabs' given in two dictionaries to an IO stream `io` in the\n",
    "[GML](https://en.wikipedia.org/wiki/Graph_Modelling_Language) format. Return 1.\n",
    "\"\"\"\n",
    "function saveLabeledGml(io::IO, g::LightGraphs.AbstractGraph, nlabs::Dict{Int64,String},\n",
    "    elabs::Dict{Tuple,String})\n",
    "    println(io, \"graph\")\n",
    "    println(io, \"[\")\n",
    "    is_directed(g) && println(io, \"directed 1\")\n",
    "    for i = 1:nv(g)\n",
    "        println(io, \"\\tnode\")\n",
    "        println(io, \"\\t[\")\n",
    "        println(io, \"\\t\\tid $i\")\n",
    "        println(io, \"\\t\\tlabel \\\"\", nlabs[i], '\"')\n",
    "        println(io, \"\\t]\")\n",
    "    end\n",
    "    for e in LightGraphs.edges(g)\n",
    "        s, t = Tuple(e)\n",
    "        println(io, \"\\tedge\")\n",
    "        println(io, \"\\t[\")\n",
    "        println(io, \"\\t\\tsource $s\")\n",
    "        println(io, \"\\t\\ttarget $t\")\n",
    "        println(io, \"\\t\\tlabel \\\"\", elabs[(s,t)], '\"')\n",
    "        println(io, \"\\t]\")\n",
    "    end\n",
    "    println(io, \"]\")\n",
    "    return 1\n",
    "end\n",
    "\n",
    "\"\"\"\n",
    "Modified from GraphIO.jl\n",
    "Write a graph `g` with node labels `nlabs` and node class\n",
    "'nclass' given in two dictionaries to an IO stream `io` in the\n",
    "[GML](https://en.wikipedia.org/wiki/Graph_Modelling_Language) format. Return 1.\n",
    "\"\"\"\n",
    "function saveLabeledGml(io::IO, g::LightGraphs.AbstractGraph, nlabs::Dict{Int64,String},\n",
    "    elabs::Dict{Int64,Int64})\n",
    "    println(io, \"graph\")\n",
    "    println(io, \"[\")\n",
    "    is_directed(g) && println(io, \"directed 1\")\n",
    "    for i = 1:nv(g)\n",
    "        println(io, \"\\tnode\")\n",
    "        println(io, \"\\t[\")\n",
    "        println(io, \"\\t\\tid $i\")\n",
    "        println(io, \"\\t\\tlabel \\\"\", nlabs[i], '\"')\n",
    "        println(io, \"\\t\\tclass \", elabs[i])\n",
    "        println(io, \"\\t]\")\n",
    "    end\n",
    "    for e in LightGraphs.edges(g)\n",
    "        s, t = Tuple(e)\n",
    "        println(io, \"\\tedge\")\n",
    "        println(io, \"\\t[\")\n",
    "        println(io, \"\\t\\tsource $s\")\n",
    "        println(io, \"\\t\\ttarget $t\")\n",
    "        println(io, \"\\t]\")\n",
    "    end\n",
    "    println(io, \"]\")\n",
    "    return 1\n",
    "end\n",
    "\n",
    "\"\"\"\n",
    "Modified from GraphIO.jl\n",
    "Write a graph `g` with node labels `nlabs` and 2 sets of edge labels\n",
    "'elabs' given in three dictionaries to an IO stream `io` in the\n",
    "[GML](https://en.wikipedia.org/wiki/Graph_Modelling_Language) format. Return 1.\n",
    "\"\"\"\n",
    "function saveLabeledGml(io::IO, g::LightGraphs.AbstractGraph, nlabs::Dict{Int64,String},\n",
    "    elabs1::Dict{Tuple{Int64,Int64},Float64}, elabs2::Dict{Tuple{Int64,Int64},Float64})\n",
    "    println(io, \"graph\")\n",
    "    println(io, \"[\")\n",
    "    is_directed(g) && println(io, \"directed 1\")\n",
    "    for i = 1:nv(g)\n",
    "        println(io, \"\\tnode\")\n",
    "        println(io, \"\\t[\")\n",
    "        println(io, \"\\t\\tid $i\")\n",
    "        println(io, \"\\t\\tlabel \\\"\", nlabs[i], '\"')\n",
    "        println(io, \"\\t]\")\n",
    "    end\n",
    "    for (e,v) = elabs1\n",
    "        s, t = e\n",
    "        println(io, \"\\tedge\")\n",
    "        println(io, \"\\t[\")\n",
    "        println(io, \"\\t\\tsource $s\")\n",
    "        println(io, \"\\t\\ttarget $t\")\n",
    "        println(io, \"\\t\\tweight $v\")\n",
    "        println(io, \"\\t\\tclass 1\")\n",
    "        println(io, \"\\t]\")\n",
    "    end\n",
    "    for (e,v) = elabs2\n",
    "        s, t = e\n",
    "        println(io, \"\\tedge\")\n",
    "        println(io, \"\\t[\")\n",
    "        println(io, \"\\t\\tsource $s\")\n",
    "        println(io, \"\\t\\ttarget $t\")\n",
    "        println(io, \"\\t\\tweight $v\")\n",
    "        println(io, \"\\t\\tclass 2\")\n",
    "        println(io, \"\\t]\")\n",
    "    end\n",
    "    println(io, \"]\")\n",
    "    return 1\n",
    "end"
   ]
  },
  {
   "cell_type": "markdown",
   "metadata": {},
   "source": [
    "# BAF-PBAF complexes structure inference\n",
    "![Baf structure](BAF_struct.jpg)"
   ]
  },
  {
   "cell_type": "markdown",
   "metadata": {},
   "source": [
    "* 250A = ARID1A\n",
    "* 250B = (ARID1B)\n",
    "* 60A = SMARCD1\n",
    "* 60B = SMARCD2\n",
    "* 60C = SMARCD3\n",
    "* BCL7A = BCL7A\n",
    "* BCL7B = BCL7B\n",
    "* BCL7C = -BCL7C\n",
    "* 155 = SMARCC1 \n",
    "* 170 = SMARCC2\n",
    "* 57 = SMARCE1 \n",
    "* BRG1 = SMARCA4 \n",
    "* BRM = SMARCA2\n",
    "* 53A = ACTL6A\n",
    "* $\\beta$-actin = (ACTB)\n",
    "* SS18 = (SS18)\n",
    "* 47 = SMARCB1\n",
    "* 45D = DPF2\n",
    "* (45B) = DPF1\n",
    "* (45C) = DPF3\n",
    "* (SS18L1) = SS18L1\n",
    "\n",
    "* BRD9 = (BRD9)"
   ]
  },
  {
   "cell_type": "code",
   "execution_count": null,
   "metadata": {
    "scrolled": false
   },
   "outputs": [],
   "source": [
    "colnames = [\"Units\"    \n",
    " \"ACTB\"     \n",
    " \"ARID1B\"   \n",
    " \"ARID2\"    \n",
    " \"BCL11A\"   \n",
    " \"BCL11B\"   \n",
    " \"BCL7A\"    \n",
    " \"BCL7B\"    \n",
    " \"BRD7\"     \n",
    " \"BRD9\"     \n",
    " \"DPF1\"     \n",
    " \"DPF2\"     \n",
    " \"DPF3\"     \n",
    " \"PBRM1\"    \n",
    " \"PHF10\"    \n",
    " \"SMARCA2\"  \n",
    " \"SMARCA4.4\"\n",
    " \"SMARCA4.6\"\n",
    " \"SMARCC1\"  \n",
    " \"SMARCC2\"  \n",
    " \"SMARCD1\"  \n",
    " \"SMARCD2\"  \n",
    " \"SMARCD3\"]\n",
    "aridData = CSV.read(\"ARID1A-data.csv\"; delim='\\t', header=colnames, datarow=2)"
   ]
  },
  {
   "cell_type": "code",
   "execution_count": null,
   "metadata": {
    "collapsed": true
   },
   "outputs": [],
   "source": [
    "foreach(x -> aridData[x] = log2.(aridData[x]), names(aridData[:,2:end]))"
   ]
  },
  {
   "cell_type": "code",
   "execution_count": null,
   "metadata": {},
   "outputs": [],
   "source": [
    "aridPval = CSV.read(\"ARID1A-pval.csv\"; delim='\\t', header=colnames, datarow=2)\n",
    "aridPval[1] = aridData[1]"
   ]
  },
  {
   "cell_type": "code",
   "execution_count": null,
   "metadata": {
    "collapsed": true
   },
   "outputs": [],
   "source": [
    "colnames = [\"Units\"    \n",
    " \"ACTB\"     \n",
    " \"ARID1A.10\"\n",
    " \"ARID1A.3\" \n",
    " \"ARID1B\"   \n",
    " \"ARID2\"    \n",
    " \"BCL11A\"   \n",
    " \"BCL11B\"   \n",
    " \"BCL7A\"    \n",
    " \"BCL7B\"    \n",
    " \"BRD7\"     \n",
    " \"BRD9\"     \n",
    " \"DPF1\"     \n",
    " \"DPF2\"     \n",
    " \"DPF3\"     \n",
    " \"PBRM1\"    \n",
    " \"PHF10\"    \n",
    " \"SMARCA2\"  \n",
    " \"SMARCC1\"  \n",
    " \"SMARCC2\"  \n",
    " \"SMARCD1\"  \n",
    " \"SMARCD2\"  \n",
    " \"SMARCD3\"]\n",
    "brgData = CSV.read(\"BRG1-data.csv\"; delim='\\t', header=colnames, datarow=2)\n",
    "foreach(x -> brgData[x] = log2.(brgData[x]), names(brgData[:,2:end]))"
   ]
  },
  {
   "cell_type": "code",
   "execution_count": null,
   "metadata": {},
   "outputs": [],
   "source": [
    "brgPval = CSV.read(\"BRG1-pval.csv\"; delim='\\t', header=colnames, datarow=2)\n",
    "brgPval[1] = brgData[1]"
   ]
  },
  {
   "cell_type": "markdown",
   "metadata": {},
   "source": [
    "We now remove variations where the fold change is not significantly greater than zero."
   ]
  },
  {
   "cell_type": "code",
   "execution_count": null,
   "metadata": {
    "collapsed": true
   },
   "outputs": [],
   "source": [
    "for i in 2:length(brgData)\n",
    "    for j in 1:length(brgData[i])\n",
    "        if brgPval[j,i] > ALPHA\n",
    "            brgData[j,i] = 0\n",
    "        end\n",
    "    end\n",
    "end"
   ]
  },
  {
   "cell_type": "code",
   "execution_count": null,
   "metadata": {
    "collapsed": true
   },
   "outputs": [],
   "source": [
    "for i in 2:length(aridData)\n",
    "    for j in 1:length(aridData[i])\n",
    "        # Some values were stored as factors instead of floats, and could not be compared to ALPHA\n",
    "        try\n",
    "            if aridPval[j,i] > ALPHA\n",
    "                aridData[j,i] = 0\n",
    "            end\n",
    "        catch e\n",
    "            if isa(e, MethodError) # In case of type error when comparing the variable to ALPHA \n",
    "                if float(string(aridPval[j,i])) > ALPHA # Try converting the faulty variable\n",
    "                    aridData[j,i] = 0\n",
    "                end\n",
    "            end\n",
    "        end\n",
    "    end\n",
    "end"
   ]
  },
  {
   "cell_type": "markdown",
   "metadata": {},
   "source": [
    "## BAF complex structure\n",
    "Pulling down ARID1A only captures the BAF complex"
   ]
  },
  {
   "cell_type": "code",
   "execution_count": null,
   "metadata": {},
   "outputs": [],
   "source": [
    "# Join SMARCA4.4 and SMARCA4.6\n",
    "delete!(aridData, Symbol(\"SMARCA4.6\"))\n",
    "rename!(aridData, Symbol(\"SMARCA4.4\") => :SMARCA4)"
   ]
  },
  {
   "cell_type": "code",
   "execution_count": null,
   "metadata": {
    "scrolled": true
   },
   "outputs": [],
   "source": [
    "init_notebook(true)\n",
    "\n",
    "traceArid = heatmap(\n",
    "    x=aridData[1],\n",
    "    y=names(aridData[2:end]),\n",
    "    z=convert(Array, aridData[:,2:end])\n",
    ")\n",
    "\n",
    "#===== Color mapping\n",
    "We want a linear scale from blue to white (minimal value to zero)\n",
    "then from white to red (zero to maximal value).\n",
    "Plotly expect linear scales with endpoints in zero (minimal value)\n",
    "to 1 (maximal value), therefore we transform the coordinate c in\n",
    "our scale to plotly's scale p by the following transformation:\n",
    "p = (c - minVal)/(maxVal - minVal)\n",
    "=====#\n",
    "coordZero = -minimum(convert(Array, aridData[:,2:end])) /\n",
    "    (maximum(convert(Array, aridData[:,2:end])) - minimum(convert(Array, aridData[:,2:end])))\n",
    "styleArid = Style(global_trace=attr(colorscale=[[0, \"rgb(0,0,255)\"], [coordZero, \"rgb(255,255,255)\"], [1, \"rgb(255,0,0)\"]]))\n",
    "layoutArid = Layout(;margin_l = 100, margin_t = 20, yaxis_title=\"<b>Knocked-out gene</b>\", xaxis_title = \"<b>BAF subunit</b>\")\n",
    "\n",
    "plot(traceArid, layoutArid, style=styleArid)"
   ]
  },
  {
   "cell_type": "markdown",
   "metadata": {},
   "source": [
    "## BAF and PBAF complex structure\n",
    "Pulling down SMARCA4 captures both the BAF and PBAF complexes"
   ]
  },
  {
   "cell_type": "code",
   "execution_count": null,
   "metadata": {},
   "outputs": [],
   "source": [
    "# Join ARID1A.10 and ARID1A.3\n",
    "delete!(brgData, Symbol(\"ARID1A.3\"))\n",
    "rename!(brgData, Symbol(\"ARID1A.10\") => :ARID1A)"
   ]
  },
  {
   "cell_type": "code",
   "execution_count": null,
   "metadata": {
    "scrolled": false
   },
   "outputs": [],
   "source": [
    "traceBrg = heatmap(\n",
    "    x=brgData[1],\n",
    "    y=names(brgData[2:end]),\n",
    "    z=convert(Array, brgData[:,2:end])\n",
    ")\n",
    "\n",
    "#===== Color mapping\n",
    "We want a linear scale from blue to white (minimal value to zero)\n",
    "then from white to red (zero to maximal value).\n",
    "Plotly expect linear scales with endpoints in zero (minimal value)\n",
    "to 1 (maximal value), therefore we transform the coordinate c in\n",
    "our scale to plotly's scale p by the following transformation:\n",
    "p = (c - minVal)/(maxVal - minVal)\n",
    "=====#\n",
    "coordZero = -minimum(convert(Array, brgData[:,2:end])) /\n",
    "    (maximum(convert(Array, brgData[:,2:end])) - minimum(convert(Array, brgData[:,2:end])))\n",
    "styleBrg = Style(global_trace=attr(colorscale=[[0, \"rgb(0,0,255)\"], [coordZero, \"rgb(255,255,255)\"], [1, \"rgb(255,0,0)\"]]))\n",
    "layoutBrg = Layout(;margin_l = 100, margin_t = 20, yaxis_title=\"<b>Knocked-out gene</b>\", xaxis_title = \"<b>(P)BAF subunit</b>\")\n",
    "\n",
    "plot(traceBrg, layoutBrg, style=styleBrg)"
   ]
  },
  {
   "cell_type": "markdown",
   "metadata": {},
   "source": [
    "## Define constants used by the algorithm"
   ]
  },
  {
   "cell_type": "code",
   "execution_count": null,
   "metadata": {},
   "outputs": [],
   "source": [
    "studyBAFko = convert(Array{String,1}, names(brgData[2:end]))\n",
    "studyBAFpd = convert(Array{String,1}, brgData[1])\n",
    "unitDict = Dict(s => i for (i,s) in enumerate(sort(union(studyBAFko, studyBAFpd))))\n",
    "\n",
    "# Which elements should we include in our structural model?\n",
    "studyBAFunits = [k for k in keys(unitDict)]\n",
    "\n",
    "# How many subunits are we considering?\n",
    "const M = length(studyBAFunits)"
   ]
  },
  {
   "cell_type": "code",
   "execution_count": null,
   "metadata": {
    "collapsed": true
   },
   "outputs": [],
   "source": [
    "edgeTypes = Dict{Float64, Dict{Tuple, String}}()\n",
    "\n",
    "colnames = [\"Units\"    \n",
    " \"ACTB\"     \n",
    " \"ARID1A.10\"\n",
    " \"ARID1A.3\" \n",
    " \"ARID1B\"   \n",
    " \"ARID2\"    \n",
    " \"BCL11A\"   \n",
    " \"BCL11B\"   \n",
    " \"BCL7A\"    \n",
    " \"BCL7B\"    \n",
    " \"BRD7\"     \n",
    " \"BRD9\"     \n",
    " \"DPF1\"     \n",
    " \"DPF2\"     \n",
    " \"DPF3\"     \n",
    " \"PBRM1\"    \n",
    " \"PHF10\"    \n",
    " \"SMARCA2\"  \n",
    " \"SMARCC1\"  \n",
    " \"SMARCC2\"  \n",
    " \"SMARCD1\"  \n",
    " \"SMARCD2\"  \n",
    " \"SMARCD3\"]\n",
    "\n",
    "for alpha = [0.1, 0.05, 0.01, 0.005]    \n",
    "    brgData = CSV.read(\"BRG1-data.csv\"; delim='\\t', header=colnames, datarow=2)\n",
    "    \n",
    "    foreach(x -> brgData[x] = log2.(brgData[x]), names(brgData[:,2:end]))\n",
    "\n",
    "    for i in 2:length(brgData)\n",
    "        for j in 1:length(brgData[i])\n",
    "            # Some values were stored as factors instead of floats, and could not be compared to ALPHA\n",
    "            try\n",
    "                if brgPval[j,i] > alpha\n",
    "                    brgData[j,i] = 0\n",
    "                end\n",
    "            catch e\n",
    "                if isa(e, MethodError) # In case of type error when comparing the variable to ALPHA \n",
    "                    if float(string(brgPval[j,i])) > alpha # Try converting the faulty variable\n",
    "                        brgData[j,i] = 0\n",
    "                    end\n",
    "                end\n",
    "            end\n",
    "        end\n",
    "    end\n",
    "       \n",
    "    # Join ARID1A.10 and ARID1A.3\n",
    "    delete!(brgData, Symbol(\"ARID1A.3\"))\n",
    "    rename!(brgData, Symbol(\"ARID1A.10\") => :ARID1A)\n",
    "    \n",
    "    # Store the sign of the log2-fold-change associated with each link\n",
    "    edgeTypes[alpha] = Dict{Tuple, String}()\n",
    "\n",
    "    # Parse each column\n",
    "    for x = names(brgData[:,2:end])\n",
    "        for y = 1:length(brgData[x])\n",
    "            if brgData[y,x] < 0\n",
    "                edgeTypes[alpha][(unitDict[String(x)], unitDict[String(brgData[y,:Units])])] = \"inhibits\"\n",
    "            elseif brgData[y,x] > 0\n",
    "                edgeTypes[alpha][(unitDict[String(x)], unitDict[String(brgData[y,:Units])])] = \"enhances\"\n",
    "            end\n",
    "        end\n",
    "    end\n",
    "end"
   ]
  },
  {
   "cell_type": "code",
   "execution_count": null,
   "metadata": {},
   "outputs": [],
   "source": [
    "const inhibitEdge = \"inhibits\"\n",
    "const enhanceEdge = \"enhances\"\n",
    "\n",
    "# Remember SMARCA4 index\n",
    "const brgIndex = [i for i in 1:length(studyBAFunits) if studyBAFunits[i] == \"SMARCA4\"][1]\n",
    "# SMARCA4 should not be the last subunit in the\n",
    "\n",
    "# Link indices to unsorted list of BAF units\n",
    "unitDictStudy = Dict(enumerate(studyBAFunits))\n",
    "# Convert node indices from experimental graph to simulated graphs\n",
    "convertUnitIndex = Dict(unitDict[v] => u for (u,v) in unitDictStudy)\n",
    "observedEdges = Dict((convertUnitIndex[u[1]], convertUnitIndex[u[2]]) => v for \n",
    "        (u,v) in edgeTypes if u[1] in keys(convertUnitIndex) && u[2] in keys(convertUnitIndex))\n",
    "\n",
    "studyBAFpdIndices = [ipd for (ipd, pd) in enumerate(studyBAFunits) if pd in studyBAFpd]\n",
    "studyBAFkoIndices = [iko for (iko, ko) in enumerate(studyBAFunits) if ko in studyBAFko]"
   ]
  },
  {
   "cell_type": "code",
   "execution_count": null,
   "metadata": {
    "collapsed": true
   },
   "outputs": [],
   "source": [
    "mutable struct pulldownGraph\n",
    "    graph::SimpleDiGraph\n",
    "    nodes::Dict{Int64,String}\n",
    "    edges::Dict{Tuple, String}\n",
    "end"
   ]
  },
  {
   "cell_type": "code",
   "execution_count": null,
   "metadata": {
    "collapsed": true
   },
   "outputs": [],
   "source": [
    "mutable struct structureGraph\n",
    "    graph::SimpleGraph\n",
    "    nodes::Dict{Int64,String}\n",
    "    competition::Dict{Int64,Int64}\n",
    "end"
   ]
  },
  {
   "cell_type": "markdown",
   "metadata": {},
   "source": [
    "## Define graph functions"
   ]
  },
  {
   "cell_type": "code",
   "execution_count": null,
   "metadata": {},
   "outputs": [],
   "source": [
    "\"\"\"\n",
    "Compute pulldown graph corresponding to a\n",
    "structure graph given as argument\n",
    "\"\"\"\n",
    "function structureToPulldown(sGraph::structureGraph)\n",
    "    # The structure graph must include all BAF subunits\n",
    "    # @assert nv(sGraph.graph) == length(studyBAFunits)\n",
    "    \n",
    "    # Initialise a pulldownGraph\n",
    "    # with the studied nodes and no edges\n",
    "    pGraph = pulldownGraph(\n",
    "        SimpleDiGraph(M),\n",
    "        sGraph.nodes,\n",
    "        Dict{Tuple, String}()\n",
    "    )\n",
    "    \n",
    "    # Create dict from competitions between units                \n",
    "    competitionDict = getCompetitionDict(sGraph.competition)\n",
    "                    \n",
    "    # For each unit knocked-out\n",
    "    for iko = studyBAFkoIndices\n",
    "        # Compute what units are still connected to SMARCA4\n",
    "        pulledComponent = getPulledComponent(sGraph.graph, iko)\n",
    "        \n",
    "        # Check what would be observed for each pulled down subunit\n",
    "        for ipd = studyBAFpdIndices\n",
    "            if ipd == iko\n",
    "                # The KOed subunit is inhibited\n",
    "                add_pulldown_edge!(inhibitEdge, pGraph, ipd)\n",
    "            else\n",
    "                # If the subunit is the last in the node list,\n",
    "                # its index has been swapped with the deleted node\n",
    "                if ipd == M\n",
    "                    if !(iko in pulledComponent)\n",
    "                        add_pulldown_edge!(inhibitEdge, pGraph, iko, ipd)\n",
    "                        continue # Look at next pulldowned subunit\n",
    "                    end\n",
    "                    # The PD subunit is connected\n",
    "                    if enhanceIfDisconnectedCompetition!(pGraph, pulledComponent,\n",
    "                        competitionDict, ipd, iko)\n",
    "                        # The subunit is enriched\n",
    "                        continue # Look at next pulldowned subunit\n",
    "                    end\n",
    "                elseif !(ipd in pulledComponent)\n",
    "                    # If a subunit is not in the component connected\n",
    "                    # to SMARCA4, the KO will decrease the quantity of\n",
    "                    # this subunit that will be pulled-down\n",
    "                    add_pulldown_edge!(inhibitEdge, pGraph, iko, ipd)\n",
    "                    continue # Look at next pulldowned subunit\n",
    "                else\n",
    "                    # The PD subunit is connected\n",
    "                    enhanceIfDisconnectedCompetition!(pGraph, pulledComponent,\n",
    "                        competitionDict, ipd, iko)\n",
    "                    continue # Look at next pulldowned subunit\n",
    "                end\n",
    "            end\n",
    "        end        \n",
    "    end\n",
    "    \n",
    "    return(pGraph)\n",
    "end\n",
    "\n",
    "\"\"\"\n",
    "Return a list of all subunits still connected\n",
    "to SMARCA4 after a given KO is performed\n",
    "\"\"\"        \n",
    "function getPulledComponent(graph::LightGraphs.SimpleGraphs.SimpleGraph{Int64}, iko::Int64)\n",
    "    perturbGraph = copy(graph)\n",
    "    rem_vertex!(perturbGraph, iko)\n",
    "    pulledComponent = Array{Int64,1}\n",
    "    for component in connected_components(perturbGraph) if brgIndex in component\n",
    "        return(component)\n",
    "    end end\n",
    "end"
   ]
  },
  {
   "cell_type": "code",
   "execution_count": null,
   "metadata": {},
   "outputs": [],
   "source": [
    "\"\"\"\n",
    "Add a link to a pulldownGraph\n",
    "\"\"\"\n",
    "function add_pulldown_edge!(edgeType::String, pGraph::pulldownGraph, from::Int64, to = from)\n",
    "    add_edge!(pGraph.graph, from, to)\n",
    "    pGraph.edges[(from, to)] = edgeType\n",
    "end\n",
    "                        \n",
    "\"\"\"\n",
    "Create a dictionary associating a subunit with its competitors\n",
    "\"\"\"\n",
    "function getCompetitionDict(competition::Dict{Int64,Int64})\n",
    "    competitionDF = DataFrame(Int64, M, 2)\n",
    "    for i in 1:M\n",
    "        competitionDF[i,1] = i\n",
    "        competitionDF[i,2] = competition[i]\n",
    "    end\n",
    "    names!(competitionDF, [:Key, :Value])\n",
    "    \n",
    "    competitionDict = Dict{Int64, Array}()\n",
    "    for df in groupby(competitionDF, :Value)\n",
    "        for value in df[:Key]\n",
    "            competitionDict[value] = [i for i in df[:Key] if i != value]\n",
    "        end\n",
    "    end\n",
    "    \n",
    "    return(competitionDict)\n",
    "end\n",
    "\n",
    "\"\"\"\n",
    "Predict enrichment if a KO disconnect a competitor\n",
    "of a subunit\n",
    "\"\"\"\n",
    "function enhanceIfDisconnectedCompetition!(pGraph::pulldownGraph, \n",
    "        pulledComponent::Array{Int64,1}, competitionDict::Dict{Int64, Array},\n",
    "        ipd::Int64, iko::Int64)\n",
    "    # For the KOed subunit\n",
    "    if ipd in competitionDict[iko]\n",
    "        add_pulldown_edge!(enhanceEdge, pGraph, iko, ipd)\n",
    "        return(true) # An edge has been added\n",
    "    end    \n",
    "    # For all non-KOed subunit\n",
    "    for inc = (j for j in 1:(M-1) if !(j in pulledComponent))\n",
    "        if inc == iko\n",
    "            # If the subunit has the index 'iko' it is\n",
    "            # actually the last subunit, that has been\n",
    "            # swapped with the KOed subunit\n",
    "            inc = M\n",
    "        end\n",
    "        if ipd in competitionDict[inc]\n",
    "            add_pulldown_edge!(enhanceEdge, pGraph, iko, ipd)\n",
    "            return(true) # An edge has been added\n",
    "        end\n",
    "    end\n",
    "    return(false) # No edge has been added\n",
    "end\n",
    "                        \n",
    "\"\"\"\n",
    "Enforce the connectivity of a structureGraph\n",
    "\"\"\"\n",
    "function connectGraph!(sGraph::structureGraph)\n",
    "    while !is_connected(sGraph.graph)\n",
    "        mutateAddEdge!(sGraph)\n",
    "end end\n",
    "                        \n",
    "\"\"\"\n",
    "Attribute random competition classes for subunits not\n",
    "yet present in competition dictionary of a structureGraph\n",
    "\"\"\"\n",
    "function randomCompetitionGraph!(sGraph::structureGraph)\n",
    "    graph = sGraph.graph\n",
    "    competition = sGraph.competition\n",
    "    \n",
    "    for i = 1:M\n",
    "        # For all subunits not in the competition dict\n",
    "        if !(i in keys(competition))\n",
    "            # Continue until a competition class has been attributed\n",
    "            while true\n",
    "                # Assign random competition class\n",
    "                newComp = rand(1:M)\n",
    "                if all([competition[n] != newComp for n in intersect(neighbors(graph, i), keys(competition))])\n",
    "                    competition[i] = rand(1:M)\n",
    "                    break\n",
    "                end\n",
    "                # This competition would link interactors, try again\n",
    "            end\n",
    "        end\n",
    "    end\n",
    "end"
   ]
  },
  {
   "cell_type": "markdown",
   "metadata": {},
   "source": [
    "## Define mutation functions"
   ]
  },
  {
   "cell_type": "code",
   "execution_count": null,
   "metadata": {},
   "outputs": [],
   "source": [
    "\"\"\"\n",
    "Mutate a single structure graph\n",
    "The keywords contain the mutation parameters:\n",
    "    p_add: add edge probability\n",
    "    p_del: del edge probability\n",
    "    p_swp: swap edge probability\n",
    "    p_cmp: competition class probability\n",
    "\"\"\"\n",
    "function mutateStructureGraph!(sGraph::structureGraph; \n",
    "        p_add = 0.1, p_del = p_add, p_swp = p_add, p_cmp = p_add)\n",
    "    # Store exit codes of individual mutation functions\n",
    "    status = 0\n",
    "    \n",
    "    # Determine which mutations to perform\n",
    "    doMutate = rand(4) .< [p_add, p_del, p_swp, p_cmp]\n",
    "    \n",
    "    if doMutate[1]\n",
    "        status += mutateAddEdge!(sGraph)\n",
    "    end\n",
    "\n",
    "    if doMutate[2]\n",
    "        status += mutateDelEdge!(sGraph.graph)\n",
    "    end\n",
    "\n",
    "    if doMutate[3]\n",
    "        status += mutateSwapEdges!(sGraph)\n",
    "    end\n",
    "\n",
    "    if doMutate[4]\n",
    "        status += mutateCompetitors!(sGraph)\n",
    "    end\n",
    "\n",
    "    return(status)\n",
    "end\n",
    "  \n",
    "\"\"\"\n",
    "Add an edge to a structure graph\n",
    "\"\"\"\n",
    "function mutateAddEdge!(sGraph::structureGraph)\n",
    "    graph = sGraph.graph\n",
    "    competition = sGraph.competition\n",
    "    N = nv(graph)\n",
    "    \n",
    "    if ne(graph) >= N*(N-1)/2\n",
    "        # The graph is already complete\n",
    "        return(1)\n",
    "    else\n",
    "        while true\n",
    "            (a,b) = ceil.(N*rand(2))\n",
    "            if (a != b) && (add_edge!(graph, a, b))\n",
    "                # Do not allow self loop\n",
    "                # Do not allow links between competitors\n",
    "                if (competition[a] == competition[b])\n",
    "                    rem_edge!(graph, Int64(a), Int64(b))\n",
    "                    return(1)\n",
    "                end\n",
    "                # Exit if edge sucessfully added\n",
    "                return(0)\n",
    "            end\n",
    "        end\n",
    "    end\n",
    "end\n",
    "\n",
    "\"\"\"\n",
    "Remove an edge to a structure graph\n",
    "\"\"\"\n",
    "function mutateDelEdge!(graph::LightGraphs.SimpleGraphs.SimpleGraph)\n",
    "    edgesList = [e for e in edges(graph)]\n",
    "    edgesIndicesOrder = randperm(length(edgesList))\n",
    "    for edgeIndex in edgesIndicesOrder\n",
    "        edgeToRemove = edgesList[edgeIndex]\n",
    "        rem_edge!(graph, edgeToRemove)\n",
    "        if is_connected(graph)\n",
    "            return(0)\n",
    "        else\n",
    "            # So structure graph should be kept connected\n",
    "            # Therefore we put back in the removed edge\n",
    "            add_edge!(graph, edgeToRemove)\n",
    "        end\n",
    "    end\n",
    "    \n",
    "    # No edge can be removed without diconnecting the graph\n",
    "    return(1)\n",
    "end\n",
    "\n",
    "\"\"\"\n",
    "Swap edges in a structure graph\n",
    "\"\"\"\n",
    "function mutateSwapEdges!(sGraph::structureGraph)\n",
    "    graph = sGraph.graph\n",
    "    competition = sGraph.competition\n",
    "    \n",
    "    edgesList = [e for e in edges(graph)]\n",
    "    edgesIndicesOrder = randperm(length(edgesList))\n",
    "    \n",
    "    for (indexIndex, edgeIndex) = enumerate(edgesIndicesOrder)\n",
    "        edge1 = edgesList[edgeIndex]\n",
    "        edge2 = edgesList[edgesIndicesOrder[1+(indexIndex % length(edgesList))]]\n",
    "        # Ensure that no self link will be created\n",
    "        if Tuple(edge1)[1] != Tuple(edge2)[2] && Tuple(edge2)[1] != Tuple(edge1)[2]\n",
    "            # Start by deleting the old edges\n",
    "            rem_edge!(graph, edge1)\n",
    "            rem_edge!(graph, edge2)\n",
    "            # Then add the new ones if not linking competitors\n",
    "            if competition[Tuple(edge1)[1]] != competition[Tuple(edge2)[2]]\n",
    "                add_edge!(graph, Tuple(edge1)[1], Tuple(edge2)[2])\n",
    "            end\n",
    "            if competition[Tuple(edge2)[2]] != competition[Tuple(edge1)[2]]\n",
    "                add_edge!(graph, Tuple(edge2)[1], Tuple(edge1)[2])\n",
    "            end\n",
    "            if is_connected(graph)\n",
    "                return(0)\n",
    "            else\n",
    "                # So structure graph should be kept connected\n",
    "                # Therefore we put back in the removed edges\n",
    "                add_edge!(graph, edge1)\n",
    "                add_edge!(graph, edge2)\n",
    "                # NB: extra edges will stay if any\n",
    "            end\n",
    "        end\n",
    "    end\n",
    "    \n",
    "    # No edges can be swapped without diconnecting the graph\n",
    "    return(1)\n",
    "end\n",
    "\n",
    "\"\"\"\n",
    "Mutate competing nodes\n",
    "\"\"\"\n",
    "function mutateCompetitors!(sGraph::structureGraph)\n",
    "    graph = sGraph.graph\n",
    "    competition = sGraph.competition\n",
    "    \n",
    "    # Select node to change competition class\n",
    "    nodeComp = rand(1:nv(graph))\n",
    "    # Select new competition class\n",
    "    newComp = rand(1:nv(graph))\n",
    "    for n = neighbors(graph, nodeComp)\n",
    "        if competition[n] == newComp\n",
    "            # Changing the competition class would lead to linked competitors\n",
    "            return(1)\n",
    "        end\n",
    "    end\n",
    "    competition[nodeComp] = newComp\n",
    "    \n",
    "    return(0)\n",
    "end\n",
    "\n",
    "\"\"\"\n",
    "Cross-over between two structure graphs\n",
    "\"\"\"\n",
    "function crossOverGraphs!(sGraph1::structureGraph, sGraph2::structureGraph)\n",
    "    return(1)\n",
    "end"
   ]
  },
  {
   "cell_type": "markdown",
   "metadata": {},
   "source": [
    "## Genetic algorithm module"
   ]
  },
  {
   "cell_type": "code",
   "execution_count": null,
   "metadata": {},
   "outputs": [],
   "source": [
    "\"\"\"\n",
    "Compute loss for a given structure\n",
    "compared to observation\n",
    "\"\"\"\n",
    "function observedLoss(sGraph::structureGraph,\n",
    "    details::Bool = false, alpha::Float64 = ALPHA)\n",
    "    pGraph = structureToPulldown(sGraph)\n",
    "    \n",
    "    observedEdges = Dict((convertUnitIndex[u[1]], convertUnitIndex[u[2]]) => v for \n",
    "        (u,v) in edgeTypes[alpha] if u[1] in keys(convertUnitIndex) && u[2] in keys(convertUnitIndex))\n",
    "    \n",
    "    intersectEdges = intersect(pGraph.edges, observedEdges)\n",
    "    unionEdges = union(pGraph.edges, observedEdges)\n",
    "    \n",
    "    if details\n",
    "        # Return array with Jaccard index\n",
    "        # length of union and length of  \n",
    "        return([length(intersectEdges) / length(unionEdges), length(intersectEdges), length(pGraph.edges)])\n",
    "    else\n",
    "        # Return Jaccard index\n",
    "        return([length(intersectEdges) / length(unionEdges)])\n",
    "    end\n",
    "end\n",
    "\n",
    "\"\"\"\n",
    "Generate in place the new generation of \n",
    "structure graphs based on their fitness.\n",
    "Return the fitness array.\n",
    "\"\"\"\n",
    "function reproduceGeneration!(pop::Array{structureGraph,1},\n",
    "    details::Bool = false)\n",
    "    jaccard = map(x -> observedLoss(x,details), pop)\n",
    "    fitness = map(x -> x[1], jaccard)\n",
    "    fitness ./= sum(fitness)\n",
    "    \n",
    "    sumFitness = sum(fitness) \n",
    "    if sumFitness != 1\n",
    "        fitness[end] += 1 - sumFitness\n",
    "    end\n",
    "    # Ensure the cumulative fitnesses is a probability distribution\n",
    "    \n",
    "    offspringPerGraph = rand(Multinomial(length(pop), fitness), 1)\n",
    "    offspring = Array{structureGraph,1}(length(pop))\n",
    "    \n",
    "    offspringToFill = 1 # Which is the next index to be filled?\n",
    "    for (ipop, noff) = enumerate(offspringPerGraph)\n",
    "        for ioff = 1:noff\n",
    "            offspring[offspringToFill] = deepcopy(pop[ipop])\n",
    "            offspringToFill += 1\n",
    "        end\n",
    "    end\n",
    "    \n",
    "    # Ensure the best structure graph is kept\n",
    "    bestGraphIndex = findmax(fitness)[2]\n",
    "    if offspringPerGraph[bestGraphIndex] == 0\n",
    "        # No offspring for the best graph\n",
    "        # So we force one\n",
    "        offspring[1] = deepcopy(pop[bestGraphIndex])\n",
    "    end\n",
    "    \n",
    "    pop .= offspring\n",
    "        \n",
    "    return(jaccard)\n",
    "end\n",
    "\n",
    "\"\"\"\n",
    "Generate the new generation of structure networks\n",
    "\"\"\"\n",
    "function newGeneration!(pop::Array{structureGraph,1},\n",
    "        details::Bool = false;\n",
    "        p_add = 0.1, p_del = p_add, p_swp = p_add, p_cmp = p_add, p_crs = p_add/10)\n",
    "    # Fitness-based reproduction\n",
    "    fitness = reproduceGeneration!(pop, details)\n",
    "    \n",
    "    # Mutate potentially each structure network\n",
    "    map(x -> mutateStructureGraph!(x;\n",
    "            p_add = p_add, p_del = p_del, p_swp = p_swp, p_cmp = p_cmp), pop)\n",
    "    \n",
    "    return(fitness)\n",
    "end"
   ]
  },
  {
   "cell_type": "markdown",
   "metadata": {},
   "source": [
    "## Run genetic algorithm"
   ]
  },
  {
   "cell_type": "code",
   "execution_count": null,
   "metadata": {
    "collapsed": true
   },
   "outputs": [],
   "source": [
    "# Run parameters\n",
    "const N = 100 # Number of graphs [500, 1000]\n",
    "const L = 10000 # Number 0f iterations [minimum 2000/1000 needed, 5000, 10000,25000]\n",
    "const P = 0.026 # Probability of mutation [0.01275, 0.026]\n",
    "# Expect 10% of graphs mutated per generation"
   ]
  },
  {
   "cell_type": "code",
   "execution_count": null,
   "metadata": {
    "collapsed": true
   },
   "outputs": [],
   "source": [
    "# Max number of edges in a graph\n",
    "maxEdges = Int64(M*(M-1)/2)\n",
    "\n",
    "# Initialize population\n",
    "pop = map(x -> structureGraph(\n",
    "        Graph(M, rand(1:maxEdges)),\n",
    "        copy(unitDictString),\n",
    "        Dict(e => e for e in 1:M)),\n",
    "    1:N)\n",
    "\n",
    "# Ensure connectivity\n",
    "map(connectGraph!, pop)"
   ]
  },
  {
   "cell_type": "code",
   "execution_count": null,
   "metadata": {
    "collapsed": true
   },
   "outputs": [],
   "source": [
    "#H ow often should we keep track of the system's state?\n",
    "monitorStep = 40\n",
    "    \n",
    "@time begin\n",
    "quantileFitness = Array{Float16}(Int(ceil(L/monitorStep)), 5)\n",
    "quantileIntersectARID = Array{Float16}(Int(ceil(L/monitorStep)), 5)\n",
    "quantileSimulatedEdgesARID = Array{Float16}(Int(ceil(L/monitorStep)), 5)\n",
    "quantileIntersectBRG = Array{Float16}(Int(ceil(L/monitorStep)), 5)\n",
    "quantileSimulatedEdgesBRG = Array{Float16}(Int(ceil(L/monitorStep)), 5)\n",
    "for i in 1:L\n",
    "    if i % monitorStep == 1\n",
    "        f = newGeneration!(pop, true, p_add = P)\n",
    "        currentStep = Int(ceil(i/monitorStep))\n",
    "        quantileFitness[currentStep,:] = quantile(map(x -> x[1], f))\n",
    "        quantileIntersectARID[currentStep,:] = quantile(map(x -> x[2], f))\n",
    "        quantileSimulatedEdgesARID[currentStep,:] = quantile(map(x -> x[3], f))\n",
    "        quantileIntersectBRG[currentStep,:] = quantile(map(x -> x[4], f))\n",
    "        quantileSimulatedEdgesBRG[currentStep,:] = quantile(map(x -> x[5], f))\n",
    "    else\n",
    "        f = newGeneration!(pop, false, p_add = P)\n",
    "    end\n",
    "end\n",
    "end"
   ]
  },
  {
   "cell_type": "code",
   "execution_count": null,
   "metadata": {
    "collapsed": true
   },
   "outputs": [],
   "source": [
    "using JLD, HDF5\n",
    "\n",
    "save(\"/Users/lvulliard/tests/BAF_Julia/test.jld\",\"pop\", pop,\n",
    "    \"fitness\", quantileFitness, \"intersectARID\", quantileIntersectARID, \"quantileSimulatedEdgesARID\", quantileSimulatedEdgesARID,\n",
    "    \"intersectBRG\", quantileIntersectBRG, \"quantileSimulatedEdgesBRG\", quantileSimulatedEdgesBRG)"
   ]
  },
  {
   "cell_type": "markdown",
   "metadata": {},
   "source": [
    "## Monitor results"
   ]
  },
  {
   "cell_type": "code",
   "execution_count": null,
   "metadata": {
    "collapsed": true,
    "scrolled": false
   },
   "outputs": [],
   "source": [
    "indexBestGraph = findmax(map(x -> observedLoss(x, true)[1], pop))[2]\n",
    "bestStructure = pop[indexBestGraph]\n",
    "bestPulldownARID, bestPulldownBRG = structureToPulldowns(bestStructure)"
   ]
  },
  {
   "cell_type": "code",
   "execution_count": null,
   "metadata": {
    "collapsed": true
   },
   "outputs": [],
   "source": [
    "traceFitness = Array{PlotlyBase.GenericTrace{Dict{Symbol,Any}}}(5)\n",
    "\n",
    "for i = 1:5\n",
    "    traceFitness[i] = scatter(\n",
    "        x= 1+monitorStep*((1:Int(ceil(L/monitorStep)))-1), name= string(\"Top \", 25*(i-1), \"%\"),\n",
    "        y= quantileFitness[:,i], mode=\"lines+markers\")\n",
    "end\n",
    "\n",
    "layoutFitness = Layout(yaxis_title=\"<b>Jaccard coefficient distribution</b>\", xaxis_title = \"<b>Generation</b>\")\n",
    "\n",
    "plot(traceFitness, layoutFitness)"
   ]
  },
  {
   "cell_type": "code",
   "execution_count": null,
   "metadata": {
    "collapsed": true
   },
   "outputs": [],
   "source": [
    "traceIntersectARID = Array{PlotlyBase.GenericTrace{Dict{Symbol,Any}}}(6)\n",
    "\n",
    "for i = 1:5\n",
    "    traceIntersectARID[i] = scatter(\n",
    "        x= 1+monitorStep*((1:Int(ceil(L/monitorStep)))-1), name = string(\"Top \", 25*(i-1), \"%\"),\n",
    "        y= quantileIntersectARID[:,i], mode=\"lines+markers\")\n",
    "end\n",
    "\n",
    "traceIntersectARID[6] = scatter(\n",
    "    x= 1+monitorStep*((1:Int(ceil(L/monitorStep)))-1), name = \"Edges in observed pull-down graph\",\n",
    "    y= map(x -> length(edgeTypesARID[0.05]), 1+monitorStep*((1:Int(ceil(L/monitorStep)))-1)), mode=\"lines\")\n",
    "\n",
    "layoutIntersectARID = Layout(yaxis_title=\"<b>Pull-down edges intersection size</b>\", xaxis_title = \"<b>Generation</b>\")\n",
    "\n",
    "plot(traceIntersectARID, layoutIntersectARID)"
   ]
  },
  {
   "cell_type": "code",
   "execution_count": null,
   "metadata": {
    "collapsed": true
   },
   "outputs": [],
   "source": [
    "traceSimulatedEdgesARID = Array{PlotlyBase.GenericTrace{Dict{Symbol,Any}}}(5)\n",
    "\n",
    "for i = 1:5\n",
    "    traceSimulatedEdgesARID[i] = scatter(\n",
    "        x= 1+monitorStep*((1:Int(ceil(L/monitorStep)))-1), name= string(\"Top \", 25*(i-1), \"%\"),\n",
    "        y= quantileSimulatedEdgesARID[:,i], mode=\"lines+markers\")\n",
    "end\n",
    "\n",
    "layoutSimulatedEdgesARID = Layout(yaxis_title=\"<b>Number of simulated pull-down edges</b>\", xaxis_title = \"<b>Generation</b>\")\n",
    "\n",
    "plot(traceSimulatedEdgesARID, layoutSimulatedEdgesARID)"
   ]
  },
  {
   "cell_type": "code",
   "execution_count": null,
   "metadata": {
    "collapsed": true
   },
   "outputs": [],
   "source": [
    "traceIntersectBRG = Array{PlotlyBase.GenericTrace{Dict{Symbol,Any}}}(6)\n",
    "\n",
    "for i = 1:5\n",
    "    traceIntersectBRG[i] = scatter(\n",
    "        x= 1+monitorStep*((1:Int(ceil(L/monitorStep)))-1), name = string(\"Top \", 25*(i-1), \"%\"),\n",
    "        y= quantileIntersectBRG[:,i], mode=\"lines+markers\")\n",
    "end\n",
    "\n",
    "traceIntersectBRG[6] = scatter(\n",
    "    x= 1+monitorStep*((1:Int(ceil(L/monitorStep)))-1), name = \"Edges in observed pull-down graph\",\n",
    "    y= map(x -> length(edgeTypesBRG[0.05]), 1+monitorStep*((1:Int(ceil(L/monitorStep)))-1)), mode=\"lines\")\n",
    "\n",
    "layoutIntersectBRG = Layout(yaxis_title=\"<b>Pull-down edges intersection size</b>\", xaxis_title = \"<b>Generation</b>\")\n",
    "\n",
    "plot(traceIntersectBRG, layoutIntersectBRG)"
   ]
  },
  {
   "cell_type": "code",
   "execution_count": null,
   "metadata": {
    "collapsed": true,
    "scrolled": false
   },
   "outputs": [],
   "source": [
    "traceSimulatedEdgesBRG = Array{PlotlyBase.GenericTrace{Dict{Symbol,Any}}}(5)\n",
    "\n",
    "for i = 1:5\n",
    "    traceSimulatedEdgesBRG[i] = scatter(\n",
    "        x= 1+monitorStep*((1:Int(ceil(L/monitorStep)))-1), name= string(\"Top \", 25*(i-1), \"%\"),\n",
    "        y= quantileSimulatedEdgesBRG[:,i], mode=\"lines+markers\")\n",
    "end\n",
    "\n",
    "layoutSimulatedEdgesBRG = Layout(yaxis_title=\"<b>Number of simulated pull-down edges</b>\", xaxis_title = \"<b>Generation</b>\")\n",
    "\n",
    "plot(traceSimulatedEdgesBRG, layoutSimulatedEdgesBRG)"
   ]
  },
  {
   "cell_type": "markdown",
   "metadata": {},
   "source": [
    "### Display infered heatmap"
   ]
  },
  {
   "cell_type": "code",
   "execution_count": null,
   "metadata": {
    "collapsed": true
   },
   "outputs": [],
   "source": [
    "pdSimData = zeros(length(studyARIDpd), length(studyARIDko))\n",
    "\n",
    "for (edges, edgeType) = bestPulldownARID.edges\n",
    "    # Which cell should we fill?\n",
    "    indexKO = findfirst(studyARIDko, unitDictString[edges[1]])\n",
    "    indexPD = findfirst(studyARIDpd, unitDictString[edges[2]])\n",
    "    \n",
    "    # What type / value for the edge?\n",
    "    t = edgeType == \"inhibits\" ? -1 : 1\n",
    "    \n",
    "    pdSimData[indexPD, indexKO] = t\n",
    "end"
   ]
  },
  {
   "cell_type": "code",
   "execution_count": null,
   "metadata": {
    "collapsed": true,
    "scrolled": false
   },
   "outputs": [],
   "source": [
    "tracePdHeatmap = heatmap(\n",
    "    x=studyARIDpd,\n",
    "    y=studyARIDko, # NB: filter genes outside of BAF complex\n",
    "    z=pdSimData\n",
    ")\n",
    "\n",
    "stylePdHeatmap = Style(global_trace=attr(colorscale=[[0, \"rgb(0,0,255)\"], [0.5, \"rgb(255,255,255)\"], [1, \"rgb(255,0,0)\"]]))\n",
    "layoutPdHeatmap = Layout(;margin_l = 100, margin_t = 20, yaxis_title=\"<b>Knocked-out gene</b>\", xaxis_title = \"<b>BAF subunit</b>\")\n",
    "plot(tracePdHeatmap, layoutPdHeatmap, style=stylePdHeatmap)"
   ]
  },
  {
   "cell_type": "code",
   "execution_count": null,
   "metadata": {
    "collapsed": true,
    "scrolled": false
   },
   "outputs": [],
   "source": [
    "plot(traceArid, layoutArid, style=styleArid)"
   ]
  },
  {
   "cell_type": "code",
   "execution_count": null,
   "metadata": {
    "collapsed": true
   },
   "outputs": [],
   "source": [
    "pdSimData = zeros(length(studyBRGpd), length(studyBRGko))\n",
    "\n",
    "for (edges, edgeType) = bestPulldownBRG.edges\n",
    "    # Which cell should we fill?\n",
    "    indexKO = findfirst(studyBRGko, unitDictString[edges[1]])\n",
    "    indexPD = findfirst(studyBRGpd, unitDictString[edges[2]])\n",
    "    \n",
    "    # What type / value for the edge?\n",
    "    t = edgeType == \"inhibits\" ? -1 : 1\n",
    "    \n",
    "    pdSimData[indexPD, indexKO] = t\n",
    "end"
   ]
  },
  {
   "cell_type": "code",
   "execution_count": null,
   "metadata": {
    "collapsed": true,
    "scrolled": false
   },
   "outputs": [],
   "source": [
    "tracePdHeatmap = heatmap(\n",
    "    x=studyBRGpd,\n",
    "    y=studyBRGko, # NB: filter genes outside of BAF complex\n",
    "    z=pdSimData\n",
    ")\n",
    "\n",
    "stylePdHeatmap = Style(global_trace=attr(colorscale=[[0, \"rgb(0,0,255)\"], [0.5, \"rgb(255,255,255)\"], [1, \"rgb(255,0,0)\"]]))\n",
    "layoutPdHeatmap = Layout(;margin_l = 100, margin_t = 20, yaxis_title=\"<b>Knocked-out gene</b>\", xaxis_title = \"<b>BAF subunit</b>\")\n",
    "plot(tracePdHeatmap, layoutPdHeatmap, style=stylePdHeatmap)"
   ]
  },
  {
   "cell_type": "code",
   "execution_count": null,
   "metadata": {
    "collapsed": true,
    "scrolled": true
   },
   "outputs": [],
   "source": [
    "plot(traceBrg, layoutBrg, style=styleBrg)"
   ]
  },
  {
   "cell_type": "markdown",
   "metadata": {},
   "source": [
    "## Average on whole population"
   ]
  },
  {
   "cell_type": "code",
   "execution_count": null,
   "metadata": {
    "collapsed": true
   },
   "outputs": [],
   "source": [
    "# Weight by fitness\n",
    "popWeight = map(x -> observedLoss(x, true)[1], pop)"
   ]
  },
  {
   "cell_type": "code",
   "execution_count": null,
   "metadata": {
    "collapsed": true
   },
   "outputs": [],
   "source": [
    "averageComp = Dict{Tuple,Float64}((i,j) => 0 for i in 1:nv(pop[1].graph) for j in 1:nv(pop[1].graph) if i > j)\n",
    "for i in 1:length(pop)\n",
    "    graph = pop[i].graph\n",
    "    competition = pop[i].competition\n",
    "    for nodeA in 2:nv(graph)\n",
    "        for nodeB in 1:nv(graph)\n",
    "            if nodeA > nodeB && competition[nodeA] == competition[nodeB]\n",
    "                averageComp[(nodeA,nodeB)] += popWeight[i]\n",
    "            end\n",
    "        end\n",
    "    end\n",
    "end\n",
    "                \n",
    "# Remove null values\n",
    "averageComp = Dict(c => v/sum(popWeight) for (c,v) in averageComp if v > 0)"
   ]
  },
  {
   "cell_type": "code",
   "execution_count": null,
   "metadata": {
    "collapsed": true,
    "scrolled": true
   },
   "outputs": [],
   "source": [
    "# Cumulated weights of the graph having each edge\n",
    "averageEdges = Dict{Tuple,Float64}((i,j) => 0 for i in 1:nv(pop[1].graph) for j in 1:nv(pop[1].graph) if i != j)\n",
    "for i in 1:length(pop)\n",
    "    for c = edges(pop[i].graph)\n",
    "        averageEdges[Tuple(c)] += popWeight[i]\n",
    "    end\n",
    "end\n",
    "                \n",
    "# Remove null values\n",
    "averageEdges = Dict(c => v/sum(popWeight) for (c,v) in averageEdges if v != 0)"
   ]
  },
  {
   "cell_type": "markdown",
   "metadata": {},
   "source": [
    "### Export graph with two weighted edge types"
   ]
  },
  {
   "cell_type": "code",
   "execution_count": null,
   "metadata": {
    "collapsed": true
   },
   "outputs": [],
   "source": [
    "fileGML = open(\"ARID_average_structure.gml\", \"w\")\n",
    "saveLabeledGml(fileGML, bestPulldown.graph, bestPulldown.nodes, averageEdges, averageComp)\n",
    "close(fileGML)"
   ]
  },
  {
   "cell_type": "markdown",
   "metadata": {},
   "source": [
    "## Alternative initial conditions"
   ]
  },
  {
   "cell_type": "markdown",
   "metadata": {},
   "source": [
    "### Competition classes from sequence similarity"
   ]
  },
  {
   "cell_type": "code",
   "execution_count": null,
   "metadata": {
    "collapsed": true
   },
   "outputs": [],
   "source": [
    "# Max number of edges in a graph\n",
    "maxEdges = Int64(M*(M-1)/2)\n",
    "\n",
    "# Litterature competitions\n",
    "compDictLitt = Dict(unitDict[\"SMARCA4\"] => 1,\n",
    "    unitDict[\"SMARCA2\"] => 1,\n",
    "    unitDict[\"ARID1A\"] => 2,\n",
    "    unitDict[\"ARID1B\"] => 2,\n",
    "    unitDict[\"SMARCD1\"] => 3,\n",
    "    unitDict[\"SMARCD2\"] => 3,\n",
    "    unitDict[\"SMARCD3\"] => 3,\n",
    "    unitDict[\"DPF1\"] => 4,\n",
    "    unitDict[\"DPF2\"] => 4,\n",
    "    unitDict[\"DPF3\"] => 4,\n",
    "    unitDict[\"SMARCC1\"] => 5,\n",
    "    unitDict[\"SMARCC2\"] => 5,\n",
    "    unitDict[\"SS18\"] => 7,\n",
    "    unitDict[\"SS18L1\"] => 7,\n",
    "    unitDict[\"BCL11A\"] => 8,\n",
    "    unitDict[\"BCL11B\"] => 8,\n",
    "    unitDict[\"ACTL6A\"] => 9,\n",
    "    unitDict[\"ACTL6B\"] => 9\n",
    ")\n",
    "\n",
    "# Initialize population\n",
    "pop2 = map(x -> structureGraph(\n",
    "        Graph(M, rand(1:maxEdges)),\n",
    "        copy(unitDictString),\n",
    "        copy(compDictLitt)),\n",
    "    pop2)\n",
    "\n",
    "# Ensure connectivity\n",
    "map(randomCompetitionGraph!, pop2)\n",
    "map(connectGraph!, pop2)"
   ]
  },
  {
   "cell_type": "markdown",
   "metadata": {},
   "source": [
    "### Litterature-based initial interactions"
   ]
  },
  {
   "cell_type": "code",
   "execution_count": null,
   "metadata": {
    "collapsed": true
   },
   "outputs": [],
   "source": [
    "# Max number of edges in a graph\n",
    "maxEdges = Int64(M*(M-1)/2)\n",
    "\n",
    "# Litterature competitions\n",
    "compDictLitt = Dict(unitDict[\"SMARCA4\"] => 1,\n",
    "    unitDict[\"SMARCA2\"] => 1,\n",
    "    unitDict[\"ARID1A\"] => 2,\n",
    "    unitDict[\"ARID1B\"] => 2,    \n",
    "    unitDict[\"ARID2\"] => 2,\n",
    "    unitDict[\"SMARCD1\"] => 3,\n",
    "    unitDict[\"SMARCD2\"] => 3,\n",
    "    unitDict[\"SMARCD3\"] => 3,\n",
    "    unitDict[\"PHF10\"] => 4,\n",
    "    unitDict[\"DPF1\"] => 4,\n",
    "    unitDict[\"DPF2\"] => 4,\n",
    "    unitDict[\"DPF3\"] => 4,\n",
    "    unitDict[\"SMARCC1\"] => 5,\n",
    "    unitDict[\"SMARCC2\"] => 5,\n",
    "    unitDict[\"BCL7A\"] => 6,\n",
    "    unitDict[\"BCL7B\"] => 6,\n",
    "    unitDict[\"BCL7C\"] => 6,\n",
    "    unitDict[\"SS18\"] => 7,\n",
    "    unitDict[\"SS18L1\"] => 7,\n",
    "    unitDict[\"BCL11A\"] => 8,\n",
    "    unitDict[\"BCL11B\"] => 8,\n",
    "    unitDict[\"ACTL6A\"] => 9,\n",
    "    unitDict[\"ACTL6B\"] => 9\n",
    ")\n",
    "\n",
    "graphLitt = Graph(M)\n",
    "add_edge!(graphLitt, unitDict[\"SMARCC1\"], unitDict[\"SMARCB1\"])\n",
    "add_edge!(graphLitt, unitDict[\"SMARCE1\"], unitDict[\"SMARCC1\"])\n",
    "add_edge!(graphLitt, unitDict[\"SMARCE1\"], unitDict[\"SMARCC2\"])\n",
    "add_edge!(graphLitt, unitDict[\"SMARCA4\"], unitDict[\"ACTB\"])\n",
    "add_edge!(graphLitt, unitDict[\"SMARCA4\"], unitDict[\"ACTL6A\"])\n",
    "add_edge!(graphLitt, unitDict[\"SMARCA4\"], unitDict[\"ACTL6B\"])\n",
    "add_edge!(graphLitt, unitDict[\"SMARCA2\"], unitDict[\"ACTB\"])\n",
    "add_edge!(graphLitt, unitDict[\"SMARCA2\"], unitDict[\"ACTL6A\"])\n",
    "add_edge!(graphLitt, unitDict[\"SMARCA2\"], unitDict[\"ACTL6B\"])\n",
    "\n",
    "# Initialize population\\\n",
    "pop2 = map(x -> structureGraph(\n",
    "        deepcopy(graphLitt),\n",
    "        copy(unitDictString),\n",
    "        copy(compDictLitt)),\n",
    "    pop2)\n",
    "\n",
    "# Ensure connectivity\n",
    "map(randomCompetitionGraph!, pop2)\n",
    "map(connectGraph!, pop2)\n",
    "\n",
    "pop2"
   ]
  },
  {
   "cell_type": "markdown",
   "metadata": {},
   "source": [
    "### Similarity matrix"
   ]
  },
  {
   "cell_type": "markdown",
   "metadata": {},
   "source": [
    "## Average across all runs"
   ]
  },
  {
   "cell_type": "code",
   "execution_count": null,
   "metadata": {},
   "outputs": [],
   "source": [
    "using JLD, HDF5\n",
    "\n",
    "# Load all simulations\n",
    "pop_runs = Dict{String, Dict{Float64, Array{Dict}}}()\n",
    "folder = \"/Users/lvulliard/OneShotProject/BAF_Julia/Archive/OutPBAF/\"\n",
    "all_files = [i for i in readdir(folder) if contains(i, \".jld\")]\n",
    "for ini = [\"_simi_\", \"_rand_\", \"_litt_\"]\n",
    "    files_ini = [i for i in all_files if contains(i, ini)]\n",
    "    if ini == \"_rand_\"\n",
    "        files_ini = [i for i in all_files if !contains(i, \"_simi_\") & !contains(i, \"_litt_\")]\n",
    "    end\n",
    "    println(files_ini)\n",
    "    pop_runs[ini] = Dict{Float64, Array{Dict}}()\n",
    "    for alpha = [0.1, 0.05, 0.01, 0.005]\n",
    "        alpha_motif = \"_\"*replace(string(alpha), \".\", \"\")*\"_\"\n",
    "        files_alpha = [i for i in files_ini if contains(i, alpha_motif)]\n",
    "        pop_runs[ini][alpha] = Array{Dict}(25)\n",
    "        for (index, file) = enumerate(files_alpha)\n",
    "            pop_runs[ini][alpha][index] = load(folder*file)\n",
    "        end\n",
    "    end\n",
    "end"
   ]
  },
  {
   "cell_type": "markdown",
   "metadata": {},
   "source": [
    "### Observe best simulation"
   ]
  },
  {
   "cell_type": "code",
   "execution_count": null,
   "metadata": {},
   "outputs": [],
   "source": [
    "map(x -> observedLoss(x, false, 0.005)[1], pop_runs[\"_rand_\"][0.005][2][\"pop\"])"
   ]
  },
  {
   "cell_type": "code",
   "execution_count": null,
   "metadata": {
    "collapsed": true
   },
   "outputs": [],
   "source": [
    "bestFitness = .0\n",
    "pop = 0\n",
    "indexBestGraph = 0\n",
    "indexBestPop = 0\n",
    "\n",
    "for i = 1:25\n",
    "    fitness, bestIndex = findmax(map(x -> observedLoss(x, false, 0.005)[1], pop_runs[\"_litt_\"][0.005][i][\"pop\"]))\n",
    "    if fitness > bestFitness\n",
    "        bestFitness = fitness\n",
    "        pop = pop_runs[\"_litt_\"][0.005][i][\"pop\"]\n",
    "        indexBestGraph = bestIndex\n",
    "        indexBestPop = i\n",
    "    end\n",
    "end"
   ]
  },
  {
   "cell_type": "code",
   "execution_count": null,
   "metadata": {
    "scrolled": false
   },
   "outputs": [],
   "source": [
    "println(indexBestGraph)\n",
    "bestStructure = pop[indexBestGraph]"
   ]
  },
  {
   "cell_type": "code",
   "execution_count": null,
   "metadata": {},
   "outputs": [],
   "source": [
    "quantileFitness = pop_runs[\"_rand_\"][0.005][indexBestPop][\"fitness\"]\n",
    "quantileIntersectBRG = pop_runs[\"_rand_\"][0.005][indexBestPop][\"intersect\"]\n",
    "quantileSimulatedEdgesARID = pop_runs[\"_rand_\"][0.005][indexBestPop][\"quantileSimulatedEdges\"]\n",
    "L = 10000\n",
    "monitorStep = 50"
   ]
  },
  {
   "cell_type": "code",
   "execution_count": null,
   "metadata": {},
   "outputs": [],
   "source": [
    "traceFitness = Array{PlotlyBase.GenericTrace{Dict{Symbol,Any}}}(5)\n",
    "\n",
    "for i = 1:5\n",
    "    traceFitness[i] = scatter(\n",
    "        x= 1+monitorStep*((1:Int(ceil(L/monitorStep)))-1), name= string(\"Top \", 25*(i-1), \"%\"),\n",
    "        y= quantileFitness[:,i], mode=\"lines+markers\")\n",
    "end\n",
    "\n",
    "layoutFitness = Layout(yaxis_title=\"<b>Jaccard coefficient distribution</b>\", xaxis_title = \"<b>Generation</b>\")\n",
    "\n",
    "plot(traceFitness, layoutFitness)"
   ]
  },
  {
   "cell_type": "code",
   "execution_count": null,
   "metadata": {
    "collapsed": true
   },
   "outputs": [],
   "source": [
    "traceIntersectARID = Array{PlotlyBase.GenericTrace{Dict{Symbol,Any}}}(6)\n",
    "\n",
    "for i = 1:5\n",
    "    traceIntersectARID[i] = scatter(\n",
    "        x= 1+monitorStep*((1:Int(ceil(L/monitorStep)))-1), name = string(\"Top \", 25*(i-1), \"%\"),\n",
    "        y= quantileIntersectARID[:,i], mode=\"lines+markers\")\n",
    "end\n",
    "\n",
    "traceIntersectARID[6] = scatter(\n",
    "    x= 1+monitorStep*((1:Int(ceil(L/monitorStep)))-1), name = \"Edges in observed pull-down graph\",\n",
    "    y= map(x -> length(edgeTypesARID[0.05]), 1+monitorStep*((1:Int(ceil(L/monitorStep)))-1)), mode=\"lines\")\n",
    "\n",
    "layoutIntersectARID = Layout(yaxis_title=\"<b>Pull-down edges intersection size</b>\", xaxis_title = \"<b>Generation</b>\")\n",
    "\n",
    "plot(traceIntersectARID, layoutIntersectARID)"
   ]
  },
  {
   "cell_type": "code",
   "execution_count": null,
   "metadata": {
    "collapsed": true
   },
   "outputs": [],
   "source": [
    "traceSimulatedEdgesARID = Array{PlotlyBase.GenericTrace{Dict{Symbol,Any}}}(5)\n",
    "\n",
    "for i = 1:5\n",
    "    traceSimulatedEdgesARID[i] = scatter(\n",
    "        x= 1+monitorStep*((1:Int(ceil(L/monitorStep)))-1), name= string(\"Top \", 25*(i-1), \"%\"),\n",
    "        y= quantileSimulatedEdgesARID[:,i], mode=\"lines+markers\")\n",
    "end\n",
    "\n",
    "layoutSimulatedEdgesARID = Layout(yaxis_title=\"<b>Number of simulated pull-down edges</b>\", xaxis_title = \"<b>Generation</b>\")\n",
    "\n",
    "plot(traceSimulatedEdgesARID, layoutSimulatedEdgesARID)"
   ]
  },
  {
   "cell_type": "code",
   "execution_count": null,
   "metadata": {
    "collapsed": true
   },
   "outputs": [],
   "source": [
    "traceIntersectBRG = Array{PlotlyBase.GenericTrace{Dict{Symbol,Any}}}(6)\n",
    "\n",
    "for i = 1:5\n",
    "    traceIntersectBRG[i] = scatter(\n",
    "        x= 1+monitorStep*((1:Int(ceil(L/monitorStep)))-1), name = string(\"Top \", 25*(i-1), \"%\"),\n",
    "        y= quantileIntersectBRG[:,i], mode=\"lines+markers\")\n",
    "end\n",
    "\n",
    "traceIntersectBRG[6] = scatter(\n",
    "    x= 1+monitorStep*((1:Int(ceil(L/monitorStep)))-1), name = \"Edges in observed pull-down graph\",\n",
    "    y= map(x -> length(edgeTypesBRG[0.05]), 1+monitorStep*((1:Int(ceil(L/monitorStep)))-1)), mode=\"lines\")\n",
    "\n",
    "layoutIntersectBRG = Layout(yaxis_title=\"<b>Pull-down edges intersection size</b>\", xaxis_title = \"<b>Generation</b>\")\n",
    "\n",
    "plot(traceIntersectBRG, layoutIntersectBRG)"
   ]
  },
  {
   "cell_type": "code",
   "execution_count": null,
   "metadata": {
    "collapsed": true,
    "scrolled": true
   },
   "outputs": [],
   "source": [
    "traceSimulatedEdgesBRG = Array{PlotlyBase.GenericTrace{Dict{Symbol,Any}}}(5)\n",
    "\n",
    "for i = 1:5\n",
    "    traceSimulatedEdgesBRG[i] = scatter(\n",
    "        x= 1+monitorStep*((1:Int(ceil(L/monitorStep)))-1), name= string(\"Top \", 25*(i-1), \"%\"),\n",
    "        y= quantileSimulatedEdgesBRG[:,i], mode=\"lines+markers\")\n",
    "end\n",
    "\n",
    "layoutSimulatedEdgesBRG = Layout(yaxis_title=\"<b>Number of simulated pull-down edges</b>\", xaxis_title = \"<b>Generation</b>\")\n",
    "\n",
    "plot(traceSimulatedEdgesBRG, layoutSimulatedEdgesBRG)"
   ]
  },
  {
   "cell_type": "markdown",
   "metadata": {},
   "source": [
    "### Compute and export average"
   ]
  },
  {
   "cell_type": "code",
   "execution_count": null,
   "metadata": {},
   "outputs": [],
   "source": [
    "# Weight by fitness\n",
    "# Store weights for all initial conditions\n",
    "popWeights = []\n",
    "\n",
    "for (ini, iniDict) = pop_runs\n",
    "    # Store weights for all alpha thresholds\n",
    "    println(ini)\n",
    "    for (alpha, alphaArray) = iniDict\n",
    "        # Store weights for each simulation\n",
    "        println(alpha)\n",
    "        for (indexSim, sim) = enumerate(alphaArray)       \n",
    "            append!(popWeights, quantile(map(x -> observedLoss(x, false, alpha)[1], sim[\"pop\"])))\n",
    "        end\n",
    "    end\n",
    "end"
   ]
  },
  {
   "cell_type": "code",
   "execution_count": null,
   "metadata": {},
   "outputs": [],
   "source": [
    "println(maximum(popWeights))\n",
    "println(minimum(popWeights))"
   ]
  },
  {
   "cell_type": "code",
   "execution_count": null,
   "metadata": {},
   "outputs": [],
   "source": [
    "# Weight by fitness\n",
    "# Store weights for all initial conditions\n",
    "popWeights = Dict{String, Dict{Float64,Array{Array{Float64}}}}()\n",
    "sumWeights = .0\n",
    "\n",
    "for (ini, iniDict) = pop_runs\n",
    "    # Store weights for all alpha thresholds\n",
    "    popWeights[ini] = Dict{Float64,Array{Array{Float64}}}()\n",
    "    println(ini)\n",
    "    for (alpha, alphaArray) = iniDict\n",
    "        # Store weights for each simulation\n",
    "        popWeights[ini][alpha] = Array{Array{Float64}}(25)\n",
    "        println(alpha)\n",
    "        for (indexSim, sim) = enumerate(alphaArray)       \n",
    "            popWeights[ini][alpha][indexSim] = map(x -> observedLoss(x, false, alpha)[1], sim[\"pop\"])\n",
    "            sumWeights += popWeights[ini][alpha][indexSim]\n",
    "        end\n",
    "    end\n",
    "end\n",
    "\n",
    "sumWeights = sum(sumWeights)"
   ]
  },
  {
   "cell_type": "code",
   "execution_count": null,
   "metadata": {},
   "outputs": [],
   "source": [
    "averageComp = Dict{Tuple,Float64}((i,j) => 0 for i in 1:M for j in 1:M if i > j)\n",
    "                \n",
    "for (ini, iniDict) = pop_runs\n",
    "    println(ini)\n",
    "    for (alpha, alphaArray) = iniDict\n",
    "        println(alpha)\n",
    "        for (indexSim, sim) = enumerate(alphaArray)\n",
    "            for (indexPop, pop) in enumerate(sim[\"pop\"])\n",
    "                graph = pop.graph\n",
    "                competition = pop.competition\n",
    "                for nodeA in 2:M\n",
    "                    for nodeB in 1:M\n",
    "                        if nodeA > nodeB && competition[nodeA] == competition[nodeB]\n",
    "                            averageComp[(nodeA,nodeB)] += popWeights[ini][alpha][indexSim][indexPop]\n",
    "                        end\n",
    "                    end\n",
    "                end\n",
    "            end\n",
    "        end\n",
    "    end\n",
    "end\n",
    "\n",
    "# Remove null values\n",
    "averageComp = Dict(c => v/sumWeights for (c,v) in averageComp if v > 0)"
   ]
  },
  {
   "cell_type": "code",
   "execution_count": null,
   "metadata": {
    "scrolled": true
   },
   "outputs": [],
   "source": [
    "# Cumulated weights of the graph having each edge\n",
    "averageEdges = Dict{Tuple,Float64}((i,j) => 0 for i in 1:M for j in 1:M if i != j)\n",
    "\n",
    "for (ini, iniDict) = pop_runs\n",
    "    println(ini)\n",
    "    for (alpha, alphaArray) = iniDict\n",
    "        println(alpha)\n",
    "        for (indexSim, sim) = enumerate(alphaArray)\n",
    "            for (indexPop, pop) in enumerate(sim[\"pop\"])\n",
    "                for c = edges(pop.graph)\n",
    "                    # Edge's nodes are always sorted\n",
    "                    averageEdges[Tuple(c)] += popWeights[ini][alpha][indexSim][indexPop]\n",
    "                end\n",
    "            end\n",
    "        end\n",
    "    end\n",
    "end\n",
    "                \n",
    "# Remove null values\n",
    "averageEdges = Dict(c => v/sumWeights for (c,v) in averageEdges if v != 0)"
   ]
  },
  {
   "cell_type": "code",
   "execution_count": null,
   "metadata": {
    "collapsed": true
   },
   "outputs": [],
   "source": [
    "fileGML = open(\"PBAF_average_structure_v2.gml\", \"w\")\n",
    "saveLabeledGml(fileGML, bestStructure.graph, bestStructure.nodes, averageEdges, averageComp)\n",
    "close(fileGML)"
   ]
  },
  {
   "cell_type": "code",
   "execution_count": null,
   "metadata": {},
   "outputs": [],
   "source": [
    "alphaOrderUnits"
   ]
  },
  {
   "cell_type": "code",
   "execution_count": null,
   "metadata": {},
   "outputs": [],
   "source": [
    "averageMat = Array{Float64}(M,M)\n",
    "averageMat .= 0\n",
    "\n",
    "# Alphabetical order of units\n",
    "alphaOrderUnits = Dict(v => i for (i,v) in enumerate(sort([v for (k,v) in bestStructure.nodes])))\n",
    "aoUnit = function(x::Int64)\n",
    "    return(alphaOrderUnits[bestStructure.nodes[x]])\n",
    "end\n",
    "\n",
    "# Fill competition under the diagonal of the matrix\n",
    "# i.e. x < y\n",
    "for (t,v) = averageComp\n",
    "    x,y = sort(aoUnit.(collect(t)))\n",
    "    averageMat[x,y] = v\n",
    "end\n",
    "\n",
    "# Fill connections above the diagonal of the matrix\n",
    "# i.e. x > y\n",
    "for (t,v) = averageEdges\n",
    "    y,x = sort(aoUnit.(collect(t)))\n",
    "    averageMat[x,y] = -v\n",
    "end\n",
    "\n",
    "traceAverage = heatmap(\n",
    "    x=sort([v for (k,v) in bestStructure.nodes]),\n",
    "    y=sort([v for (k,v) in bestStructure.nodes]),\n",
    "    z=averageMat)\n",
    "alphaOrderUnits\n",
    "styleAverage = Style(global_trace=attr(colorscale=[[0, \"rgb(0,140,160)\"],\n",
    "            [minimum(averageMat)/(minimum(averageMat)-maximum(averageMat)), \"rgb(255,255,255)\"], [1, \"rgb(210,50,60)\"]]))\n",
    "layoutAverage = Layout(;margin_l = 90, margin_t = 5, margin_b = 80, yaxis_title=\"\", xaxis_tickangle = -45,\n",
    "    xaxis_title = \"<b>Interaction</b>\", yaxis_title = \"<b>Competition</b>\", font_family=\"arial\", font_size=10)\n",
    "\n",
    "p = plot(traceAverage, layoutAverage, style=styleAverage)"
   ]
  },
  {
   "cell_type": "code",
   "execution_count": null,
   "metadata": {},
   "outputs": [],
   "source": [
    "averageMat = Array{Float64}(M,M)\n",
    "averageMat .= 0\n",
    "\n",
    "# Alphabetical order of units\n",
    "alphaOrderUnits = Dict(v => i for (i,v) in enumerate(sort([v for (k,v) in bestStructure.nodes])))\n",
    "aoUnit = function(x::Int64)\n",
    "    return(alphaOrderUnits[bestStructure.nodes[x]])\n",
    "end\n",
    "\n",
    "# Fill competition under the diagonal of the matrix\n",
    "# i.e. x < y\n",
    "for (t,v) = averageComp\n",
    "    x,y = sort(aoUnit.(collect(t)))\n",
    "    averageMat[x,y] = v\n",
    "end\n",
    "\n",
    "# Fill connections above the diagonal of the matrix\n",
    "# i.e. x > y\n",
    "for (t,v) = averageEdges\n",
    "    y,x = sort(aoUnit.(collect(t)))\n",
    "    averageMat[x,y] = -v\n",
    "end\n",
    "\n",
    "traceAverage = heatmap(\n",
    "    x=sort([v for (k,v) in bestStructure.nodes]),\n",
    "    y=sort([v for (k,v) in bestStructure.nodes]),\n",
    "    z=averageMat)\n",
    "\n",
    "styleAverage = Style(global_trace=attr(colorscale=[[0, \"rgb(0,140,160)\"],\n",
    "            [minimum(averageMat)/(minimum(averageMat)-maximum(averageMat)), \"rgb(255,255,255)\"], [1, \"rgb(210,50,60)\"]]))\n",
    "layoutAverage = Layout(;margin_l = 90, margin_t = 5, margin_b = 80, yaxis_title=\"\", xaxis_tickangle = -45,\n",
    "    xaxis_title = \"<b>Interaction</b>\", yaxis_title = \"<b>Competition</b>\", font_family=\"arial\", font_size=10)\n",
    "\n",
    "p = plot(traceAverage, layoutAverage, style=styleAverage)"
   ]
  },
  {
   "cell_type": "code",
   "execution_count": null,
   "metadata": {
    "scrolled": true
   },
   "outputs": [],
   "source": [
    "savefig(p, \"pbaf_matrix_v2.svg\")"
   ]
  },
  {
   "cell_type": "code",
   "execution_count": null,
   "metadata": {},
   "outputs": [],
   "source": [
    "minimum(averageMat)"
   ]
  },
  {
   "cell_type": "code",
   "execution_count": null,
   "metadata": {
    "collapsed": true
   },
   "outputs": [],
   "source": [
    "# Get minimal and maximal fitnesses\n",
    "minWeight, maxWeight = (1,0)\n",
    "\n",
    "for (ini, iniDict) = pop_runs\n",
    "    # Store weights for all alpha thresholds\n",
    "    println(ini)\n",
    "    for (alpha, alphaArray) = iniDict\n",
    "        # Store weights for each simulation\n",
    "        println(alpha)\n",
    "        for (indexSim, sim) = enumerate(alphaArray)\n",
    "            mini = minimum(popWeights[ini][alpha][indexSim])\n",
    "            Maxi = maximum(popWeights[ini][alpha][indexSim])\n",
    "            minWeight = (mini < minWeight) ? mini : minWeight\n",
    "            maxWeight = (Maxi > maxWeight) ? Maxi : maxWeight\n",
    "        end\n",
    "    end\n",
    "end"
   ]
  },
  {
   "cell_type": "code",
   "execution_count": null,
   "metadata": {
    "collapsed": true
   },
   "outputs": [],
   "source": [
    "versioninfo()"
   ]
  },
  {
   "cell_type": "code",
   "execution_count": null,
   "metadata": {
    "collapsed": true
   },
   "outputs": [],
   "source": [
    "Pkg.status()"
   ]
  },
  {
   "cell_type": "code",
   "execution_count": null,
   "metadata": {},
   "outputs": [],
   "source": [
    "using JLD\n",
    "\n",
    "outprl = load(\"outputprs.jld\")"
   ]
  },
  {
   "cell_type": "code",
   "execution_count": null,
   "metadata": {},
   "outputs": [],
   "source": [
    "bestFitness, indexBestGraph = findmax(map(x -> observedLoss(x)[1], outprl[\"pop\"]))\n",
    "bestStructure = outprl[\"pop\"][indexBestGraph]\n",
    "bestPulldown = structureToPulldown(bestStructure)"
   ]
  },
  {
   "cell_type": "code",
   "execution_count": null,
   "metadata": {},
   "outputs": [],
   "source": [
    "focusBAFko = [e for e in studyBAFko if e in studyBAFunits]\n",
    "focusBAFpd = sort(studyBAFpd)\n",
    "\n",
    "pdSimData = zeros(length(studyBAFpd), length(focusBAFko))\n",
    "\n",
    "for e in edges(bestPulldown.graph)\n",
    "    k, v = Tuple(e)\n",
    "    \n",
    "    # What type / value for the edge?\n",
    "    t = bestPulldown.edges[(k,v)] == \"inhibits\" ? -1 : 1\n",
    "    \n",
    "    # Which cell should we fill?\n",
    "    indexKO = findfirst(focusBAFko, bestPulldown.nodes[k])\n",
    "    indexPD = findfirst(focusBAFpd, bestPulldown.nodes[v])\n",
    "                \n",
    "    pdSimData[indexPD, indexKO] = t\n",
    "end\n",
    "\n",
    "pdSimData"
   ]
  },
  {
   "cell_type": "code",
   "execution_count": null,
   "metadata": {
    "scrolled": false
   },
   "outputs": [],
   "source": [
    "tracePdHeatmap = heatmap(\n",
    "    x=studyBAFpd,\n",
    "    y=focusBAFko, # NB: filter genes outside of BAF complex\n",
    "    z=pdSimData\n",
    ")\n",
    "\n",
    "stylePdHeatmap = Style(global_trace=attr(colorscale=[[0, \"rgb(0,0,255)\"], [0.5, \"rgb(255,255,255)\"], [1, \"rgb(255,0,0)\"]]))\n",
    "layoutPdHeatmap = Layout(;margin_l = 100, margin_t = 20, yaxis_title=\"<b>Knocked-out gene</b>\", xaxis_title = \"<b>BAF subunit</b>\")\n",
    "plot(tracePdHeatmap, layoutPdHeatmap, style=stylePdHeatmap)"
   ]
  },
  {
   "cell_type": "code",
   "execution_count": null,
   "metadata": {
    "scrolled": true
   },
   "outputs": [],
   "source": [
    "plot(traceBrg, layoutBrg, style=styleBrg)"
   ]
  },
  {
   "cell_type": "code",
   "execution_count": null,
   "metadata": {},
   "outputs": [],
   "source": [
    "bestFitness"
   ]
  }
 ],
 "metadata": {
  "kernelspec": {
   "display_name": "Julia 0.6.2",
   "language": "julia",
   "name": "julia-0.6"
  },
  "language_info": {
   "file_extension": ".jl",
   "mimetype": "application/julia",
   "name": "julia",
   "version": "0.6.2"
  }
 },
 "nbformat": 4,
 "nbformat_minor": 2
}
